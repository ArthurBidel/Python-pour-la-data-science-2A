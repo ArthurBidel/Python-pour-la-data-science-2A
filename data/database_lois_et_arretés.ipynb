{
 "cells": [
  {
   "cell_type": "code",
   "execution_count": 1,
   "metadata": {},
   "outputs": [],
   "source": [
    "import pandas as pd"
   ]
  },
  {
   "cell_type": "code",
   "execution_count": 2,
   "metadata": {},
   "outputs": [],
   "source": [
    "# Chemin vers le fichier CSV\n",
    "chemin_fichier = \"resultats_legifrance_loda.csv\"\n",
    "df_loda = pd.read_csv(chemin_fichier)"
   ]
  },
  {
   "cell_type": "code",
   "execution_count": 3,
   "metadata": {},
   "outputs": [
    {
     "data": {
      "text/html": [
       "<div>\n",
       "<style scoped>\n",
       "    .dataframe tbody tr th:only-of-type {\n",
       "        vertical-align: middle;\n",
       "    }\n",
       "\n",
       "    .dataframe tbody tr th {\n",
       "        vertical-align: top;\n",
       "    }\n",
       "\n",
       "    .dataframe thead th {\n",
       "        text-align: right;\n",
       "    }\n",
       "</style>\n",
       "<table border=\"1\" class=\"dataframe\">\n",
       "  <thead>\n",
       "    <tr style=\"text-align: right;\">\n",
       "      <th></th>\n",
       "      <th>Titre</th>\n",
       "      <th>ID</th>\n",
       "      <th>Date</th>\n",
       "      <th>Nature</th>\n",
       "      <th>Etat</th>\n",
       "      <th>Origine</th>\n",
       "      <th>Date Publication</th>\n",
       "    </tr>\n",
       "  </thead>\n",
       "  <tbody>\n",
       "    <tr>\n",
       "      <th>8048</th>\n",
       "      <td>Arrêté du 5 juin 2009 relatif à l'utilisation ...</td>\n",
       "      <td>LEGITEXT000020750700_18-06-2009</td>\n",
       "      <td>2009-06-18T00:00:00.000+0000</td>\n",
       "      <td>ARRETE</td>\n",
       "      <td>VIGUEUR</td>\n",
       "      <td>LEGI</td>\n",
       "      <td>2009-06-17T00:00:00.000+0000</td>\n",
       "    </tr>\n",
       "  </tbody>\n",
       "</table>\n",
       "</div>"
      ],
      "text/plain": [
       "                                                  Titre  \\\n",
       "8048  Arrêté du 5 juin 2009 relatif à l'utilisation ...   \n",
       "\n",
       "                                   ID                          Date  Nature  \\\n",
       "8048  LEGITEXT000020750700_18-06-2009  2009-06-18T00:00:00.000+0000  ARRETE   \n",
       "\n",
       "         Etat Origine              Date Publication  \n",
       "8048  VIGUEUR    LEGI  2009-06-17T00:00:00.000+0000  "
      ]
     },
     "execution_count": 3,
     "metadata": {},
     "output_type": "execute_result"
    }
   ],
   "source": [
    "df_loda.sample()"
   ]
  },
  {
   "cell_type": "code",
   "execution_count": 4,
   "metadata": {},
   "outputs": [
    {
     "data": {
      "text/html": [
       "<div>\n",
       "<style scoped>\n",
       "    .dataframe tbody tr th:only-of-type {\n",
       "        vertical-align: middle;\n",
       "    }\n",
       "\n",
       "    .dataframe tbody tr th {\n",
       "        vertical-align: top;\n",
       "    }\n",
       "\n",
       "    .dataframe thead th {\n",
       "        text-align: right;\n",
       "    }\n",
       "</style>\n",
       "<table border=\"1\" class=\"dataframe\">\n",
       "  <thead>\n",
       "    <tr style=\"text-align: right;\">\n",
       "      <th></th>\n",
       "      <th>Titre</th>\n",
       "      <th>ID</th>\n",
       "      <th>Date</th>\n",
       "      <th>Nature</th>\n",
       "      <th>Etat</th>\n",
       "      <th>Origine</th>\n",
       "      <th>Date Publication</th>\n",
       "      <th>Mois</th>\n",
       "      <th>Année</th>\n",
       "    </tr>\n",
       "  </thead>\n",
       "  <tbody>\n",
       "    <tr>\n",
       "      <th>0</th>\n",
       "      <td>Arrêté du 31 août 2022 fixant les niveaux de p...</td>\n",
       "      <td>LEGITEXT000046244600_21-08-2023</td>\n",
       "      <td>2022-09-01 00:00:00+00:00</td>\n",
       "      <td>ARRETE</td>\n",
       "      <td>VIGUEUR</td>\n",
       "      <td>LEGI</td>\n",
       "      <td>2022-09-01T00:00:00.000+0000</td>\n",
       "      <td>09</td>\n",
       "      <td>2022</td>\n",
       "    </tr>\n",
       "    <tr>\n",
       "      <th>1</th>\n",
       "      <td>Arrêté du 30 août 2022 portant création de la ...</td>\n",
       "      <td>LEGITEXT000046664861_28-08-2023</td>\n",
       "      <td>2022-12-02 00:00:00+00:00</td>\n",
       "      <td>ARRETE</td>\n",
       "      <td>VIGUEUR</td>\n",
       "      <td>LEGI</td>\n",
       "      <td>2022-12-01T00:00:00.000+0000</td>\n",
       "      <td>12</td>\n",
       "      <td>2022</td>\n",
       "    </tr>\n",
       "    <tr>\n",
       "      <th>2</th>\n",
       "      <td>Arrêté du 30 août 2022 portant création de la ...</td>\n",
       "      <td>LEGITEXT000046664861_02-12-2022</td>\n",
       "      <td>2022-12-02 00:00:00+00:00</td>\n",
       "      <td>ARRETE</td>\n",
       "      <td>VIGUEUR</td>\n",
       "      <td>LEGI</td>\n",
       "      <td>2022-12-01T00:00:00.000+0000</td>\n",
       "      <td>12</td>\n",
       "      <td>2022</td>\n",
       "    </tr>\n",
       "    <tr>\n",
       "      <th>3</th>\n",
       "      <td>Arrêté du 29 août 2022 portant création de la ...</td>\n",
       "      <td>LEGITEXT000046666903_02-12-2022</td>\n",
       "      <td>2022-12-02 00:00:00+00:00</td>\n",
       "      <td>ARRETE</td>\n",
       "      <td>VIGUEUR</td>\n",
       "      <td>LEGI</td>\n",
       "      <td>2022-12-01T00:00:00.000+0000</td>\n",
       "      <td>12</td>\n",
       "      <td>2022</td>\n",
       "    </tr>\n",
       "    <tr>\n",
       "      <th>4</th>\n",
       "      <td>Arrêté du 22 août 2022 fixant la liste des pos...</td>\n",
       "      <td>LEGITEXT000046230032_21-11-2022</td>\n",
       "      <td>2022-09-01 00:00:00+00:00</td>\n",
       "      <td>ARRETE</td>\n",
       "      <td>VIGUEUR</td>\n",
       "      <td>LEGI</td>\n",
       "      <td>2022-08-31T00:00:00.000+0000</td>\n",
       "      <td>09</td>\n",
       "      <td>2022</td>\n",
       "    </tr>\n",
       "  </tbody>\n",
       "</table>\n",
       "</div>"
      ],
      "text/plain": [
       "                                               Titre  \\\n",
       "0  Arrêté du 31 août 2022 fixant les niveaux de p...   \n",
       "1  Arrêté du 30 août 2022 portant création de la ...   \n",
       "2  Arrêté du 30 août 2022 portant création de la ...   \n",
       "3  Arrêté du 29 août 2022 portant création de la ...   \n",
       "4  Arrêté du 22 août 2022 fixant la liste des pos...   \n",
       "\n",
       "                                ID                      Date  Nature     Etat  \\\n",
       "0  LEGITEXT000046244600_21-08-2023 2022-09-01 00:00:00+00:00  ARRETE  VIGUEUR   \n",
       "1  LEGITEXT000046664861_28-08-2023 2022-12-02 00:00:00+00:00  ARRETE  VIGUEUR   \n",
       "2  LEGITEXT000046664861_02-12-2022 2022-12-02 00:00:00+00:00  ARRETE  VIGUEUR   \n",
       "3  LEGITEXT000046666903_02-12-2022 2022-12-02 00:00:00+00:00  ARRETE  VIGUEUR   \n",
       "4  LEGITEXT000046230032_21-11-2022 2022-09-01 00:00:00+00:00  ARRETE  VIGUEUR   \n",
       "\n",
       "  Origine              Date Publication Mois Année  \n",
       "0    LEGI  2022-09-01T00:00:00.000+0000   09  2022  \n",
       "1    LEGI  2022-12-01T00:00:00.000+0000   12  2022  \n",
       "2    LEGI  2022-12-01T00:00:00.000+0000   12  2022  \n",
       "3    LEGI  2022-12-01T00:00:00.000+0000   12  2022  \n",
       "4    LEGI  2022-08-31T00:00:00.000+0000   09  2022  "
      ]
     },
     "execution_count": 4,
     "metadata": {},
     "output_type": "execute_result"
    }
   ],
   "source": [
    "df_loda['Date'] = pd.to_datetime(df_loda['Date'])\n",
    "\n",
    "# On ajoute la colonne mois et l'année via la variable Date (On a arbitrairement écarté Date Publication car les écarts sont de quelques jours uniquement)\n",
    "df_loda['Mois'] = df_loda['Date'].dt.month.apply(lambda x: f'{x:02}')\n",
    "df_loda['Année'] = df_loda['Date'].dt.year.astype(str)\n",
    "\n",
    "df_loda.head()"
   ]
  },
  {
   "cell_type": "code",
   "execution_count": 6,
   "metadata": {},
   "outputs": [
    {
     "name": "stdout",
     "output_type": "stream",
     "text": [
      "Valeurs uniques dans la colonne 'année' :\n",
      "['2022' '2023' '2024' '2021' '2020' '2019' '2222' '2018' '2017' '2016'\n",
      " '2015' '2014' '2013' '2012' '2011' '2010' '2009' '2008' '2007' '2006']\n",
      "\n",
      "Valeurs uniques dans la colonne 'mois' :\n",
      "['09' '12' '08' '10' '07' '01' '05' '06' '04' '03' '02' '11']\n"
     ]
    }
   ],
   "source": [
    "print(\"Valeurs uniques dans la colonne 'année' :\")\n",
    "print(df_loda['Année'].unique())\n",
    "\n",
    "# Valeurs uniques pour la colonne 'mois'\n",
    "print(\"\\nValeurs uniques dans la colonne 'mois' :\")\n",
    "print(df_loda['Mois'].unique())"
   ]
  },
  {
   "cell_type": "code",
   "execution_count": 7,
   "metadata": {},
   "outputs": [],
   "source": [
    "df_loda['Date'] = pd.to_datetime(df_loda['Date'])"
   ]
  },
  {
   "cell_type": "code",
   "execution_count": 9,
   "metadata": {},
   "outputs": [
    {
     "name": "stdout",
     "output_type": "stream",
     "text": [
      "2006-12-30 00:00:00+00:00\n",
      "2222-02-22 00:00:00+00:00\n"
     ]
    }
   ],
   "source": [
    "# Trouver la date la plus ancienne\n",
    "date_min = df_loda['Date'].min()\n",
    "\n",
    "# Trouver la date la plus récente\n",
    "date_max = df_loda['Date'].max()\n",
    "\n",
    "print(date_min)\n",
    "print(date_max)"
   ]
  },
  {
   "cell_type": "code",
   "execution_count": 11,
   "metadata": {},
   "outputs": [
    {
     "name": "stdout",
     "output_type": "stream",
     "text": [
      "    Année Mois  Total_Textes\n",
      "0    2006   12            39\n",
      "1    2007   01            20\n",
      "2    2007   02            71\n",
      "3    2007   03            46\n",
      "4    2007   04            25\n",
      "..    ...  ...           ...\n",
      "196  2023   07             2\n",
      "197  2024   04            11\n",
      "198  2024   07             5\n",
      "199  2024   11             2\n",
      "200  2222   02             2\n",
      "\n",
      "[201 rows x 3 columns]\n"
     ]
    }
   ],
   "source": [
    "# Nombre de textes par date\n",
    "grouped_total = df_loda.groupby([\"Année\", \"Mois\"]).size().reset_index(name=\"Total_Textes\")\n",
    "print(grouped_total)"
   ]
  },
  {
   "cell_type": "code",
   "execution_count": null,
   "metadata": {},
   "outputs": [],
   "source": [
    "'''\n",
    "fs = s3fs.S3FileSystem(client_kwargs={\"endpoint_url\": \"https://minio.lab.sspcloud.fr\"})\n",
    "\n",
    "MY_BUCKET = \"anhlinh\"\n",
    "fs.ls(MY_BUCKET)\n",
    "\n",
    "# Sauvegarde dans S3\n",
    "MY_BUCKET = \"anhlinh\"\n",
    "FILE_PATH_OUT_S3 = f\"{MY_BUCKET}/diffusion/______.csv\"\n",
    "\n",
    "with fs.open(FILE_PATH_OUT_S3, \"w\") as file_out:\n",
    "    _______.to_csv(file_out)\n",
    "\n",
    "# Sauvegarde dans S3\n",
    "MY_BUCKET = \"anhlinh\"\n",
    "FILE_PATH_OUT_S3 = f\"{MY_BUCKET}/diffusion/_______.csv\"\n",
    "\n",
    "with fs.open(FILE_PATH_OUT_S3, \"w\") as file_out:\n",
    "    ______.to_csv(file_out)\n",
    "\n",
    "fs.ls(f\"{MY_BUCKET}/diffusion\")\n",
    "'''"
   ]
  }
 ],
 "metadata": {
  "kernelspec": {
   "display_name": "base",
   "language": "python",
   "name": "python3"
  },
  "language_info": {
   "codemirror_mode": {
    "name": "ipython",
    "version": 3
   },
   "file_extension": ".py",
   "mimetype": "text/x-python",
   "name": "python",
   "nbconvert_exporter": "python",
   "pygments_lexer": "ipython3",
   "version": "3.12.7"
  }
 },
 "nbformat": 4,
 "nbformat_minor": 2
}
