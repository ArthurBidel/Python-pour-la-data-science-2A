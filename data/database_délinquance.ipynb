{
 "cells": [
  {
   "cell_type": "markdown",
   "metadata": {},
   "source": [
    "# Base de données répertoriant les indicateurs de délinquance et de criminalité (1996-2022 en France)"
   ]
  },
  {
   "cell_type": "markdown",
   "metadata": {},
   "source": [
    "(NB : Les liens hypertextes présent dans ce markdown et les suivant renvoient aux sites internet sur lesquelles les tableaux de données ont été téléchargées et ne correspondent pas aux URL de téléchargement, l'exécution des cellules de code permet de télécharger automatiquement les jeu de données)\n",
    "\n",
    "Nous avons récupéré, grâce à l'open data du ministère de l'intérieur ([ici](https://www.data.gouv.fr/fr/datasets/chiffres-departementaux-mensuels-relatifs-aux-crimes-et-delits-enregistres-par-les-services-de-police-et-de-gendarmerie-depuis-janvier-1996/)) les données relatives aux crimes et délit enregistrés dans chaque département et en France entre janvier 1996 et août 2022. Ce jeu de données a été produit successivement par le Ministère de l'Intérieur puis par le SSMSI depuis sa création en 2014. \n",
    "\n",
    "Issu directement des applications informatiques de gestion, il n'est pas retraité et reste assez brut. Entre autre, il ne nous donne accès qu'au nombre d'infractions (classées par type) par département, nous l'avons donc complété avec des données d'estimation de population pour obtenir des taux d'infractions plutôt que des chiffres bruts. Nous avons ensuite ajoutée à notre base de données d'indices de localisation pour nous permettre de réaliser des représentations géographiques dans notre partie de statistiques descriptives.\n",
    "\n",
    "L'exécution des codes prenant parfois plusieurs minutes, les bases de données finales produites ici sont sauvegardées dans le dossier *data_police* au format excel ou csv."
   ]
  },
  {
   "cell_type": "markdown",
   "metadata": {},
   "source": [
    "### Récupération et nettoyage des données du Ministère de l'Intérieur relative aux crimes et délits\n"
   ]
  },
  {
   "cell_type": "code",
   "execution_count": 41,
   "metadata": {},
   "outputs": [],
   "source": [
    "import requests\n",
    "import pandas as pd\n",
    "import os\n",
    "import zipfile"
   ]
  },
  {
   "cell_type": "code",
   "execution_count": 42,
   "metadata": {},
   "outputs": [
    {
     "name": "stdout",
     "output_type": "stream",
     "text": [
      "Requirement already satisfied: openpyxl in /opt/conda/lib/python3.12/site-packages (3.1.5)\n",
      "Requirement already satisfied: et-xmlfile in /opt/conda/lib/python3.12/site-packages (from openpyxl) (2.0.0)\n",
      "Note: you may need to restart the kernel to use updated packages.\n"
     ]
    }
   ],
   "source": [
    "%pip install openpyxl"
   ]
  },
  {
   "cell_type": "code",
   "execution_count": 43,
   "metadata": {},
   "outputs": [
    {
     "name": "stdout",
     "output_type": "stream",
     "text": [
      "Téléchargement en cours...\n"
     ]
    },
    {
     "name": "stdout",
     "output_type": "stream",
     "text": [
      "Téléchargement terminé: data_police/fichier.xlsx\n",
      "Chargement des onglets dans des DataFrames...\n",
      "\n",
      "DataFrame combiné avec tous les onglets :\n",
      "       Index                                      libellé index  _2022_08  \\\n",
      "0          1             Règlements de compte entre malfaiteurs        14   \n",
      "1          2       Homicides pour voler et à l'occasion de vols         2   \n",
      "2          3                     Homicides pour d'autres motifs        88   \n",
      "3          4  Tentatives d'homicides pour voler et à l'occas...        15   \n",
      "4          5          Tentatives homicides pour d'autres motifs       315   \n",
      "...      ...                                                ...       ...   \n",
      "11658    103  Infractions à l'exercice d'une profession règl...         3   \n",
      "11659    104  Infractions au droit de l'urbanisme et de la c...         2   \n",
      "11660    105                                   Fraudes fiscales         0   \n",
      "11661    106            Autres délits économiques et financiers         6   \n",
      "11662    107                                      Autres délits        66   \n",
      "\n",
      "       _2022_07  _2022_06  _2022_05  _2022_04  _2022_03  _2022_02  _2022_01  \\\n",
      "0            16        13        15         5        15        17         5   \n",
      "1             3         3         4         3         4         3         2   \n",
      "2            79        65        91        70        93        56        79   \n",
      "3            14         9         9         8         8         9        25   \n",
      "4           315       373       339       285       321       247       252   \n",
      "...         ...       ...       ...       ...       ...       ...       ...   \n",
      "11658         0         1         1         0         0         0         1   \n",
      "11659         0         0         0         0         0         2         0   \n",
      "11660         0         0         0         0         0         1         0   \n",
      "11661         8         3         5         2         4         2         1   \n",
      "11662        75        54        54        67        72        67        55   \n",
      "\n",
      "       ...  _1996_10  _1996_09  _1996_08  _1996_07  _1996_06  _1996_05  \\\n",
      "0      ...       NaN       NaN       NaN       NaN       NaN       NaN   \n",
      "1      ...       NaN       NaN       NaN       NaN       NaN       NaN   \n",
      "2      ...       NaN       NaN       NaN       NaN       NaN       NaN   \n",
      "3      ...       NaN       NaN       NaN       NaN       NaN       NaN   \n",
      "4      ...       NaN       NaN       NaN       NaN       NaN       NaN   \n",
      "...    ...       ...       ...       ...       ...       ...       ...   \n",
      "11658  ...       NaN       NaN       NaN       NaN       NaN       NaN   \n",
      "11659  ...       NaN       NaN       NaN       NaN       NaN       NaN   \n",
      "11660  ...       NaN       NaN       NaN       NaN       NaN       NaN   \n",
      "11661  ...       NaN       NaN       NaN       NaN       NaN       NaN   \n",
      "11662  ...       NaN       NaN       NaN       NaN       NaN       NaN   \n",
      "\n",
      "       _1996_04  _1996_03  _1996_02  _1996_01  \n",
      "0           NaN       NaN       NaN       NaN  \n",
      "1           NaN       NaN       NaN       NaN  \n",
      "2           NaN       NaN       NaN       NaN  \n",
      "3           NaN       NaN       NaN       NaN  \n",
      "4           NaN       NaN       NaN       NaN  \n",
      "...         ...       ...       ...       ...  \n",
      "11658       NaN       NaN       NaN       NaN  \n",
      "11659       NaN       NaN       NaN       NaN  \n",
      "11660       NaN       NaN       NaN       NaN  \n",
      "11661       NaN       NaN       NaN       NaN  \n",
      "11662       NaN       NaN       NaN       NaN  \n",
      "\n",
      "[11663 rows x 323 columns]\n",
      "Fichier téléchargé supprimé.\n"
     ]
    }
   ],
   "source": [
    "# URL de téléchargement du fichier\n",
    "url = \"https://static.data.gouv.fr/resources/chiffres-departementaux-mensuels-relatifs-aux-crimes-et-delits-enregistres-par-les-services-de-police-et-de-gendarmerie-depuis-janvier-1996/20221031-102847/tableaux-4001-ts.xlsx\" \n",
    "\n",
    "# Dossier de destination pour enregistrer le fichier téléchargé\n",
    "dossier_destination = \"data_police\"\n",
    "os.makedirs(dossier_destination, exist_ok=True)\n",
    "\n",
    "# Chemin du fichier téléchargé\n",
    "fichier_telecharge = os.path.join(dossier_destination, \"fichier.xlsx\")\n",
    "\n",
    "# Téléchargement du fichier\n",
    "print(\"Téléchargement en cours...\")\n",
    "response = requests.get(url, stream=True)\n",
    "with open(fichier_telecharge, \"wb\") as file:\n",
    "    for chunk in response.iter_content(chunk_size=8192):\n",
    "        file.write(chunk)\n",
    "print(\"Téléchargement terminé:\", fichier_telecharge)\n",
    "\n",
    "# Chargement des onglets du fichier Excel en DataFrames\n",
    "print(\"Chargement des onglets dans des DataFrames...\")\n",
    "data = pd.read_excel(fichier_telecharge, sheet_name=None)  # `sheet_name=None` charge tous les onglets\n",
    "\n",
    "# Fusion des onglets dans un unique DataFrame avec une colonne pour identifier le département (ou la zone)\n",
    "données_police = pd.concat(\n",
    "    [df.assign(Zone=nom_onglet) for nom_onglet, df in data.items()],\n",
    "    ignore_index=True\n",
    ")\n",
    "\n",
    "# Affichage du DataFrame combiné\n",
    "print(\"\\nDataFrame combiné avec tous les onglets :\")\n",
    "print(données_police)\n",
    "\n",
    "'''\n",
    "# Sauvegarde du DataFrame combiné dans un fichier Excel\n",
    "excel_output_path = os.path.join(dossier_destination, \"données police.xlsx\")\n",
    "données_police.to_excel(excel_output_path, index=False)\n",
    "\n",
    "print(f\"Le DataFrame combiné a été sauvegardé dans : {excel_output_path}\")\n",
    "'''\n",
    "\n",
    "# Suppression du fichier téléchargé \n",
    "os.remove(fichier_telecharge)\n",
    "print(\"Fichier téléchargé supprimé.\")"
   ]
  },
  {
   "cell_type": "markdown",
   "metadata": {},
   "source": [
    "On sépare notre premier jeu de données (données police) en deux pour obtenir une base de données départementale et une base nationale.\n"
   ]
  },
  {
   "cell_type": "code",
   "execution_count": 44,
   "metadata": {},
   "outputs": [
    {
     "name": "stdout",
     "output_type": "stream",
     "text": [
      "DataFrame la France entière:\n",
      "     Index                                      libellé index  _2022_08  \\\n",
      "0        1             Règlements de compte entre malfaiteurs        14   \n",
      "1        2       Homicides pour voler et à l'occasion de vols         2   \n",
      "2        3                     Homicides pour d'autres motifs        88   \n",
      "3        4  Tentatives d'homicides pour voler et à l'occas...        15   \n",
      "4        5          Tentatives homicides pour d'autres motifs       315   \n",
      "..     ...                                                ...       ...   \n",
      "209    103  Infractions à l'exercice d'une profession règl...       130   \n",
      "210    104  Infractions au droit de l'urbanisme et de la c...       328   \n",
      "211    105                                   Fraudes fiscales        62   \n",
      "212    106            Autres délits économiques et financiers      1168   \n",
      "213    107                                      Autres délits     13941   \n",
      "\n",
      "     _2022_07  _2022_06  _2022_05  _2022_04  _2022_03  _2022_02  _2022_01  \\\n",
      "0          16        13        15         5        15        17         5   \n",
      "1           3         3         4         3         4         3         2   \n",
      "2          79        65        91        70        93        56        79   \n",
      "3          14         9         9         8         8         9        25   \n",
      "4         315       373       339       285       321       247       252   \n",
      "..        ...       ...       ...       ...       ...       ...       ...   \n",
      "209        95       121       130        96       108        99        93   \n",
      "210       302       329       360       399       473       381       436   \n",
      "211        53        64        56        71        81        57        73   \n",
      "212      1205      1401      1435      1506      1778      1240      1342   \n",
      "213     14161     13940     14653     13767     15641     13732     13839   \n",
      "\n",
      "     ...  _1996_10  _1996_09  _1996_08  _1996_07  _1996_06  _1996_05  \\\n",
      "0    ...       NaN       NaN       NaN       NaN       NaN       NaN   \n",
      "1    ...       NaN       NaN       NaN       NaN       NaN       NaN   \n",
      "2    ...       NaN       NaN       NaN       NaN       NaN       NaN   \n",
      "3    ...       NaN       NaN       NaN       NaN       NaN       NaN   \n",
      "4    ...       NaN       NaN       NaN       NaN       NaN       NaN   \n",
      "..   ...       ...       ...       ...       ...       ...       ...   \n",
      "209  ...      88.0      63.0      94.0      70.0      92.0      99.0   \n",
      "210  ...     360.0     290.0     329.0     352.0     346.0     277.0   \n",
      "211  ...      79.0      62.0      30.0      63.0      61.0      70.0   \n",
      "212  ...     169.0     176.0     226.0     214.0     212.0     168.0   \n",
      "213  ...    4521.0    3938.0    3642.0    4230.0    4120.0    3987.0   \n",
      "\n",
      "     _1996_04  _1996_03  _1996_02  _1996_01  \n",
      "0         NaN       NaN       NaN       NaN  \n",
      "1         NaN       NaN       NaN       NaN  \n",
      "2         NaN       NaN       NaN       NaN  \n",
      "3         NaN       NaN       NaN       NaN  \n",
      "4         NaN       NaN       NaN       NaN  \n",
      "..        ...       ...       ...       ...  \n",
      "209      87.0     115.0     116.0      61.0  \n",
      "210     289.0     294.0     243.0     156.0  \n",
      "211      54.0      62.0      62.0      40.0  \n",
      "212     170.0     185.0     136.0     127.0  \n",
      "213    3806.0    3810.0    3421.0    3048.0  \n",
      "\n",
      "[214 rows x 323 columns]\n"
     ]
    },
    {
     "data": {
      "text/plain": [
       "'\\n#Sauvegarde un fichier Excel\\nexcel_output_path = os.path.join(dossier_destination, \"données france court.xlsx\")\\ndf_france_court.to_excel(excel_output_path, index=False)\\n\\nprint(f\"Le DataFrame combiné a été sauvegardé dans : {excel_output_path}\")\\n'"
      ]
     },
     "execution_count": 44,
     "metadata": {},
     "output_type": "execute_result"
    }
   ],
   "source": [
    "#Données pour la france entière\n",
    "df_france_court = données_police[données_police['Zone'].isin(['France_Entière', 'France_Métro'])]\n",
    "\n",
    "#Affichage\n",
    "print(\"DataFrame la France entière:\")\n",
    "print(df_france_court)\n",
    "\n",
    "'''\n",
    "#Sauvegarde un fichier Excel\n",
    "excel_output_path = os.path.join(dossier_destination, \"données france court.xlsx\")\n",
    "df_france_court.to_excel(excel_output_path, index=False)\n",
    "\n",
    "print(f\"Le DataFrame combiné a été sauvegardé dans : {excel_output_path}\")\n",
    "'''"
   ]
  },
  {
   "cell_type": "code",
   "execution_count": 45,
   "metadata": {},
   "outputs": [
    {
     "name": "stdout",
     "output_type": "stream",
     "text": [
      "DataFrame sans France entière ni France Métro :\n",
      "       Index                                      libellé index  _2022_08  \\\n",
      "214        1             Règlements de compte entre malfaiteurs         0   \n",
      "215        2       Homicides pour voler et à l'occasion de vols         0   \n",
      "216        3                     Homicides pour d'autres motifs         0   \n",
      "217        4  Tentatives d'homicides pour voler et à l'occas...         0   \n",
      "218        5          Tentatives homicides pour d'autres motifs         0   \n",
      "...      ...                                                ...       ...   \n",
      "11658    103  Infractions à l'exercice d'une profession règl...         3   \n",
      "11659    104  Infractions au droit de l'urbanisme et de la c...         2   \n",
      "11660    105                                   Fraudes fiscales         0   \n",
      "11661    106            Autres délits économiques et financiers         6   \n",
      "11662    107                                      Autres délits        66   \n",
      "\n",
      "       _2022_07  _2022_06  _2022_05  _2022_04  _2022_03  _2022_02  _2022_01  \\\n",
      "214           0         0         0         0         0         0         0   \n",
      "215           0         0         0         0         0         0         0   \n",
      "216           3         0         0         1         0         0         0   \n",
      "217           1         0         0         0         0         0         0   \n",
      "218           4         0         1         1         0         1         0   \n",
      "...         ...       ...       ...       ...       ...       ...       ...   \n",
      "11658         0         1         1         0         0         0         1   \n",
      "11659         0         0         0         0         0         2         0   \n",
      "11660         0         0         0         0         0         1         0   \n",
      "11661         8         3         5         2         4         2         1   \n",
      "11662        75        54        54        67        72        67        55   \n",
      "\n",
      "       ...  _1996_10  _1996_09  _1996_08  _1996_07  _1996_06  _1996_05  \\\n",
      "214    ...       0.0       0.0       0.0       0.0       0.0       0.0   \n",
      "215    ...       0.0       0.0       0.0       0.0       0.0       0.0   \n",
      "216    ...       1.0       1.0       1.0       0.0       1.0       0.0   \n",
      "217    ...       0.0       0.0       0.0       0.0       0.0       0.0   \n",
      "218    ...       0.0       0.0       0.0       1.0       0.0       0.0   \n",
      "...    ...       ...       ...       ...       ...       ...       ...   \n",
      "11658  ...       NaN       NaN       NaN       NaN       NaN       NaN   \n",
      "11659  ...       NaN       NaN       NaN       NaN       NaN       NaN   \n",
      "11660  ...       NaN       NaN       NaN       NaN       NaN       NaN   \n",
      "11661  ...       NaN       NaN       NaN       NaN       NaN       NaN   \n",
      "11662  ...       NaN       NaN       NaN       NaN       NaN       NaN   \n",
      "\n",
      "       _1996_04  _1996_03  _1996_02  _1996_01  \n",
      "214         0.0       0.0       0.0       0.0  \n",
      "215         0.0       0.0       0.0       0.0  \n",
      "216         3.0       0.0       0.0       0.0  \n",
      "217         0.0       1.0       0.0       0.0  \n",
      "218         1.0       0.0       1.0       0.0  \n",
      "...         ...       ...       ...       ...  \n",
      "11658       NaN       NaN       NaN       NaN  \n",
      "11659       NaN       NaN       NaN       NaN  \n",
      "11660       NaN       NaN       NaN       NaN  \n",
      "11661       NaN       NaN       NaN       NaN  \n",
      "11662       NaN       NaN       NaN       NaN  \n",
      "\n",
      "[11449 rows x 323 columns]\n"
     ]
    },
    {
     "data": {
      "text/plain": [
       "'\\n# Sauvegarde dans un fichier Excel\\nexcel_output_path = os.path.join(dossier_destination, \"données départements court.xlsx\")\\ndf_dep_court.to_excel(excel_output_path, index=False)\\n\\nprint(f\"Le DataFrame combiné a été sauvegardé dans : {excel_output_path}\")\\n'"
      ]
     },
     "execution_count": 45,
     "metadata": {},
     "output_type": "execute_result"
    }
   ],
   "source": [
    "# Sélectionner les lignes où 'Onglet' n'est ni 'France_Entière' ni 'France_Métro'\n",
    "df_dep_court = données_police[~données_police['Zone'].isin(['France_Entière', 'France_Métro'])]\n",
    "\n",
    "# Affichage du dataframe obtenu\n",
    "print(\"DataFrame sans France entière ni France Métro :\")\n",
    "print(df_dep_court)\n",
    "\n",
    "'''\n",
    "# Sauvegarde dans un fichier Excel\n",
    "excel_output_path = os.path.join(dossier_destination, \"données départements court.xlsx\")\n",
    "df_dep_court.to_excel(excel_output_path, index=False)\n",
    "\n",
    "print(f\"Le DataFrame combiné a été sauvegardé dans : {excel_output_path}\")\n",
    "'''\n"
   ]
  },
  {
   "cell_type": "markdown",
   "metadata": {},
   "source": [
    "Le format des tableaux de données actuel indique les dates sur une ligne (voir ci-dessous). \n",
    "\n",
    "| Index  | Libellé | Zone | _2022_08 | _2022_07 | ... | _1996_01 |\n",
    "|-----------|----------|----------|----------|----------|----------|----------|\n",
    "| Type 1    | Libellé  1 | France | Valeur 1 | Valeur 3 | Valeur 5 | Valeur 8 |\n",
    "| Type 2    | Libellé  2 | France | Valeur 2 | Valeur 4 | Valeur 6 | Valeur 9 |\n",
    "\n",
    "Nous préférions avoir une colonne indiquant les dates car il nous semblait plus simple de filtrer par date et d'ajouter de nouvelle colonnes d'information ainsi (exemple ci-dessous).\n",
    "\n",
    "| Index | Libellé | Zone | Date |\n",
    "|-------|---------|------|------|\n",
    "| Type 1 | Libellé 1 | Zone a | _2022_08 |\n",
    "| Type 2 | Libellé 2 | Zone a | _2022_08 |\n",
    "| ... | ... | ... | ... |\n",
    "| Type 1 | Libellé 1 | Zone f | _2012_05 |\n",
    "| ... | ... | ... | ... |\n",
    "| Type 34 | Libellé 34 | Zone z | _1996_01 |\n",
    "\n",
    "Nous avons donc restructurer les deux tableaux de données (df_france_court et df_dep_court) en format long.\n"
   ]
  },
  {
   "cell_type": "code",
   "execution_count": 46,
   "metadata": {},
   "outputs": [
    {
     "name": "stdout",
     "output_type": "stream",
     "text": [
      "       Index                                      libellé index  \\\n",
      "0          1             Règlements de compte entre malfaiteurs   \n",
      "1          2       Homicides pour voler et à l'occasion de vols   \n",
      "2          3                     Homicides pour d'autres motifs   \n",
      "3          4  Tentatives d'homicides pour voler et à l'occas...   \n",
      "4          5          Tentatives homicides pour d'autres motifs   \n",
      "...      ...                                                ...   \n",
      "68475    103  Infractions à l'exercice d'une profession règl...   \n",
      "68476    104  Infractions au droit de l'urbanisme et de la c...   \n",
      "68477    105                                   Fraudes fiscales   \n",
      "68478    106            Autres délits économiques et financiers   \n",
      "68479    107                                      Autres délits   \n",
      "\n",
      "                 Zone      Date  Nombre  \n",
      "0      France_Entière  _2022_08    14.0  \n",
      "1      France_Entière  _2022_08     2.0  \n",
      "2      France_Entière  _2022_08    88.0  \n",
      "3      France_Entière  _2022_08    15.0  \n",
      "4      France_Entière  _2022_08   315.0  \n",
      "...               ...       ...     ...  \n",
      "68475    France_Métro  _1996_01    61.0  \n",
      "68476    France_Métro  _1996_01   156.0  \n",
      "68477    France_Métro  _1996_01    40.0  \n",
      "68478    France_Métro  _1996_01   127.0  \n",
      "68479    France_Métro  _1996_01  3048.0  \n",
      "\n",
      "[68480 rows x 5 columns]\n"
     ]
    },
    {
     "data": {
      "text/plain": [
       "'\\n# Sauvegarde dans un fichier Excel\\nexcel_output_path = os.path.join(dossier_destination, \"données france.xlsx\")\\ndf_france.to_excel(excel_output_path, index=False)\\n\\nprint(f\"Le DataFrame a été sauvegardé dans : {excel_output_path}\")\\n'"
      ]
     },
     "execution_count": 46,
     "metadata": {},
     "output_type": "execute_result"
    }
   ],
   "source": [
    "# Transformer le tableau (échelle nationale) en format \"long\"\n",
    "df_france = df_france_court.melt(id_vars=['Index', 'libellé index', 'Zone'],  # Colonnes fixes\n",
    "                  var_name='Date',  # Nom pour la colonne de dates\n",
    "                  value_name='Nombre')  # Nom pour la colonne des valeurs\n",
    "\n",
    "# Affichage\n",
    "print(df_france)\n",
    "\n",
    "'''\n",
    "# Sauvegarde dans un fichier Excel\n",
    "excel_output_path = os.path.join(dossier_destination, \"données france.xlsx\")\n",
    "df_france.to_excel(excel_output_path, index=False)\n",
    "\n",
    "print(f\"Le DataFrame a été sauvegardé dans : {excel_output_path}\")\n",
    "'''"
   ]
  },
  {
   "cell_type": "code",
   "execution_count": 47,
   "metadata": {},
   "outputs": [
    {
     "name": "stdout",
     "output_type": "stream",
     "text": [
      "         Index                                      libellé index Département  \\\n",
      "0            1             Règlements de compte entre malfaiteurs          01   \n",
      "1            2       Homicides pour voler et à l'occasion de vols          01   \n",
      "2            3                     Homicides pour d'autres motifs          01   \n",
      "3            4  Tentatives d'homicides pour voler et à l'occas...          01   \n",
      "4            5          Tentatives homicides pour d'autres motifs          01   \n",
      "...        ...                                                ...         ...   \n",
      "3663675    103  Infractions à l'exercice d'une profession règl...         988   \n",
      "3663676    104  Infractions au droit de l'urbanisme et de la c...         988   \n",
      "3663677    105                                   Fraudes fiscales         988   \n",
      "3663678    106            Autres délits économiques et financiers         988   \n",
      "3663679    107                                      Autres délits         988   \n",
      "\n",
      "             Date  Nombre  \n",
      "0        _2022_08     0.0  \n",
      "1        _2022_08     0.0  \n",
      "2        _2022_08     0.0  \n",
      "3        _2022_08     0.0  \n",
      "4        _2022_08     0.0  \n",
      "...           ...     ...  \n",
      "3663675  _1996_01     NaN  \n",
      "3663676  _1996_01     NaN  \n",
      "3663677  _1996_01     NaN  \n",
      "3663678  _1996_01     NaN  \n",
      "3663679  _1996_01     NaN  \n",
      "\n",
      "[3663680 rows x 5 columns]\n"
     ]
    },
    {
     "data": {
      "text/plain": [
       "'\\n# Sauvegarde dans un fichier CSV\\ncsv_output_path = os.path.join(dossier_destination, \"données départements.csv\")\\ndf_dep.to_csv(csv_output_path, index=False)\\n\\n#Le dataframe obtenu a un assez grand nombre de ligne (autour de 3 millions) et il n\\'était pas possible de le push sur github sans le zipper\\n\\n# Chemin du fichier ZIP\\nzip_output_path = os.path.join(dossier_destination, \"données départements.zip\")\\n\\n# Création d\\'un fichier ZIP et ajout du fichier CSV\\nwith zipfile.ZipFile(zip_output_path, \\'w\\', zipfile.ZIP_DEFLATED) as zipf:\\n    zipf.write(csv_output_path, arcname=\"données départements.csv\")\\n\\n# Suppression du fichier CSV non zippé\\nos.remove(csv_output_path)\\n\\nprint(f\"Le fichier zippé a été sauvegardé dans : {zip_output_path}\")\\n'"
      ]
     },
     "execution_count": 47,
     "metadata": {},
     "output_type": "execute_result"
    }
   ],
   "source": [
    "# Transformer le tableau (échelle départementale) en format \"long\"\n",
    "df_dep = df_dep_court.melt(\n",
    "    id_vars=['Index', 'libellé index', 'Zone'],  # Colonnes fixes\n",
    "    var_name='Date',  # Nom pour la colonne de dates\n",
    "    value_name='Nombre'  # Nom pour la colonne des valeurs\n",
    ")\n",
    "\n",
    "#On renomme la colonne 'Zone' en 'Département'\n",
    "df_dep = df_dep.rename(columns={'Zone': 'Département'})\n",
    "\n",
    "# Affichage\n",
    "print(df_dep)\n",
    "\n",
    "'''\n",
    "# Sauvegarde dans un fichier CSV\n",
    "csv_output_path = os.path.join(dossier_destination, \"données départements.csv\")\n",
    "df_dep.to_csv(csv_output_path, index=False)\n",
    "\n",
    "#Le dataframe obtenu a un assez grand nombre de ligne (autour de 3 millions) et il n'était pas possible de le push sur github sans le zipper\n",
    "\n",
    "# Chemin du fichier ZIP\n",
    "zip_output_path = os.path.join(dossier_destination, \"données départements.zip\")\n",
    "\n",
    "# Création d'un fichier ZIP et ajout du fichier CSV\n",
    "with zipfile.ZipFile(zip_output_path, 'w', zipfile.ZIP_DEFLATED) as zipf:\n",
    "    zipf.write(csv_output_path, arcname=\"données départements.csv\")\n",
    "\n",
    "# Suppression du fichier CSV non zippé\n",
    "os.remove(csv_output_path)\n",
    "\n",
    "print(f\"Le fichier zippé a été sauvegardé dans : {zip_output_path}\")\n",
    "'''\n"
   ]
  },
  {
   "cell_type": "code",
   "execution_count": 48,
   "metadata": {},
   "outputs": [
    {
     "name": "stdout",
     "output_type": "stream",
     "text": [
      "Empty DataFrame\n",
      "Columns: [Index, libellé index, Département, Date, Nombre]\n",
      "Index: []\n",
      "Empty DataFrame\n",
      "Columns: [Index, libellé index, Zone, Date, Nombre]\n",
      "Index: []\n"
     ]
    }
   ],
   "source": [
    "# Vérification de l'existence de doublons dans le tableau départemental\n",
    "dep_doublons = df_dep[df_dep.duplicated(keep=False)]\n",
    "print(dep_doublons)\n",
    "\n",
    "# Vérification de l'existence de doublons dans le tableau national\n",
    "france_doublons = df_france[df_france.duplicated(keep=False)]\n",
    "print(france_doublons)"
   ]
  },
  {
   "cell_type": "markdown",
   "metadata": {},
   "source": [
    "Après vérification, aucun doublons n'est présent dans les données récupérées du Ministère de l'Intérieur (il était indiqué sur data.gouv.fr que c'était une éventualité).\n",
    "\n",
    "En revanche, les données concernants les territoires d'outre mer ne sont pas disponibles avant 2000, certaines valeurs seront donc manquante dans notre jeu de données."
   ]
  },
  {
   "cell_type": "markdown",
   "metadata": {},
   "source": [
    "### Complétion de la base de données"
   ]
  },
  {
   "cell_type": "markdown",
   "metadata": {},
   "source": [
    "##### Ajout des estimations de population "
   ]
  },
  {
   "cell_type": "markdown",
   "metadata": {},
   "source": [
    "Pour obtenir les taux d'infractions, nous devons ajouter à nos deux tableaux de données, les estimations de population récupérée sur le site de l'INSEE à l'échelle nationale ([ici](https://www.insee.fr/fr/statistiques/serie/000436387#Tableau)) et départementale ([et là](https://catalogue-donnees.insee.fr/fr/explorateur/DS_ESTIMATION_POPULATION)). \n",
    "\n",
    "Contrairement aux données nationales, les données départementales récupérées sont disponibles en open data avec une granularité annuelle et non pas mensuelle ce qui introduit une incertitude dans les futurs calculs de taux d'infractions. On nettoiera peut-être dans un prochain temps les données départementale pour revenir à une granularité annuelle.\n"
   ]
  },
  {
   "cell_type": "code",
   "execution_count": 49,
   "metadata": {},
   "outputs": [
    {
     "name": "stdout",
     "output_type": "stream",
     "text": [
      "Téléchargement en cours...\n",
      "Téléchargement terminé: /home/onyxia/work/Python-pour-la-data-science-2A/data/data_pop/fichier.zip\n",
      "Décompression en cours...\n",
      "Décompression terminée.\n",
      "Fichiers présents après décompression : ['fichier.zip', 'caractéristiques.csv', 'valeurs_mensuelles.csv']\n",
      "Chargement du fichier valeurs_mensuelles.csv en DataFrame...\n",
      "\n",
      "Aperçu du DataFrame :\n",
      "                  Libellé  \\\n",
      "0                  idBank   \n",
      "1    Dernière mise à jour   \n",
      "2                 Période   \n",
      "3                 2022-08   \n",
      "4                 2022-07   \n",
      "..                    ...   \n",
      "318               1996-05   \n",
      "319               1996-04   \n",
      "320               1996-03   \n",
      "321               1996-02   \n",
      "322               1996-01   \n",
      "\n",
      "    Démographie - Population au début du mois - France métropolitaine Codes  \n",
      "0                                            000436387                  NaN  \n",
      "1                                     29/11/2024 12:00                  NaN  \n",
      "2                                                  NaN                  NaN  \n",
      "3                                                65843                    P  \n",
      "4                                                65820                    P  \n",
      "..                                                 ...                  ...  \n",
      "318                                              57976                    A  \n",
      "319                                              57963                    A  \n",
      "320                                              57951                    A  \n",
      "321                                              57943                    A  \n",
      "322                                              57936                    A  \n",
      "\n",
      "[323 rows x 3 columns]\n",
      "Nettoyage des fichiers inutiles...\n",
      "Fichier supprimé : /home/onyxia/work/Python-pour-la-data-science-2A/data/data_pop/fichier.zip\n",
      "Fichier supprimé : /home/onyxia/work/Python-pour-la-data-science-2A/data/data_pop/caractéristiques.csv\n",
      "Processus terminé. Seul le fichier valeurs_mensuelles.csv a été conservé.\n"
     ]
    }
   ],
   "source": [
    "# URL de téléchargement du fichier\n",
    "url = \"https://www.insee.fr/fr/statistiques/serie/telecharger/csv/000436387?ordre=antechronologique&transposition=donneescolonne&periodeDebut=1&anneeDebut=1996&periodeFin=8&anneeFin=2022&revision=sansrevisions\" \n",
    "\n",
    "# Dossier de destination\n",
    "destination = \"/home/onyxia/work/Python-pour-la-data-science-2A/data/data_pop\"\n",
    "os.makedirs(destination, exist_ok=True)\n",
    "\n",
    "# Chemin du fichier zip téléchargé\n",
    "fichier_zip = os.path.join(destination, \"fichier.zip\")\n",
    "\n",
    "# Téléchargement du fichier zip\n",
    "print(\"Téléchargement en cours...\")\n",
    "response = requests.get(url, stream=True)\n",
    "with open(fichier_zip, \"wb\") as file:\n",
    "    for chunk in response.iter_content(chunk_size=8192):\n",
    "        file.write(chunk)\n",
    "print(\"Téléchargement terminé:\", fichier_zip)\n",
    "\n",
    "# Décompression du fichier zip\n",
    "print(\"Décompression en cours...\")\n",
    "with zipfile.ZipFile(fichier_zip, 'r') as zip_ref:\n",
    "    zip_ref.extractall(destination)\n",
    "print(\"Décompression terminée.\")\n",
    "\n",
    "# Vérification des fichiers extraits\n",
    "fichiers = os.listdir(destination)\n",
    "print(\"Fichiers présents après décompression :\", fichiers)\n",
    "\n",
    "# Localisation et chargement du fichier valeurs_mensuelles.csv\n",
    "fichier_cible = os.path.join(destination, \"valeurs_mensuelles.csv\")\n",
    "if not os.path.exists(fichier_cible):\n",
    "    raise FileNotFoundError(\"Le fichier valeurs_mensuelles.csv n'a pas été trouvé.\")\n",
    "\n",
    "print(\"Chargement du fichier valeurs_mensuelles.csv en DataFrame...\")\n",
    "data_valeurs_mensuelles = pd.read_csv(fichier_cible, delimiter=';', encoding='utf-8') \n",
    "\n",
    "# Affichage des premières lignes du DataFrame\n",
    "print(\"\\nAperçu du DataFrame :\")\n",
    "print(data_valeurs_mensuelles)\n",
    "\n",
    "# Suppression des fichiers inutiles\n",
    "print(\"Nettoyage des fichiers inutiles...\")\n",
    "for fichier in fichiers:\n",
    "    chemin_fichier = os.path.join(destination, fichier)\n",
    "    if chemin_fichier != fichier_cible:  # On conserve seulement valeurs_mensuelles.csv\n",
    "        os.remove(chemin_fichier)\n",
    "        print(f\"Fichier supprimé : {chemin_fichier}\")\n",
    "\n",
    "print(\"Processus terminé. Seul le fichier valeurs_mensuelles.csv a été conservé.\")"
   ]
  },
  {
   "cell_type": "code",
   "execution_count": 50,
   "metadata": {},
   "outputs": [
    {
     "name": "stdout",
     "output_type": "stream",
     "text": [
      "                  Libellé  \\\n",
      "0                  idBank   \n",
      "1    Dernière mise à jour   \n",
      "2                 Période   \n",
      "3                 2022-08   \n",
      "4                 2022-07   \n",
      "..                    ...   \n",
      "318               1996-05   \n",
      "319               1996-04   \n",
      "320               1996-03   \n",
      "321               1996-02   \n",
      "322               1996-01   \n",
      "\n",
      "    Démographie - Population au début du mois - France métropolitaine Codes  \n",
      "0                                            000436387                  NaN  \n",
      "1                                     29/11/2024 12:00                  NaN  \n",
      "2                                                  NaN                  NaN  \n",
      "3                                                65843                    P  \n",
      "4                                                65820                    P  \n",
      "..                                                 ...                  ...  \n",
      "318                                              57976                    A  \n",
      "319                                              57963                    A  \n",
      "320                                              57951                    A  \n",
      "321                                              57943                    A  \n",
      "322                                              57936                    A  \n",
      "\n",
      "[323 rows x 3 columns]\n",
      "Noms des colonnes : Index(['Libellé',\n",
      "       'Démographie - Population au début du mois - France métropolitaine',\n",
      "       'Codes'],\n",
      "      dtype='object')\n"
     ]
    }
   ],
   "source": [
    "print(data_valeurs_mensuelles)\n",
    "print(\"Noms des colonnes :\", data_valeurs_mensuelles.columns)"
   ]
  },
  {
   "cell_type": "code",
   "execution_count": 51,
   "metadata": {},
   "outputs": [],
   "source": [
    "data_valeurs_mensuelles.drop(columns=['Codes'], inplace=True)"
   ]
  },
  {
   "cell_type": "code",
   "execution_count": 52,
   "metadata": {},
   "outputs": [
    {
     "name": "stdout",
     "output_type": "stream",
     "text": [
      "                  Libellé  \\\n",
      "0                  idBank   \n",
      "1    Dernière mise à jour   \n",
      "2                 Période   \n",
      "3                 2022-08   \n",
      "4                 2022-07   \n",
      "..                    ...   \n",
      "318               1996-05   \n",
      "319               1996-04   \n",
      "320               1996-03   \n",
      "321               1996-02   \n",
      "322               1996-01   \n",
      "\n",
      "    Démographie - Population au début du mois - France métropolitaine  \n",
      "0                                            000436387                 \n",
      "1                                     29/11/2024 12:00                 \n",
      "2                                                  NaN                 \n",
      "3                                                65843                 \n",
      "4                                                65820                 \n",
      "..                                                 ...                 \n",
      "318                                              57976                 \n",
      "319                                              57963                 \n",
      "320                                              57951                 \n",
      "321                                              57943                 \n",
      "322                                              57936                 \n",
      "\n",
      "[323 rows x 2 columns]\n"
     ]
    }
   ],
   "source": [
    "print(data_valeurs_mensuelles)"
   ]
  },
  {
   "cell_type": "code",
   "execution_count": 53,
   "metadata": {},
   "outputs": [
    {
     "name": "stdout",
     "output_type": "stream",
     "text": [
      "     Libellé Démographie - Population au début du mois - France métropolitaine\n",
      "0    2022-08                                              65843               \n",
      "1    2022-07                                              65820               \n",
      "2    2022-06                                              65794               \n",
      "3    2022-05                                              65770               \n",
      "4    2022-04                                              65756               \n",
      "..       ...                                                ...               \n",
      "315  1996-05                                              57976               \n",
      "316  1996-04                                              57963               \n",
      "317  1996-03                                              57951               \n",
      "318  1996-02                                              57943               \n",
      "319  1996-01                                              57936               \n",
      "\n",
      "[320 rows x 2 columns]\n"
     ]
    }
   ],
   "source": [
    "# Suppression des trois premières lignes\n",
    "data_valeurs_mensuelles = data_valeurs_mensuelles.iloc[3:]\n",
    "\n",
    "# Réinitialiser les index (facultatif)\n",
    "data_valeurs_mensuelles.reset_index(drop=True, inplace=True)\n",
    "\n",
    "print(data_valeurs_mensuelles)"
   ]
  },
  {
   "cell_type": "code",
   "execution_count": 54,
   "metadata": {},
   "outputs": [
    {
     "name": "stdout",
     "output_type": "stream",
     "text": [
      "\n",
      "Après transformation :\n",
      "      Libellé  \\\n",
      "0    _2022_08   \n",
      "1    _2022_07   \n",
      "2    _2022_06   \n",
      "3    _2022_05   \n",
      "4    _2022_04   \n",
      "..        ...   \n",
      "315  _1996_05   \n",
      "316  _1996_04   \n",
      "317  _1996_03   \n",
      "318  _1996_02   \n",
      "319  _1996_01   \n",
      "\n",
      "    Démographie - Population au début du mois - France métropolitaine  \n",
      "0                                                65843                 \n",
      "1                                                65820                 \n",
      "2                                                65794                 \n",
      "3                                                65770                 \n",
      "4                                                65756                 \n",
      "..                                                 ...                 \n",
      "315                                              57976                 \n",
      "316                                              57963                 \n",
      "317                                              57951                 \n",
      "318                                              57943                 \n",
      "319                                              57936                 \n",
      "\n",
      "[320 rows x 2 columns]\n"
     ]
    }
   ],
   "source": [
    "# Transformer le format de la colonne \"date\"\n",
    "data_valeurs_mensuelles[\"Libellé\"] = data_valeurs_mensuelles[\"Libellé\"].str.replace(\"-\", \"_\").apply(lambda x: f\"_{x}\")\n",
    "\n",
    "print(\"\\nAprès transformation :\")\n",
    "print(data_valeurs_mensuelles)"
   ]
  },
  {
   "cell_type": "markdown",
   "metadata": {},
   "source": [
    "On joint les deux DataFrames sur les colonnes de dates. On note que notre DateFrame comportant les données de la police comprend les données pour la France entière (territoire d'Outre-Mer inclus) et pour la France métropolitaine. En revanche les estimations de population mensuelle de l'INSEE ne prennent en compte que la France métropolitaine. On supprimera donc dans un prochain temps les lignes de notre tableau correspondant à la France entière faute de trouver les chiffres adéquat pour la population. L'inner join effectué ci-dessous a associé les estimations de populations de la France métropolitaine à la fois à la France métropolitaine et à la France entière, la première partie du tableau comporte donc des informations fausses, on les ignorera pour le moment car elles seront supprimées."
   ]
  },
  {
   "cell_type": "code",
   "execution_count": 55,
   "metadata": {},
   "outputs": [
    {
     "name": "stdout",
     "output_type": "stream",
     "text": [
      "       Index                                      libellé index  \\\n",
      "0          1             Règlements de compte entre malfaiteurs   \n",
      "1          2       Homicides pour voler et à l'occasion de vols   \n",
      "2          3                     Homicides pour d'autres motifs   \n",
      "3          4  Tentatives d'homicides pour voler et à l'occas...   \n",
      "4          5          Tentatives homicides pour d'autres motifs   \n",
      "...      ...                                                ...   \n",
      "68475    103  Infractions à l'exercice d'une profession règl...   \n",
      "68476    104  Infractions au droit de l'urbanisme et de la c...   \n",
      "68477    105                                   Fraudes fiscales   \n",
      "68478    106            Autres délits économiques et financiers   \n",
      "68479    107                                      Autres délits   \n",
      "\n",
      "                 Zone      Date  Nombre Population  \n",
      "0      France_Entière  _2022_08    14.0      65843  \n",
      "1      France_Entière  _2022_08     2.0      65843  \n",
      "2      France_Entière  _2022_08    88.0      65843  \n",
      "3      France_Entière  _2022_08    15.0      65843  \n",
      "4      France_Entière  _2022_08   315.0      65843  \n",
      "...               ...       ...     ...        ...  \n",
      "68475    France_Métro  _1996_01    61.0      57936  \n",
      "68476    France_Métro  _1996_01   156.0      57936  \n",
      "68477    France_Métro  _1996_01    40.0      57936  \n",
      "68478    France_Métro  _1996_01   127.0      57936  \n",
      "68479    France_Métro  _1996_01  3048.0      57936  \n",
      "\n",
      "[68480 rows x 6 columns]\n"
     ]
    }
   ],
   "source": [
    "# Inner join sur des colonnes avec des noms différents\n",
    "resultat = pd.merge(\n",
    "    df_france,\n",
    "    data_valeurs_mensuelles,\n",
    "    left_on='Date',  # Colonnes de df_france\n",
    "    right_on='Libellé', # Colonnes de data_valeurs_mensuelles\n",
    "    how='inner'  # Type de jointure\n",
    ")\n",
    "\n",
    "#Les colonnes 'Date' et 'Libellé' sont identiques donc on supprime 'Libellé' (nom moins évocateurs)\n",
    "resultat = resultat.drop(columns=[\"Libellé\"])\n",
    "\n",
    "# Renommer la colonne 'Démographie - Population au début du mois - France métropolitaine' car c'est bien trop long\n",
    "resultat = resultat.rename(columns={'Démographie - Population au début du mois - France métropolitaine': 'Population'})\n",
    "\n",
    "#Affichage du résultat\n",
    "print(resultat)"
   ]
  },
  {
   "cell_type": "markdown",
   "metadata": {},
   "source": [
    "'''\n",
    "\n",
    "URL de téléchargement du fichier zipé répertoriant la population française totale par mois depuis aout 1996\n",
    "https://www.insee.fr/fr/statistiques/serie/telecharger/csv/000436387?ordre=antechronologique&transposition=donneescolonne&periodeDebut=1&anneeDebut=1996&periodeFin=8&anneeFin=2022&revision=sansrevisions\n",
    "\n",
    "URL de déléchargement du fichier répertoriant la population par département depuis 1996 (granularité annuelle pas mensuelle mais on fait comme on peut)\n",
    "https://api.insee.fr/melodi/data/DS_ESTIMATION_POPULATION/to-csv?maxResult=10000&SEX=_T&AGE=_T&TIME_PERIOD=1996&TIME_PERIOD=1997&TIME_PERIOD=1998&TIME_PERIOD=1999&TIME_PERIOD=2000&TIME_PERIOD=2001&TIME_PERIOD=2002&TIME_PERIOD=2003&TIME_PERIOD=2004&TIME_PERIOD=2005&TIME_PERIOD=2006&TIME_PERIOD=2007&TIME_PERIOD=2008&TIME_PERIOD=2009&TIME_PERIOD=2010&TIME_PERIOD=2011&TIME_PERIOD=2012&TIME_PERIOD=2013&TIME_PERIOD=2014&TIME_PERIOD=2015&TIME_PERIOD=2016&TIME_PERIOD=2017&TIME_PERIOD=2018&TIME_PERIOD=2019&TIME_PERIOD=2020&TIME_PERIOD=2021&TIME_PERIOD=2022&GEO=DEP&optionCsv=%7B%22format%22:%22csv%22,%22affichage%22:%22codes%22,%22decimales%22:%22point%22,%22periodeColonne%22:false,%22lang%22:%22fr%22%7D\n",
    "\n",
    "'''\n"
   ]
  },
  {
   "cell_type": "markdown",
   "metadata": {},
   "source": [
    "On complète à son tour la base de données départementale, comme indiqué précédemment les estimations de population n'était pas disponibles avec une granularité mensuelle. Pour le moment on ajoute donc les données annuelles à chaque date incluant un 1er janvier (les estimations de l'INSEE sont faites à cette date). Si on a à l'avenir besoin de données départementales mensuelles (et pas seulement annuelle) on tentera de linéariser les évolutions démographiques annuelles sur 12 mois."
   ]
  },
  {
   "cell_type": "code",
   "execution_count": 61,
   "metadata": {},
   "outputs": [
    {
     "name": "stdout",
     "output_type": "stream",
     "text": [
      "Téléchargement en cours...\n",
      "Téléchargement terminé: /home/onyxia/work/Python-pour-la-data-science-2A/data/data_pop/fichier.csv\n",
      "Fichiers présents après décompression : ['fichier.csv', 'valeurs_mensuelles.csv']\n",
      "Chargement du fichier en DataFrame...\n",
      "\n",
      "Aperçu du DataFrame :\n",
      "     GEO GEO_OBJECT SEX AGE EP_MEASURE OBS_STATUS_FR  TIME_PERIOD  OBS_VALUE\n",
      "0     52        DEP  _T  _T        POP             D         1996     198275\n",
      "1     91        DEP  _T  _T        POP             D         1996    1131399\n",
      "2     84        DEP  _T  _T        POP             D         1996     489330\n",
      "3     36        DEP  _T  _T        POP             D         1996     233375\n",
      "4     22        DEP  _T  _T        POP             D         1996     536856\n",
      "...   ..        ...  ..  ..        ...           ...          ...        ...\n",
      "2704  94        DEP  _T  _T        POP          PROV         2022    1421887\n",
      "2705  62        DEP  _T  _T        POP          PROV         2022    1459302\n",
      "2706  74        DEP  _T  _T        POP          PROV         2022     849959\n",
      "2707  55        DEP  _T  _T        POP          PROV         2022     180811\n",
      "2708  88        DEP  _T  _T        POP          PROV         2022     358793\n",
      "\n",
      "[2709 rows x 8 columns]\n",
      "Fichier téléchargé supprimé.\n"
     ]
    }
   ],
   "source": [
    "# URL de téléchargement du fichier\n",
    "url = \"https://api.insee.fr/melodi/data/DS_ESTIMATION_POPULATION/to-csv?maxResult=10000&SEX=_T&AGE=_T&TIME_PERIOD=1996&TIME_PERIOD=1997&TIME_PERIOD=1998&TIME_PERIOD=1999&TIME_PERIOD=2000&TIME_PERIOD=2001&TIME_PERIOD=2002&TIME_PERIOD=2003&TIME_PERIOD=2004&TIME_PERIOD=2005&TIME_PERIOD=2006&TIME_PERIOD=2007&TIME_PERIOD=2008&TIME_PERIOD=2009&TIME_PERIOD=2010&TIME_PERIOD=2011&TIME_PERIOD=2012&TIME_PERIOD=2013&TIME_PERIOD=2014&TIME_PERIOD=2015&TIME_PERIOD=2016&TIME_PERIOD=2017&TIME_PERIOD=2018&TIME_PERIOD=2019&TIME_PERIOD=2020&TIME_PERIOD=2021&TIME_PERIOD=2022&GEO=DEP&optionCsv=%7B%22format%22:%22csv%22,%22affichage%22:%22codes%22,%22decimales%22:%22point%22,%22periodeColonne%22:false,%22lang%22:%22fr%22%7D\" \n",
    "\n",
    "# Dossier de destination\n",
    "destination = \"/home/onyxia/work/Python-pour-la-data-science-2A/data/data_pop\"\n",
    "os.makedirs(destination, exist_ok=True)\n",
    "\n",
    "# Chemin du fichier zip téléchargé\n",
    "fichier_csv = os.path.join(destination, \"fichier.csv\")\n",
    "\n",
    "# Téléchargement du fichier zip\n",
    "print(\"Téléchargement en cours...\")\n",
    "response = requests.get(url, stream=True)\n",
    "with open(fichier_csv, \"wb\") as file:\n",
    "    for chunk in response.iter_content(chunk_size=8192):\n",
    "        file.write(chunk)\n",
    "print(\"Téléchargement terminé:\", fichier_csv)\n",
    "\n",
    "# Vérification des fichiers extraits\n",
    "fichiers = os.listdir(destination)\n",
    "print(\"Fichiers présents après décompression :\", fichiers)\n",
    "\n",
    "print(\"Chargement du fichier en DataFrame...\")\n",
    "pop_dep = pd.read_csv(fichier_csv, delimiter=';', encoding='utf-8') \n",
    "\n",
    "# Affichage des premières lignes du DataFrame\n",
    "print(\"\\nAperçu du DataFrame :\")\n",
    "print(pop_dep)\n",
    "\n",
    "# Suppression du fichier téléchargé\n",
    "os.remove(fichier_csv)\n",
    "print(\"Fichier téléchargé supprimé.\")"
   ]
  },
  {
   "cell_type": "code",
   "execution_count": 62,
   "metadata": {},
   "outputs": [
    {
     "name": "stdout",
     "output_type": "stream",
     "text": [
      "     GEO  TIME_PERIOD  OBS_VALUE\n",
      "0     52         1996     198275\n",
      "1     91         1996    1131399\n",
      "2     84         1996     489330\n",
      "3     36         1996     233375\n",
      "4     22         1996     536856\n",
      "...   ..          ...        ...\n",
      "2704  94         2022    1421887\n",
      "2705  62         2022    1459302\n",
      "2706  74         2022     849959\n",
      "2707  55         2022     180811\n",
      "2708  88         2022     358793\n",
      "\n",
      "[2709 rows x 3 columns]\n"
     ]
    }
   ],
   "source": [
    "#Suppression des colonnes non utilisées\n",
    "pop_dep.drop(columns=['GEO_OBJECT', 'SEX', 'AGE', 'OBS_STATUS_FR', 'EP_MEASURE'], inplace=True)\n",
    "print(pop_dep)"
   ]
  },
  {
   "cell_type": "code",
   "execution_count": 67,
   "metadata": {},
   "outputs": [
    {
     "name": "stdout",
     "output_type": "stream",
     "text": [
      "     Département      Date  Population\n",
      "0             52  _1996_01      198275\n",
      "1             91  _1996_01     1131399\n",
      "2             84  _1996_01      489330\n",
      "3             36  _1996_01      233375\n",
      "4             22  _1996_01      536856\n",
      "...          ...       ...         ...\n",
      "2704          94  _2022_01     1421887\n",
      "2705          62  _2022_01     1459302\n",
      "2706          74  _2022_01      849959\n",
      "2707          55  _2022_01      180811\n",
      "2708          88  _2022_01      358793\n",
      "\n",
      "[2709 rows x 3 columns]\n"
     ]
    }
   ],
   "source": [
    "#Modifications de la colonne 'TIME_PERIOD' pour pouvoir faire le futur inner join avec la table 'données départements'\n",
    "pop_dep[\"TIME_PERIOD\"] = pop_dep[\"TIME_PERIOD\"].apply(\n",
    "    lambda x: f\"_{str(x)}_01\" if not str(x).startswith(\"_\") else str(x)\n",
    ")\n",
    "\n",
    "pop_dep = pop_dep.rename(columns={\n",
    "    'TIME_PERIOD': 'Date',\n",
    "    'GEO': 'Département',\n",
    "    'OBS_VALUE': 'Population'\n",
    "})\n",
    "\n",
    "print(pop_dep)"
   ]
  },
  {
   "cell_type": "code",
   "execution_count": 68,
   "metadata": {},
   "outputs": [
    {
     "name": "stdout",
     "output_type": "stream",
     "text": [
      "        Index                                      libellé index Département  \\\n",
      "0           1             Règlements de compte entre malfaiteurs          01   \n",
      "1           2       Homicides pour voler et à l'occasion de vols          01   \n",
      "2           3                     Homicides pour d'autres motifs          01   \n",
      "3           4  Tentatives d'homicides pour voler et à l'occas...          01   \n",
      "4           5          Tentatives homicides pour d'autres motifs          01   \n",
      "...       ...                                                ...         ...   \n",
      "289858    103  Infractions à l'exercice d'une profession règl...         974   \n",
      "289859    104  Infractions au droit de l'urbanisme et de la c...         974   \n",
      "289860    105                                   Fraudes fiscales         974   \n",
      "289861    106            Autres délits économiques et financiers         974   \n",
      "289862    107                                      Autres délits         974   \n",
      "\n",
      "            Date  Nombre  Population  \n",
      "0       _2022_01     0.0      668613  \n",
      "1       _2022_01     0.0      668613  \n",
      "2       _2022_01     0.0      668613  \n",
      "3       _2022_01     0.0      668613  \n",
      "4       _2022_01     0.0      668613  \n",
      "...          ...     ...         ...  \n",
      "289858  _1996_01     NaN      668915  \n",
      "289859  _1996_01     NaN      668915  \n",
      "289860  _1996_01     NaN      668915  \n",
      "289861  _1996_01     NaN      668915  \n",
      "289862  _1996_01     NaN      668915  \n",
      "\n",
      "[289863 rows x 6 columns]\n"
     ]
    }
   ],
   "source": [
    "#Inner join sur les tables de population et d'infractions départementales\n",
    "dataframe = pd.merge(\n",
    "    df_dep,\n",
    "    pop_dep,\n",
    "    on=['Département', 'Date'],  \n",
    "    how='inner'\n",
    ")\n",
    "\n",
    "print(dataframe)"
   ]
  },
  {
   "cell_type": "markdown",
   "metadata": {},
   "source": [
    "##### Ajout de contours géographiques sur la base de données départementales "
   ]
  },
  {
   "cell_type": "markdown",
   "metadata": {},
   "source": [
    "On installe geopandas pour pouvoir faire de la cartographie et on charge ensuite les contours de département eux aussi obtenu sur l'open data des ministères ([ici](demander à william où ct))."
   ]
  },
  {
   "cell_type": "code",
   "execution_count": 69,
   "metadata": {},
   "outputs": [
    {
     "name": "stdout",
     "output_type": "stream",
     "text": [
      "Requirement already satisfied: geopandas in /opt/conda/lib/python3.12/site-packages (1.0.1)\n",
      "Requirement already satisfied: numpy>=1.22 in /opt/conda/lib/python3.12/site-packages (from geopandas) (2.1.3)\n",
      "Requirement already satisfied: pyogrio>=0.7.2 in /opt/conda/lib/python3.12/site-packages (from geopandas) (0.10.0)\n",
      "Requirement already satisfied: packaging in /opt/conda/lib/python3.12/site-packages (from geopandas) (24.1)\n",
      "Requirement already satisfied: pandas>=1.4.0 in /opt/conda/lib/python3.12/site-packages (from geopandas) (2.2.3)\n",
      "Requirement already satisfied: pyproj>=3.3.0 in /opt/conda/lib/python3.12/site-packages (from geopandas) (3.7.0)\n",
      "Requirement already satisfied: shapely>=2.0.0 in /opt/conda/lib/python3.12/site-packages (from geopandas) (2.0.6)\n",
      "Requirement already satisfied: python-dateutil>=2.8.2 in /opt/conda/lib/python3.12/site-packages (from pandas>=1.4.0->geopandas) (2.9.0)\n",
      "Requirement already satisfied: pytz>=2020.1 in /opt/conda/lib/python3.12/site-packages (from pandas>=1.4.0->geopandas) (2024.1)\n",
      "Requirement already satisfied: tzdata>=2022.7 in /opt/conda/lib/python3.12/site-packages (from pandas>=1.4.0->geopandas) (2024.2)\n",
      "Requirement already satisfied: certifi in /opt/conda/lib/python3.12/site-packages (from pyogrio>=0.7.2->geopandas) (2024.8.30)\n",
      "Requirement already satisfied: six>=1.5 in /opt/conda/lib/python3.12/site-packages (from python-dateutil>=2.8.2->pandas>=1.4.0->geopandas) (1.16.0)\n",
      "Note: you may need to restart the kernel to use updated packages.\n"
     ]
    }
   ],
   "source": [
    "%pip install geopandas"
   ]
  },
  {
   "cell_type": "code",
   "execution_count": null,
   "metadata": {},
   "outputs": [
    {
     "name": "stdout",
     "output_type": "stream",
     "text": [
      "   code                      nom  \\\n",
      "0    01                      Ain   \n",
      "1    02                    Aisne   \n",
      "2    03                   Allier   \n",
      "3    04  Alpes-de-Haute-Provence   \n",
      "4    05             Hautes-Alpes   \n",
      "..  ...                      ...   \n",
      "91   91                  Essonne   \n",
      "92   92           Hauts-de-Seine   \n",
      "93   93        Seine-Saint-Denis   \n",
      "94   94             Val-de-Marne   \n",
      "95   95               Val-d'Oise   \n",
      "\n",
      "                                             geometry  \n",
      "0   POLYGON ((4.78021 46.17668, 4.78024 46.18905, ...  \n",
      "1   POLYGON ((3.17296 50.01131, 3.17382 50.01186, ...  \n",
      "2   POLYGON ((3.03207 46.79491, 3.03424 46.7908, 3...  \n",
      "3   POLYGON ((5.67604 44.19143, 5.67817 44.19051, ...  \n",
      "4   POLYGON ((6.26057 45.12685, 6.26417 45.12641, ...  \n",
      "..                                                ...  \n",
      "91  POLYGON ((2.22656 48.7761, 2.22866 48.77451, 2...  \n",
      "92  POLYGON ((2.29097 48.95097, 2.29162 48.95077, ...  \n",
      "93  POLYGON ((2.55306 49.00982, 2.55814 49.01201, ...  \n",
      "94  POLYGON ((2.3319 48.81701, 2.33371 48.81677, 2...  \n",
      "95  POLYGON ((2.59052 49.07965, 2.59013 49.07786, ...  \n",
      "\n",
      "[96 rows x 3 columns]\n"
     ]
    }
   ],
   "source": [
    "import geopandas as gpd\n",
    "\n",
    "#URL de téléchargement des contours départementaux\n",
    "url = \"https://www.data.gouv.fr/fr/datasets/r/90b9341a-e1f7-4d75-a73c-bbc010c7feeb\"\n",
    "contours_dpt = gpd.read_file(url)\n",
    "\n",
    "#Affichage\n",
    "print(contours_dpt)"
   ]
  },
  {
   "cell_type": "code",
   "execution_count": 72,
   "metadata": {},
   "outputs": [
    {
     "data": {
      "text/plain": [
       "<Axes: >"
      ]
     },
     "execution_count": 72,
     "metadata": {},
     "output_type": "execute_result"
    },
    {
     "data": {
      "image/png": "[encoded data removed]",
      "text/plain": [
       "<Figure size 640x480 with 1 Axes>"
      ]
     },
     "metadata": {},
     "output_type": "display_data"
    }
   ],
   "source": [
    "#Visualisation des contours\n",
    "contours_dpt.plot()"
   ]
  },
  {
   "cell_type": "markdown",
   "metadata": {},
   "source": [
    "On joint ensuite notre table départementale avec la table de contours départementaux. On note que les contours sont uniquement métropolitains et que la table obtenue ne concernera donc que les départements métropolitains. Etant donnée les défauts de données existant également pour la table nationale, on ne traitera que les département métropolitains."
   ]
  },
  {
   "cell_type": "code",
   "execution_count": 77,
   "metadata": {},
   "outputs": [
    {
     "name": "stdout",
     "output_type": "stream",
     "text": [
      "   Département                      nom  \\\n",
      "0           01                      Ain   \n",
      "1           02                    Aisne   \n",
      "2           03                   Allier   \n",
      "3           04  Alpes-de-Haute-Provence   \n",
      "4           05             Hautes-Alpes   \n",
      "..         ...                      ...   \n",
      "91          91                  Essonne   \n",
      "92          92           Hauts-de-Seine   \n",
      "93          93        Seine-Saint-Denis   \n",
      "94          94             Val-de-Marne   \n",
      "95          95               Val-d'Oise   \n",
      "\n",
      "                                             geometry  \n",
      "0   POLYGON ((4.78021 46.17668, 4.78024 46.18905, ...  \n",
      "1   POLYGON ((3.17296 50.01131, 3.17382 50.01186, ...  \n",
      "2   POLYGON ((3.03207 46.79491, 3.03424 46.7908, 3...  \n",
      "3   POLYGON ((5.67604 44.19143, 5.67817 44.19051, ...  \n",
      "4   POLYGON ((6.26057 45.12685, 6.26417 45.12641, ...  \n",
      "..                                                ...  \n",
      "91  POLYGON ((2.22656 48.7761, 2.22866 48.77451, 2...  \n",
      "92  POLYGON ((2.29097 48.95097, 2.29162 48.95077, ...  \n",
      "93  POLYGON ((2.55306 49.00982, 2.55814 49.01201, ...  \n",
      "94  POLYGON ((2.3319 48.81701, 2.33371 48.81677, 2...  \n",
      "95  POLYGON ((2.59052 49.07965, 2.59013 49.07786, ...  \n",
      "\n",
      "[96 rows x 3 columns]\n"
     ]
    }
   ],
   "source": [
    "#Préparation de la table 'contours_dpt'\n",
    "contours_dpt = contours_dpt.rename(columns={'code': 'Département'})\n",
    "\n",
    "print(contours_dpt)"
   ]
  },
  {
   "cell_type": "code",
   "execution_count": 81,
   "metadata": {},
   "outputs": [
    {
     "name": "stdout",
     "output_type": "stream",
     "text": [
      "        Index                                      libellé index Département  \\\n",
      "0           1             Règlements de compte entre malfaiteurs          01   \n",
      "1           2       Homicides pour voler et à l'occasion de vols          01   \n",
      "2           3                     Homicides pour d'autres motifs          01   \n",
      "3           4  Tentatives d'homicides pour voler et à l'occas...          01   \n",
      "4           5          Tentatives homicides pour d'autres motifs          01   \n",
      "...       ...                                                ...         ...   \n",
      "277339    103  Infractions à l'exercice d'une profession règl...          95   \n",
      "277340    104  Infractions au droit de l'urbanisme et de la c...          95   \n",
      "277341    105                                   Fraudes fiscales          95   \n",
      "277342    106            Autres délits économiques et financiers          95   \n",
      "277343    107                                      Autres délits          95   \n",
      "\n",
      "            Date  Nombre  Population         Nom  \\\n",
      "0       _2022_01     0.0      668613         Ain   \n",
      "1       _2022_01     0.0      668613         Ain   \n",
      "2       _2022_01     0.0      668613         Ain   \n",
      "3       _2022_01     0.0      668613         Ain   \n",
      "4       _2022_01     0.0      668613         Ain   \n",
      "...          ...     ...         ...         ...   \n",
      "277339  _1996_01     0.0     1097809  Val-d'Oise   \n",
      "277340  _1996_01     1.0     1097809  Val-d'Oise   \n",
      "277341  _1996_01     0.0     1097809  Val-d'Oise   \n",
      "277342  _1996_01     0.0     1097809  Val-d'Oise   \n",
      "277343  _1996_01    54.0     1097809  Val-d'Oise   \n",
      "\n",
      "                                                Géométrie  \n",
      "0       POLYGON ((4.78021 46.17668, 4.78024 46.18905, ...  \n",
      "1       POLYGON ((4.78021 46.17668, 4.78024 46.18905, ...  \n",
      "2       POLYGON ((4.78021 46.17668, 4.78024 46.18905, ...  \n",
      "3       POLYGON ((4.78021 46.17668, 4.78024 46.18905, ...  \n",
      "4       POLYGON ((4.78021 46.17668, 4.78024 46.18905, ...  \n",
      "...                                                   ...  \n",
      "277339  POLYGON ((2.59052 49.07965, 2.59013 49.07786, ...  \n",
      "277340  POLYGON ((2.59052 49.07965, 2.59013 49.07786, ...  \n",
      "277341  POLYGON ((2.59052 49.07965, 2.59013 49.07786, ...  \n",
      "277342  POLYGON ((2.59052 49.07965, 2.59013 49.07786, ...  \n",
      "277343  POLYGON ((2.59052 49.07965, 2.59013 49.07786, ...  \n",
      "\n",
      "[277344 rows x 8 columns]\n"
     ]
    }
   ],
   "source": [
    "#Inner join\n",
    "dataframe_dep = pd.merge(\n",
    "    dataframe,\n",
    "    contours_dpt,\n",
    "    on=['Département'],  \n",
    "    how='inner'\n",
    ")\n",
    "\n",
    "dataframe_dep = dataframe_dep.rename(columns={'geometry': 'Géométrie', 'nom' : 'Nom'})\n",
    "\n",
    "print(dataframe_dep)"
   ]
  },
  {
   "cell_type": "markdown",
   "metadata": {},
   "source": [
    "### Calcul des taux de délinquance"
   ]
  },
  {
   "cell_type": "markdown",
   "metadata": {},
   "source": [
    "''' \n",
    "\n",
    "https://mobile.interieur.gouv.fr/Interstats/Publications/Hors-collection/La-mesure-statistique-de-la-delinquance-AJ-Penal-Dalloz\n",
    "\n",
    "https://www.interieur.gouv.fr/Media/SSMSI/Files/Interstats-Methode-N-3-La-premiere-generation-des-indicateurs-statistiques-des-crimes-et-delits-enregistres-par-la-police-et-la-gendarmerie-Octobre-2015/?nomobredirect=true\n",
    "\n",
    "https://mobile.interieur.gouv.fr/Interstats/Actualites/Insecurite-et-delinquance-en-2023-bilan-statistique-et-atlas-departemental\n",
    "\n",
    "'''"
   ]
  },
  {
   "cell_type": "markdown",
   "metadata": {},
   "source": [
    "Les tableaux traités ici compote les 107 différentes catégories (index) d'infractions de \"l'état 4001\" enregistré par les forces de sécurité. De nature, fréquence et variables de comptage variées, agglomérer ces index en un seul indicateur de délinquance est susceptible de masquer des phénomènes délinquants important et en effet depuis 2012 le ministère de l'Intérieur a annoncé renoncé à l'utilisation d'indicateurs trop globaux. Aujourd'hui une dizaine d'indicateurs sont utilisés par le SSMSI dans leurs bilan statistique (le nombre peut varier selon la finesse de la typologie). On propose ici d'utiliser les 8 indicateurs principaux dénombrés dans le bilan statistique du SSMSI de 2013 ([téléchargable ici](https://mobile.interieur.gouv.fr/Interstats/Actualites/Insecurite-et-delinquance-en-2023-bilan-statistique-et-atlas-departemental)), à savoir les *homicides*, *tentatives d'homicides*, *coups et blessures volontaires*, *violences sexuelles*, *atteintes aux biens avec violence contre les personnes*, *atteintes aux biens sans violence contre les personnes*, *infractions à la législation sur les stupéfiants* et *escroqueries*.\n",
    "\n",
    "Il est important de noter que les chiffres disponibles ici sont ceux de la criminalité observée et enregistrée qui reste un indicateur très imparfait. D'une part il n'est pas le nombre réel d'infractions mais n'est pas non plus égal à une proportion de ce nombre constante dans le temps. Des décisions politiques et de gestion (comme la politique du chiffre à partir de 2002, les variations de moyens alloués aux forces de sécurité) peuvent impacter la part de la criminalité enregistrée par rapport à la criminalité effective. D'autre part cette part observée n'est pas la même pour tous les types d'infractions. En particulier, les violences sexuelles étant très sous-déclarées et leur augmentation enregistrée étant quasiment uniquement dûe à la hausse des déclarations (au vue des enquêtes de victimation), on préférera  les traiter à part (ou ne pas les traiter par manque de temps)."
   ]
  },
  {
   "cell_type": "markdown",
   "metadata": {},
   "source": [
    "Fort de ces remarques, on va dans cette section définir des fonctions nous permettant de calculer les 8 indicateurs présentés à partir des 107 catégories à notre disposition. On utilise pour cela la section méthodologie du bilan de 2023 pour savoir quels index composent quelles catégories."
   ]
  }
 ],
 "metadata": {
  "kernelspec": {
   "display_name": "base",
   "language": "python",
   "name": "python3"
  },
  "language_info": {
   "codemirror_mode": {
    "name": "ipython",
    "version": 3
   },
   "file_extension": ".py",
   "mimetype": "text/x-python",
   "name": "python",
   "nbconvert_exporter": "python",
   "pygments_lexer": "ipython3",
   "version": "3.12.6"
  }
 },
 "nbformat": 4,
 "nbformat_minor": 2
}
