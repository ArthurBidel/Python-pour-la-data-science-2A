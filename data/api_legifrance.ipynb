{
 "cells": [
  {
   "cell_type": "markdown",
   "metadata": {},
   "source": [
    "Ici on récupère les données via PISTE l'API permettant d'avoir accès aux données de Légifrance, le code de connexion OAuth est donné sur le Gitlab de Piste à cette [adresse](https://gitlab.com/piste_lab/oauth_connectors/-/blob/master/Python/Oauth2ClientCredentialsTest.py?ref_type=heads). Il est tout de même nécessaire d'installer les modules du code suivant."
   ]
  },
  {
   "cell_type": "code",
   "execution_count": 2,
   "metadata": {},
   "outputs": [
    {
     "name": "stdout",
     "output_type": "stream",
     "text": [
      "Requirement already satisfied: python-dotenv in /opt/conda/lib/python3.12/site-packages (1.0.1)\n",
      "Note: you may need to restart the kernel to use updated packages.\n",
      "Requirement already satisfied: requests-oauthlib in /opt/conda/lib/python3.12/site-packages (2.0.0)\n",
      "Requirement already satisfied: oauthlib>=3.0.0 in /opt/conda/lib/python3.12/site-packages (from requests-oauthlib) (3.2.2)\n",
      "Requirement already satisfied: requests>=2.0.0 in /opt/conda/lib/python3.12/site-packages (from requests-oauthlib) (2.32.3)\n",
      "Requirement already satisfied: charset-normalizer<4,>=2 in /opt/conda/lib/python3.12/site-packages (from requests>=2.0.0->requests-oauthlib) (3.4.0)\n",
      "Requirement already satisfied: idna<4,>=2.5 in /opt/conda/lib/python3.12/site-packages (from requests>=2.0.0->requests-oauthlib) (3.10)\n",
      "Requirement already satisfied: urllib3<3,>=1.21.1 in /opt/conda/lib/python3.12/site-packages (from requests>=2.0.0->requests-oauthlib) (2.2.3)\n",
      "Requirement already satisfied: certifi>=2017.4.17 in /opt/conda/lib/python3.12/site-packages (from requests>=2.0.0->requests-oauthlib) (2024.8.30)\n",
      "Note: you may need to restart the kernel to use updated packages.\n"
     ]
    }
   ],
   "source": [
    "%pip install python-dotenv\n",
    "%pip install requests-oauthlib"
   ]
  },
  {
   "cell_type": "markdown",
   "metadata": {},
   "source": [
    "Pour pour envoyer des requêtes à l'API nous devons d'abord obtenir un token, après s'être inscrit sur le [site de PISTE](https://piste.gouv.fr/). Ce token est obtenu en envoyant une requête contenant mon identifiant client et mon code de client au site d'autorisation. Nous avons ensuite une autorisation d'une heure avec ce token pour exploiter l'API de Légifrance. "
   ]
  },
  {
   "cell_type": "code",
   "execution_count": 3,
   "metadata": {},
   "outputs": [],
   "source": [
    "TOKEN_URL = \"https://oauth.piste.gouv.fr/api/oauth/token\"\n",
    "\n",
    "import os\n",
    "from dotenv import load_dotenv\n",
    "import requests\n",
    "from requests_oauthlib import OAuth2Session\n",
    "\n",
    "# Cette partie sert à récupérer les ID de connexions qui sont dans un fichier .env que l'on doit créer à chaque fois que l'on copie le repository github, cela permet de les conserver secret\n",
    "load_dotenv()\n",
    "client_id = os.getenv(\"CLIENT_ID\")\n",
    "client_secret = os.getenv(\"CLIENT_SECRET\")\n",
    "\n",
    "# Requette d'un token pour avoir accès à l'API \n",
    "res = requests.post(\n",
    "  TOKEN_URL,\n",
    "  data={\n",
    "    \"grant_type\": \"client_credentials\",\n",
    "    \"client_id\": client_id,\n",
    "    \"client_secret\": client_secret,\n",
    "    \"scope\": \"openid\"\n",
    "  }\n",
    ")\n",
    "\n",
    "# Récupération du token \n",
    "token = res.json()\n",
    "client = OAuth2Session(client_id, token=token)"
   ]
  },
  {
   "cell_type": "markdown",
   "metadata": {},
   "source": [
    "Maintenant en utilisant le lien d'exploitation de l'API auquel on rajoute l'endpoints qui permet d'accéder à ce que l'on veut faire nous récupérons les données . La liste des endpoints pour l'API de Légifrance est disponible [ici](https://piste.gouv.fr/index.php?option=com_apiportal&view=apitester&usage=api&apitab=tests&apiName=L%C3%A9gifrance&apiId=7e5a0e1d-ffcc-40be-a405-a1a5c1afe950&managerId=3&type=rest&apiVersion=2.4.2&Itemid=179&swaggerVersion=2.0&lang=fr)."
   ]
  },
  {
   "cell_type": "code",
   "execution_count": 4,
   "metadata": {},
   "outputs": [],
   "source": [
    "API_HOST = \"https://api.piste.gouv.fr/dila/legifrance/lf-engine-app\""
   ]
  },
  {
   "cell_type": "code",
   "execution_count": null,
   "metadata": {},
   "outputs": [
    {
     "data": {
      "text/plain": [
       "{'timestamp': 1733493185210,\n",
       " 'error': 400,\n",
       " 'status': 'Bad Request',\n",
       " 'message': 'Le format de la requête est invalide. Veuillez vérifier le formatage de votre requête',\n",
       " 'errorCode': None,\n",
       " 'exceptionDetails': None}"
      ]
     },
     "execution_count": 6,
     "metadata": {},
     "output_type": "execute_result"
    }
   ],
   "source": [
    "client.post(\n",
    "    API_HOST+\"/search\", # On ajoute ici l'endpoint souhaité\n",
    "    json = {\n",
    "  \"recherche\": {\n",
    "    \"filtres\": [\n",
    "      {\n",
    "        \"dates\": {\n",
    "          \"start\": \"1996-01-01\",\n",
    "          \"end\": \"2022-08-31\"\n",
    "        },\n",
    "        \"facette\": \"DATE_SIGNATURE\"\n",
    "      }\n",
    "    ],\n",
    "    \"fromAdvancedRecherche\": False,\n",
    "    \"champs\": [\n",
    "      {\n",
    "        \"criteres\": [\n",
    "          {\n",
    "            \"valeur\": \"crimes\",\n",
    "            \"operateur\": \"OU\",\n",
    "            \"criteres\": [\n",
    "              {\n",
    "                \"valeur\": \"délits\",\n",
    "                \"operateur\": \"OU\",\n",
    "                \"typeRecherche\": \"UN_DES_MOTS\"\n",
    "              },\n",
    "              {\n",
    "                \"valeur\": \"délinquance\",\n",
    "                \"operateur\": \"OU\",\n",
    "                \"typeRecherche\": \"UN_DES_MOTS\"\n",
    "              }\n",
    "            ],\n",
    "            \"typeRecherche\": \"UN_DES_MOTS\"\n",
    "          }\n",
    "        ],\n",
    "        \"typeChamp\": \"ALL\"\n",
    "      }\n",
    "    ],\n",
    "    \"pageSize\": 100,\n",
    "    \"pageNumber\": 1,\n",
    "    \"operateur\": \"ET\",\n",
    "    \"typePagination\": \"DEFAUT\"\n",
    "  },\n",
    "  \"fond\": \"LEGI\",\n",
    "  \"sort\": \"SIGNATURE_DATE_DESC\",\n",
    "  \"resultats\": {\n",
    "    \"champsRetour\": [\"title\", \"date_signature\"]\n",
    "  }\n",
    "}\n",
    ").json()"
   ]
  }
 ],
 "metadata": {
  "kernelspec": {
   "display_name": "base",
   "language": "python",
   "name": "python3"
  },
  "language_info": {
   "codemirror_mode": {
    "name": "ipython",
    "version": 3
   },
   "file_extension": ".py",
   "mimetype": "text/x-python",
   "name": "python",
   "nbconvert_exporter": "python",
   "pygments_lexer": "ipython3",
   "version": "3.12.7"
  }
 },
 "nbformat": 4,
 "nbformat_minor": 2
}
