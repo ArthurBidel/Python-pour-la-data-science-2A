{
 "cells": [
  {
   "cell_type": "markdown",
   "metadata": {},
   "source": [
    "Ici on récupère les données via PISTE l'API permettant d'avoir accès aux données de Légifrance, le code de connexion OAuth est donné sur le Gitlab de Piste à cette [adresse](https://gitlab.com/piste_lab/oauth_connectors/-/blob/master/Python/Oauth2ClientCredentialsTest.py?ref_type=heads). Il est tout de même nécessaire d'installer les modules du code suivant."
   ]
  },
  {
   "cell_type": "code",
   "execution_count": null,
   "metadata": {},
   "outputs": [
    {
     "name": "stdout",
     "output_type": "stream",
     "text": [
      "Requirement already satisfied: python-dotenv in /opt/conda/lib/python3.12/site-packages (1.0.1)\n",
      "Note: you may need to restart the kernel to use updated packages.\n",
      "Requirement already satisfied: requests-oauthlib in /opt/conda/lib/python3.12/site-packages (2.0.0)\n",
      "Requirement already satisfied: oauthlib>=3.0.0 in /opt/conda/lib/python3.12/site-packages (from requests-oauthlib) (3.2.2)\n",
      "Requirement already satisfied: requests>=2.0.0 in /opt/conda/lib/python3.12/site-packages (from requests-oauthlib) (2.32.3)\n",
      "Requirement already satisfied: charset_normalizer<4,>=2 in /opt/conda/lib/python3.12/site-packages (from requests>=2.0.0->requests-oauthlib) (3.4.0)\n",
      "Requirement already satisfied: idna<4,>=2.5 in /opt/conda/lib/python3.12/site-packages (from requests>=2.0.0->requests-oauthlib) (3.10)\n",
      "Requirement already satisfied: urllib3<3,>=1.21.1 in /opt/conda/lib/python3.12/site-packages (from requests>=2.0.0->requests-oauthlib) (2.2.3)\n",
      "Requirement already satisfied: certifi>=2017.4.17 in /opt/conda/lib/python3.12/site-packages (from requests>=2.0.0->requests-oauthlib) (2024.8.30)\n",
      "Note: you may need to restart the kernel to use updated packages.\n"
     ]
    }
   ],
   "source": [
    "%pip install python-dotenv\n",
    "%pip install requests-oauthlib\n",
    "%"
   ]
  },
  {
   "cell_type": "markdown",
   "metadata": {},
   "source": [
    "Pour pour envoyer des requêtes à l'API nous devons d'abord obtenir un token, après s'être inscrit sur le [site de PISTE](https://piste.gouv.fr/). Ce token est obtenu en envoyant une requête contenant mon identifiant client et mon code de client au site d'autorisation. Nous avons ensuite une autorisation d'une heure avec ce token pour exploiter l'API de Légifrance. "
   ]
  },
  {
   "cell_type": "code",
   "execution_count": 2,
   "metadata": {},
   "outputs": [],
   "source": [
    "TOKEN_URL = \"https://oauth.piste.gouv.fr/api/oauth/token\"\n",
    "\n",
    "import os\n",
    "from dotenv import load_dotenv\n",
    "import requests\n",
    "from requests_oauthlib import OAuth2Session\n",
    "\n",
    "# Cette partie sert à récupérer les ID de connexions qui sont dans un fichier .env que l'on doit créer à chaque fois que l'on copie le repository github, cela permet de les conserver secret\n",
    "load_dotenv()\n",
    "client_id = os.getenv(\"CLIENT_ID\")\n",
    "client_secret = os.getenv(\"CLIENT_SECRET\")\n",
    "\n",
    "# Requette d'un token pour avoir accès à l'API \n",
    "res = requests.post(\n",
    "  TOKEN_URL,\n",
    "  data={\n",
    "    \"grant_type\": \"client_credentials\",\n",
    "    \"client_id\": client_id,\n",
    "    \"client_secret\": client_secret,\n",
    "    \"scope\": \"openid\"\n",
    "  }\n",
    ")\n",
    "\n",
    "# Récupération du token \n",
    "token = res.json()\n",
    "client = OAuth2Session(client_id, token=token)"
   ]
  },
  {
   "cell_type": "markdown",
   "metadata": {},
   "source": [
    "Maintenant en utilisant le lien d'exploitation de l'API auquel on rajoute l'endpoints qui permet d'accéder à ce que l'on veut faire nous récupérons les données . La liste des endpoints pour l'API de Légifrance est disponible [ici](https://piste.gouv.fr/index.php?option=com_apiportal&view=apitester&usage=api&apitab=tests&apiName=L%C3%A9gifrance&apiId=7e5a0e1d-ffcc-40be-a405-a1a5c1afe950&managerId=3&type=rest&apiVersion=2.4.2&Itemid=179&swaggerVersion=2.0&lang=fr)."
   ]
  },
  {
   "cell_type": "code",
   "execution_count": 3,
   "metadata": {},
   "outputs": [],
   "source": [
    "API_HOST = \"https://api.piste.gouv.fr/dila/legifrance/lf-engine-app\""
   ]
  },
  {
   "cell_type": "code",
   "execution_count": 25,
   "metadata": {},
   "outputs": [],
   "source": [
    "import requests\n",
    "import pandas as pd\n",
    "import math\n",
    "\n",
    "code_api = {\n",
    "  \"recherche\": {\n",
    "    \"filtres\": [\n",
    "      {\n",
    "        \"dates\": {\n",
    "          \"start\": \"1996-01-01\",\n",
    "          \"end\": \"2022-08-31\"\n",
    "        },\n",
    "        \"facette\": \"DATE_SIGNATURE\"\n",
    "      }\n",
    "    ],\n",
    "    \"sort\": \"SIGNATURE_DATE_DESC\",\n",
    "    \"fromAdvancedRecherche\": False,\n",
    "    \"champs\": [\n",
    "      {\n",
    "        \"criteres\": [\n",
    "          {\n",
    "            \"valeur\": \"délinquance\",\n",
    "            \"operateur\": \"OU\",\n",
    "            \"criteres\": [\n",
    "              {\n",
    "                \"valeur\": \"crime\",\n",
    "                \"operateur\": \"OU\",\n",
    "                \"typeRecherche\": \"UN_DES_MOTS\"\n",
    "              },\n",
    "              {\n",
    "                \"valeur\": \"délit\",\n",
    "                \"operateur\": \"OU\",\n",
    "                \"typeRecherche\": \"UN_DES_MOTS\"\n",
    "              }\n",
    "            ],\n",
    "            \"typeRecherche\": \"UN_DES_MOTS\"\n",
    "          }\n",
    "        ],\n",
    "        \"operateur\": \"ET\",\n",
    "        \"typeChamp\": \"ALL\"\n",
    "      }\n",
    "    ],\n",
    "    \"pageSize\": 100,\n",
    "    \"pageNumber\": 1,\n",
    "    \"operateur\": \"ET\",\n",
    "    \"typePagination\": \"DEFAUT\"\n",
    "  },\n",
    "  \"fond\": \"LODA_DATE\"\n",
    "  }\n",
    "\n",
    "\n",
    "\n",
    "def collect_all_results(client, api_host, code):\n",
    "    # Récupérer le total de résultats et calculer le nombre de pages\n",
    "    response = client.post(api_host, json=code).json()\n",
    "    total_results = response.get(\"totalResultNumber\", 0)\n",
    "    page_size = code[\"recherche\"][\"pageSize\"]\n",
    "    total_pages = math.ceil(total_results / page_size)\n",
    "\n",
    "    print(f\"Total de résultats : {total_results}\")\n",
    "    print(f\"Nombre de pages à récupérer : {total_pages}\")\n",
    "\n",
    "    # Liste pour stocker tous les résultats\n",
    "    all_results = []\n",
    "    for page_number in range(1, total_pages + 1):\n",
    "        print(f\"Récupération de la page {page_number}/{total_pages}...\")\n",
    "        code[\"recherche\"][\"pageNumber\"] = page_number\n",
    "        response = client.post(api_host, json=code).json()\n",
    "        all_results.extend(response.get(\"results\", []))\n",
    "\n",
    "    return all_results\n"
   ]
  },
  {
   "cell_type": "code",
   "execution_count": 29,
   "metadata": {},
   "outputs": [
    {
     "name": "stdout",
     "output_type": "stream",
     "text": [
      "Total de résultats : 344\n",
      "Nombre de pages à récupérer : 4\n",
      "Récupération de la page 1/4...\n",
      "Récupération de la page 2/4...\n",
      "Récupération de la page 3/4...\n",
      "Récupération de la page 4/4...\n"
     ]
    }
   ],
   "source": [
    "all_results = collect_all_results(client, API_HOST+\"/search\", code_api)\n",
    "def results_to_dataframe(results):\n",
    "    data = []\n",
    "    for result in results:\n",
    "        title = result.get(\"titles\", [{}])[0].get(\"title\") if result.get(\"titles\") else None\n",
    "        date = result.get(\"date\")\n",
    "        data.append({\"Titre\": title, \"Date\": date})\n",
    "    return pd.DataFrame(data)\n",
    "\n",
    "df = results_to_dataframe(all_results)"
   ]
  },
  {
   "cell_type": "code",
   "execution_count": 30,
   "metadata": {},
   "outputs": [
    {
     "data": {
      "text/html": [
       "<div>\n",
       "<style scoped>\n",
       "    .dataframe tbody tr th:only-of-type {\n",
       "        vertical-align: middle;\n",
       "    }\n",
       "\n",
       "    .dataframe tbody tr th {\n",
       "        vertical-align: top;\n",
       "    }\n",
       "\n",
       "    .dataframe thead th {\n",
       "        text-align: right;\n",
       "    }\n",
       "</style>\n",
       "<table border=\"1\" class=\"dataframe\">\n",
       "  <thead>\n",
       "    <tr style=\"text-align: right;\">\n",
       "      <th></th>\n",
       "      <th>Titre</th>\n",
       "      <th>Date</th>\n",
       "    </tr>\n",
       "  </thead>\n",
       "  <tbody>\n",
       "    <tr>\n",
       "      <th>0</th>\n",
       "      <td>Arrêté du 20 janvier 2022 fixant la liste des ...</td>\n",
       "      <td>2022-01-01T00:00:00.000+0000</td>\n",
       "    </tr>\n",
       "    <tr>\n",
       "      <th>1</th>\n",
       "      <td>Arrêté du 20 janvier 2022 fixant la liste des ...</td>\n",
       "      <td>2022-01-01T00:00:00.000+0000</td>\n",
       "    </tr>\n",
       "    <tr>\n",
       "      <th>2</th>\n",
       "      <td>Arrêté du 15 décembre 2021 fixant les règles d...</td>\n",
       "      <td>2022-01-01T00:00:00.000+0000</td>\n",
       "    </tr>\n",
       "    <tr>\n",
       "      <th>3</th>\n",
       "      <td>Arrêté du 1er juillet 2021 fixant la liste des...</td>\n",
       "      <td>2021-01-01T00:00:00.000+0000</td>\n",
       "    </tr>\n",
       "    <tr>\n",
       "      <th>4</th>\n",
       "      <td>Arrêté du 1er juillet 2021 fixant la liste des...</td>\n",
       "      <td>2021-01-01T00:00:00.000+0000</td>\n",
       "    </tr>\n",
       "    <tr>\n",
       "      <th>...</th>\n",
       "      <td>...</td>\n",
       "      <td>...</td>\n",
       "    </tr>\n",
       "    <tr>\n",
       "      <th>339</th>\n",
       "      <td>Loi n° 2002-1094 du 29 août 2002 d'orientation...</td>\n",
       "      <td>2002-08-30T00:00:00.000+0000</td>\n",
       "    </tr>\n",
       "    <tr>\n",
       "      <th>340</th>\n",
       "      <td>Loi n° 2002-1094 du 29 août 2002 d'orientation...</td>\n",
       "      <td>2002-08-30T00:00:00.000+0000</td>\n",
       "    </tr>\n",
       "    <tr>\n",
       "      <th>341</th>\n",
       "      <td>Loi n° 2002-1094 du 29 août 2002 d'orientation...</td>\n",
       "      <td>2002-08-30T00:00:00.000+0000</td>\n",
       "    </tr>\n",
       "    <tr>\n",
       "      <th>342</th>\n",
       "      <td>Loi n° 2002-1094 du 29 août 2002 d'orientation...</td>\n",
       "      <td>2002-08-30T00:00:00.000+0000</td>\n",
       "    </tr>\n",
       "    <tr>\n",
       "      <th>343</th>\n",
       "      <td>Loi n° 2001-504 du 12 juin 2001 tendant à renf...</td>\n",
       "      <td>2001-06-13T00:00:00.000+0000</td>\n",
       "    </tr>\n",
       "  </tbody>\n",
       "</table>\n",
       "<p>344 rows × 2 columns</p>\n",
       "</div>"
      ],
      "text/plain": [
       "                                                 Titre  \\\n",
       "0    Arrêté du 20 janvier 2022 fixant la liste des ...   \n",
       "1    Arrêté du 20 janvier 2022 fixant la liste des ...   \n",
       "2    Arrêté du 15 décembre 2021 fixant les règles d...   \n",
       "3    Arrêté du 1er juillet 2021 fixant la liste des...   \n",
       "4    Arrêté du 1er juillet 2021 fixant la liste des...   \n",
       "..                                                 ...   \n",
       "339  Loi n° 2002-1094 du 29 août 2002 d'orientation...   \n",
       "340  Loi n° 2002-1094 du 29 août 2002 d'orientation...   \n",
       "341  Loi n° 2002-1094 du 29 août 2002 d'orientation...   \n",
       "342  Loi n° 2002-1094 du 29 août 2002 d'orientation...   \n",
       "343  Loi n° 2001-504 du 12 juin 2001 tendant à renf...   \n",
       "\n",
       "                             Date  \n",
       "0    2022-01-01T00:00:00.000+0000  \n",
       "1    2022-01-01T00:00:00.000+0000  \n",
       "2    2022-01-01T00:00:00.000+0000  \n",
       "3    2021-01-01T00:00:00.000+0000  \n",
       "4    2021-01-01T00:00:00.000+0000  \n",
       "..                            ...  \n",
       "339  2002-08-30T00:00:00.000+0000  \n",
       "340  2002-08-30T00:00:00.000+0000  \n",
       "341  2002-08-30T00:00:00.000+0000  \n",
       "342  2002-08-30T00:00:00.000+0000  \n",
       "343  2001-06-13T00:00:00.000+0000  \n",
       "\n",
       "[344 rows x 2 columns]"
      ]
     },
     "execution_count": 30,
     "metadata": {},
     "output_type": "execute_result"
    }
   ],
   "source": [
    "df"
   ]
  }
 ],
 "metadata": {
  "kernelspec": {
   "display_name": "base",
   "language": "python",
   "name": "python3"
  },
  "language_info": {
   "codemirror_mode": {
    "name": "ipython",
    "version": 3
   },
   "file_extension": ".py",
   "mimetype": "text/x-python",
   "name": "python",
   "nbconvert_exporter": "python",
   "pygments_lexer": "ipython3",
   "version": "3.12.7"
  }
 },
 "nbformat": 4,
 "nbformat_minor": 2
}
