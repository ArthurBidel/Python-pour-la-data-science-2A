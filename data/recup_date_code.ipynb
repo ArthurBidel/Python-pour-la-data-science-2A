{
 "cells": [
  {
   "cell_type": "code",
   "execution_count": 4,
   "metadata": {},
   "outputs": [],
   "source": [
    "import re\n",
    "from datetime import datetime\n",
    "\n",
    "# Liste des mois en français pour le format avec mois en lettres\n",
    "MOIS_FR = {\n",
    "    \"janvier\": \"01\", \"février\": \"02\", \"mars\": \"03\", \"avril\": \"04\",\n",
    "    \"mai\": \"05\", \"juin\": \"06\", \"juillet\": \"07\", \"août\": \"08\",\n",
    "    \"septembre\": \"09\", \"octobre\": \"10\", \"novembre\": \"11\", \"décembre\": \"12\"\n",
    "}\n",
    "\n",
    "def extraire_premiere_date(chaine):\n",
    "    \"\"\"\n",
    "    Extrait la première date trouvée dans une chaîne et la renvoie au format datetime.\n",
    "    Formats reconnus : \"14 janvier 2022\", \"14/01/2022\" et \"1er août 2022\".\n",
    "    \"\"\"\n",
    "    # Expression régulière pour les dates en format numérique (14/01/2022)\n",
    "    regex_numerique = r\"\\b(\\d{1,2})/(\\d{1,2})/(\\d{4})\\b\"\n",
    "    # Expression régulière pour les dates avec mois en lettres (14 janvier 2022, 1er août 2022)\n",
    "    regex_lettres = r\"\\b(\\d{1,2}(?:er)?)\\s+([a-zéûîô]+)\\s+(\\d{4})\\b\"\n",
    "    \n",
    "    # Chercher une date numérique\n",
    "    match_numerique = re.search(regex_numerique, chaine)\n",
    "    if match_numerique:\n",
    "        jour, mois, annee = match_numerique.groups()\n",
    "        return datetime.strptime(f\"{jour}/{mois}/{annee}\", \"%d/%m/%Y\").strftime(\"%Y-%m-%d\")\n",
    "    \n",
    "    # Chercher une date avec mois en lettres\n",
    "    match_lettres = re.search(regex_lettres, chaine, re.IGNORECASE)\n",
    "    if match_lettres:\n",
    "        jour, mois_lettres, annee = match_lettres.groups()\n",
    "        # Gérer le cas \"1er\" en enlevant \"er\"\n",
    "        jour = jour.replace(\"er\", \"\")\n",
    "        mois = MOIS_FR.get(mois_lettres.lower())\n",
    "        if mois:  # Si le mois a été trouvé\n",
    "            return datetime.strptime(f\"{jour}/{mois}/{annee}\", \"%d/%m/%Y\").strftime(\"%Y-%m-%d\")\n",
    "    \n",
    "    # Si aucune date n'est trouvée\n",
    "    return None"
   ]
  },
  {
   "cell_type": "code",
   "execution_count": 7,
   "metadata": {},
   "outputs": [
    {
     "name": "stdout",
     "output_type": "stream",
     "text": [
      "Date extraite 1 : 2003-04-01\n",
      "Date extraite 2 : 2024-12-12\n",
      "Date extraite 3 : None\n"
     ]
    }
   ],
   "source": [
    "# Test avec exemple fictif\n",
    "texte = \"Arrêté du 1er avril 2003 modifiant l'arrêté du 11 septemnre 1997 relatif à blabla.\"\n",
    "resultat = extraire_premiere_date(texte)\n",
    "print(\"Date extraite 1 :\", resultat)\n",
    "\n",
    "texte_bis= \"CAA de BORDEAUX, Juge des Référés, 12/12/2024, 14BXjfyf, Inédit.\"\n",
    "resultat_bis = extraire_premiere_date(texte_bis)\n",
    "print(\"Date extraite 2 :\", resultat_bis)\n",
    "\n",
    "texte_ter= \"Arthur Bidel et Wiwi Olivier énormes boss\"\n",
    "resultat_ter = extraire_premiere_date(texte_ter)\n",
    "print(\"Date extraite 3 :\", resultat_ter)"
   ]
  }
 ],
 "metadata": {
  "kernelspec": {
   "display_name": "base",
   "language": "python",
   "name": "python3"
  },
  "language_info": {
   "codemirror_mode": {
    "name": "ipython",
    "version": 3
   },
   "file_extension": ".py",
   "mimetype": "text/x-python",
   "name": "python",
   "nbconvert_exporter": "python",
   "pygments_lexer": "ipython3",
   "version": "3.12.7"
  }
 },
 "nbformat": 4,
 "nbformat_minor": 2
}
