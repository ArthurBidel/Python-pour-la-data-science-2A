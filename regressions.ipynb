{
 "cells": [
  {
   "cell_type": "code",
   "execution_count": 17,
   "metadata": {},
   "outputs": [
    {
     "name": "stdout",
     "output_type": "stream",
     "text": [
      "Requirement already satisfied: openpyxl in /opt/conda/lib/python3.12/site-packages (from -r requirements.txt (line 1)) (3.1.5)\n",
      "Requirement already satisfied: requests in /opt/conda/lib/python3.12/site-packages (from -r requirements.txt (line 2)) (2.32.3)\n",
      "Requirement already satisfied: lxml in /opt/conda/lib/python3.12/site-packages (from -r requirements.txt (line 3)) (5.3.0)\n",
      "Requirement already satisfied: bs4 in /opt/conda/lib/python3.12/site-packages (from -r requirements.txt (line 4)) (0.0.2)\n",
      "Requirement already satisfied: geopandas in /opt/conda/lib/python3.12/site-packages (from -r requirements.txt (line 5)) (1.0.1)\n",
      "Requirement already satisfied: pandas in /opt/conda/lib/python3.12/site-packages (from -r requirements.txt (line 6)) (2.2.3)\n",
      "Requirement already satisfied: python-dotenv in /opt/conda/lib/python3.12/site-packages (from -r requirements.txt (line 7)) (1.0.1)\n",
      "Requirement already satisfied: requests-oauthlib in /opt/conda/lib/python3.12/site-packages (from -r requirements.txt (line 8)) (2.0.0)\n",
      "Requirement already satisfied: matplotlib in /opt/conda/lib/python3.12/site-packages (from -r requirements.txt (line 9)) (3.10.0)\n",
      "Requirement already satisfied: statsmodels in /opt/conda/lib/python3.12/site-packages (from -r requirements.txt (line 10)) (0.14.4)\n",
      "Requirement already satisfied: linearmodels in /opt/conda/lib/python3.12/site-packages (from -r requirements.txt (line 11)) (6.1)\n",
      "Requirement already satisfied: seaborn in /opt/conda/lib/python3.12/site-packages (from -r requirements.txt (line 12)) (0.13.2)\n",
      "Requirement already satisfied: numpy in /opt/conda/lib/python3.12/site-packages (from -r requirements.txt (line 13)) (2.2.1)\n",
      "Requirement already satisfied: et-xmlfile in /opt/conda/lib/python3.12/site-packages (from openpyxl->-r requirements.txt (line 1)) (2.0.0)\n",
      "Requirement already satisfied: charset_normalizer<4,>=2 in /opt/conda/lib/python3.12/site-packages (from requests->-r requirements.txt (line 2)) (3.4.0)\n",
      "Requirement already satisfied: idna<4,>=2.5 in /opt/conda/lib/python3.12/site-packages (from requests->-r requirements.txt (line 2)) (3.10)\n",
      "Requirement already satisfied: urllib3<3,>=1.21.1 in /opt/conda/lib/python3.12/site-packages (from requests->-r requirements.txt (line 2)) (2.2.3)\n",
      "Requirement already satisfied: certifi>=2017.4.17 in /opt/conda/lib/python3.12/site-packages (from requests->-r requirements.txt (line 2)) (2024.12.14)\n",
      "Requirement already satisfied: beautifulsoup4 in /opt/conda/lib/python3.12/site-packages (from bs4->-r requirements.txt (line 4)) (4.12.3)\n",
      "Requirement already satisfied: pyogrio>=0.7.2 in /opt/conda/lib/python3.12/site-packages (from geopandas->-r requirements.txt (line 5)) (0.10.0)\n",
      "Requirement already satisfied: packaging in /opt/conda/lib/python3.12/site-packages (from geopandas->-r requirements.txt (line 5)) (24.2)\n",
      "Requirement already satisfied: pyproj>=3.3.0 in /opt/conda/lib/python3.12/site-packages (from geopandas->-r requirements.txt (line 5)) (3.7.0)\n",
      "Requirement already satisfied: shapely>=2.0.0 in /opt/conda/lib/python3.12/site-packages (from geopandas->-r requirements.txt (line 5)) (2.0.6)\n",
      "Requirement already satisfied: python-dateutil>=2.8.2 in /opt/conda/lib/python3.12/site-packages (from pandas->-r requirements.txt (line 6)) (2.9.0.post0)\n",
      "Requirement already satisfied: pytz>=2020.1 in /opt/conda/lib/python3.12/site-packages (from pandas->-r requirements.txt (line 6)) (2024.1)\n",
      "Requirement already satisfied: tzdata>=2022.7 in /opt/conda/lib/python3.12/site-packages (from pandas->-r requirements.txt (line 6)) (2024.2)\n",
      "Requirement already satisfied: oauthlib>=3.0.0 in /opt/conda/lib/python3.12/site-packages (from requests-oauthlib->-r requirements.txt (line 8)) (3.2.2)\n",
      "Requirement already satisfied: contourpy>=1.0.1 in /opt/conda/lib/python3.12/site-packages (from matplotlib->-r requirements.txt (line 9)) (1.3.1)\n",
      "Requirement already satisfied: cycler>=0.10 in /opt/conda/lib/python3.12/site-packages (from matplotlib->-r requirements.txt (line 9)) (0.12.1)\n",
      "Requirement already satisfied: fonttools>=4.22.0 in /opt/conda/lib/python3.12/site-packages (from matplotlib->-r requirements.txt (line 9)) (4.55.3)\n",
      "Requirement already satisfied: kiwisolver>=1.3.1 in /opt/conda/lib/python3.12/site-packages (from matplotlib->-r requirements.txt (line 9)) (1.4.7)\n",
      "Requirement already satisfied: pillow>=8 in /opt/conda/lib/python3.12/site-packages (from matplotlib->-r requirements.txt (line 9)) (11.0.0)\n",
      "Requirement already satisfied: pyparsing>=2.3.1 in /opt/conda/lib/python3.12/site-packages (from matplotlib->-r requirements.txt (line 9)) (3.2.0)\n",
      "Requirement already satisfied: scipy!=1.9.2,>=1.8 in /opt/conda/lib/python3.12/site-packages (from statsmodels->-r requirements.txt (line 10)) (1.14.1)\n",
      "Requirement already satisfied: patsy>=0.5.6 in /opt/conda/lib/python3.12/site-packages (from statsmodels->-r requirements.txt (line 10)) (1.0.1)\n",
      "Requirement already satisfied: mypy-extensions>=0.4 in /opt/conda/lib/python3.12/site-packages (from linearmodels->-r requirements.txt (line 11)) (1.0.0)\n",
      "Requirement already satisfied: Cython>=3.0.10 in /opt/conda/lib/python3.12/site-packages (from linearmodels->-r requirements.txt (line 11)) (3.0.11)\n",
      "Requirement already satisfied: pyhdfe>=0.1 in /opt/conda/lib/python3.12/site-packages (from linearmodels->-r requirements.txt (line 11)) (0.2.0)\n",
      "Requirement already satisfied: formulaic>=1.0.0 in /opt/conda/lib/python3.12/site-packages (from linearmodels->-r requirements.txt (line 11)) (1.1.1)\n",
      "Requirement already satisfied: setuptools-scm<9.0.0,>=8.0.0 in /opt/conda/lib/python3.12/site-packages (from setuptools-scm[toml]<9.0.0,>=8.0.0->linearmodels->-r requirements.txt (line 11)) (8.1.0)\n",
      "Requirement already satisfied: interface-meta>=1.2.0 in /opt/conda/lib/python3.12/site-packages (from formulaic>=1.0.0->linearmodels->-r requirements.txt (line 11)) (1.3.0)\n",
      "Requirement already satisfied: typing-extensions>=4.2.0 in /opt/conda/lib/python3.12/site-packages (from formulaic>=1.0.0->linearmodels->-r requirements.txt (line 11)) (4.12.2)\n",
      "Requirement already satisfied: wrapt>=1.0 in /opt/conda/lib/python3.12/site-packages (from formulaic>=1.0.0->linearmodels->-r requirements.txt (line 11)) (1.17.0)\n",
      "Requirement already satisfied: six>=1.5 in /opt/conda/lib/python3.12/site-packages (from python-dateutil>=2.8.2->pandas->-r requirements.txt (line 6)) (1.17.0)\n",
      "Requirement already satisfied: setuptools in /opt/conda/lib/python3.12/site-packages (from setuptools-scm<9.0.0,>=8.0.0->setuptools-scm[toml]<9.0.0,>=8.0.0->linearmodels->-r requirements.txt (line 11)) (75.6.0)\n",
      "Requirement already satisfied: soupsieve>1.2 in /opt/conda/lib/python3.12/site-packages (from beautifulsoup4->bs4->-r requirements.txt (line 4)) (2.5)\n"
     ]
    }
   ],
   "source": [
    "!pip install -r requirements.txt"
   ]
  },
  {
   "cell_type": "code",
   "execution_count": 18,
   "metadata": {},
   "outputs": [],
   "source": [
    "# Bibliothèques standard\n",
    "import os, requests, zipfile\n",
    "\n",
    "# Data science et manipulation de données\n",
    "import pandas as pd, numpy as np, geopandas as gpd\n",
    "\n",
    "# Accès S3\n",
    "import s3fs\n",
    "\n",
    "\n",
    "# Fonctions et styles personnalisés importés de visualisation.py\n",
    "from visualisation import (\n",
    "    charte_graphique,\n",
    "    charte_graphique2,\n",
    "    charte_graphique3,\n",
    "    dictionnaire_geo,\n",
    "    tracer_evolution_taux,\n",
    "    tracer_evolution_taux_relatif_lisse,\n",
    "    boxplot_indicateur_par_saison,\n",
    "    evolution_indicateur_animation,\n",
    "    animer_evolution_densite,\n",
    "    evolution_idf_animation,\n",
    "    get_increase,\n",
    "    tri_occurrence,\n",
    "    plot_histogram,\n",
    "    camembert,\n",
    "    nb_lignes_traitant,\n",
    "    filter_rows_with_keyword,\n",
    "    count_crime_keywords,\n",
    "    évolution_indicateur,\n",
    "    évolution_indicateur,\n",
    ")"
   ]
  },
  {
   "cell_type": "code",
   "execution_count": 19,
   "metadata": {},
   "outputs": [],
   "source": [
    "fs = s3fs.S3FileSystem(client_kwargs={\"endpoint_url\": \"https://minio.lab.sspcloud.fr\"})\n",
    "MY_BUCKET = \"anhlinh\"\n",
    "\n",
    "FILE_PATH_S3_DEP = f\"{MY_BUCKET}/diffusion/df_indicateurs_dep.csv\"\n",
    "with fs.open(FILE_PATH_S3_DEP, \"rb\") as file_in_dep:\n",
    "    df_indicateurs_dep = pd.read_csv(file_in_dep)\n",
    "\n",
    "\n",
    "FILE_PATH_S3_LODA = f\"{MY_BUCKET}/diffusion/df_loda.csv\"\n",
    "with fs.open(FILE_PATH_S3_LODA, \"rb\") as file_in_loda:\n",
    "    df_loda = pd.read_csv(file_in_loda)\n",
    "\n",
    "FILE_PATH_S3_NAT = f\"{MY_BUCKET}/diffusion/df_indicateurs_nat.csv\"\n",
    "with fs.open(FILE_PATH_S3_NAT, \"rb\") as file_in_nat:\n",
    "    df_indicateurs_nat = pd.read_csv(file_in_nat)\n"
   ]
  },
  {
   "cell_type": "code",
   "execution_count": 40,
   "metadata": {},
   "outputs": [
    {
     "data": {
      "text/html": [
       "<div>\n",
       "<style scoped>\n",
       "    .dataframe tbody tr th:only-of-type {\n",
       "        vertical-align: middle;\n",
       "    }\n",
       "\n",
       "    .dataframe tbody tr th {\n",
       "        vertical-align: top;\n",
       "    }\n",
       "\n",
       "    .dataframe thead th {\n",
       "        text-align: right;\n",
       "    }\n",
       "</style>\n",
       "<table border=\"1\" class=\"dataframe\">\n",
       "  <thead>\n",
       "    <tr style=\"text-align: right;\">\n",
       "      <th></th>\n",
       "      <th>Titre</th>\n",
       "      <th>Année</th>\n",
       "    </tr>\n",
       "  </thead>\n",
       "  <tbody>\n",
       "    <tr>\n",
       "      <th>0</th>\n",
       "      <td>Arrêté du 31 décembre 2008 relatif aux modalit...</td>\n",
       "      <td>2009</td>\n",
       "    </tr>\n",
       "    <tr>\n",
       "      <th>1</th>\n",
       "      <td>Arrêté du 31 décembre 2008 portant création d'...</td>\n",
       "      <td>2009</td>\n",
       "    </tr>\n",
       "    <tr>\n",
       "      <th>2</th>\n",
       "      <td>Décret n° 2008-1549 du 31 décembre 2008 portan...</td>\n",
       "      <td>2009</td>\n",
       "    </tr>\n",
       "    <tr>\n",
       "      <th>3</th>\n",
       "      <td>Arrêté du 31 décembre 2008 relatif aux modalit...</td>\n",
       "      <td>2009</td>\n",
       "    </tr>\n",
       "    <tr>\n",
       "      <th>4</th>\n",
       "      <td>Arrêté du 31 décembre 2008 relatif aux modalit...</td>\n",
       "      <td>2009</td>\n",
       "    </tr>\n",
       "  </tbody>\n",
       "</table>\n",
       "</div>"
      ],
      "text/plain": [
       "                                               Titre  Année\n",
       "0  Arrêté du 31 décembre 2008 relatif aux modalit...   2009\n",
       "1  Arrêté du 31 décembre 2008 portant création d'...   2009\n",
       "2  Décret n° 2008-1549 du 31 décembre 2008 portan...   2009\n",
       "3  Arrêté du 31 décembre 2008 relatif aux modalit...   2009\n",
       "4  Arrêté du 31 décembre 2008 relatif aux modalit...   2009"
      ]
     },
     "execution_count": 40,
     "metadata": {},
     "output_type": "execute_result"
    }
   ],
   "source": [
    "df_loda_reg = df_loda.drop([ \"Unnamed: 0\", \"ID\", \"Date\", \"Nature\", \"Etat\", \"Origine\", \"Date Publication\", \"Mois\"], axis = 1)\n",
    "df_loda_reg.head()"
   ]
  },
  {
   "cell_type": "code",
   "execution_count": 57,
   "metadata": {},
   "outputs": [
    {
     "name": "stdout",
     "output_type": "stream",
     "text": [
      "15541\n",
      "231\n"
     ]
    }
   ],
   "source": [
    "print(len(df_loda_reg))\n",
    "df_loda_filtre = df_loda_reg[df_loda_reg[\"Titre\"].str.contains(r\"\\bvols?\\b\", case=False, na=False)]\n",
    "print(len(df_loda_filtre))"
   ]
  },
  {
   "cell_type": "code",
   "execution_count": 58,
   "metadata": {},
   "outputs": [
    {
     "name": "stdout",
     "output_type": "stream",
     "text": [
      "    Année  Nombre d'articles\n",
      "0    1997                  5\n",
      "1    1998                  3\n",
      "2    1999                  2\n",
      "3    2000                  2\n",
      "4    2001                 13\n",
      "5    2002                  4\n",
      "6    2004                  9\n",
      "7    2005                 11\n",
      "8    2006                  6\n",
      "9    2008                 30\n",
      "10   2009                 13\n",
      "11   2010                  3\n",
      "12   2011                 15\n",
      "13   2012                 10\n",
      "14   2013                 19\n",
      "15   2014                  8\n",
      "16   2015                  4\n",
      "17   2016                  9\n",
      "18   2017                 13\n",
      "19   2018                  8\n",
      "20   2019                  3\n",
      "21   2020                  5\n",
      "22   2021                  6\n",
      "23   2022                 30\n"
     ]
    }
   ],
   "source": [
    "df_loda_reg_filtre = df_loda_filtre.groupby(\"Année\").size().reset_index(name=\"Nombre d'articles\")\n",
    "print(df_loda_reg_filtre)"
   ]
  },
  {
   "cell_type": "code",
   "execution_count": 61,
   "metadata": {},
   "outputs": [
    {
     "data": {
      "text/html": [
       "<div>\n",
       "<style scoped>\n",
       "    .dataframe tbody tr th:only-of-type {\n",
       "        vertical-align: middle;\n",
       "    }\n",
       "\n",
       "    .dataframe tbody tr th {\n",
       "        vertical-align: top;\n",
       "    }\n",
       "\n",
       "    .dataframe thead th {\n",
       "        text-align: right;\n",
       "    }\n",
       "</style>\n",
       "<table border=\"1\" class=\"dataframe\">\n",
       "  <thead>\n",
       "    <tr style=\"text-align: right;\">\n",
       "      <th></th>\n",
       "      <th>Année</th>\n",
       "      <th>Indicateur</th>\n",
       "      <th>Population</th>\n",
       "      <th>Taux (/10 000)</th>\n",
       "      <th>Nom Département</th>\n",
       "      <th>Densité</th>\n",
       "    </tr>\n",
       "  </thead>\n",
       "  <tbody>\n",
       "    <tr>\n",
       "      <th>10368</th>\n",
       "      <td>1996</td>\n",
       "      <td>Vols avec violence</td>\n",
       "      <td>499310</td>\n",
       "      <td>4.205804</td>\n",
       "      <td>Ain</td>\n",
       "      <td>86.655675</td>\n",
       "    </tr>\n",
       "    <tr>\n",
       "      <th>10369</th>\n",
       "      <td>1996</td>\n",
       "      <td>Vols avec violence</td>\n",
       "      <td>538017</td>\n",
       "      <td>6.003528</td>\n",
       "      <td>Aisne</td>\n",
       "      <td>73.080277</td>\n",
       "    </tr>\n",
       "    <tr>\n",
       "      <th>10370</th>\n",
       "      <td>1996</td>\n",
       "      <td>Vols avec violence</td>\n",
       "      <td>349376</td>\n",
       "      <td>5.695869</td>\n",
       "      <td>Allier</td>\n",
       "      <td>47.598910</td>\n",
       "    </tr>\n",
       "    <tr>\n",
       "      <th>10371</th>\n",
       "      <td>1996</td>\n",
       "      <td>Vols avec violence</td>\n",
       "      <td>137453</td>\n",
       "      <td>4.146872</td>\n",
       "      <td>Alpes-de-Haute-Provence</td>\n",
       "      <td>19.848809</td>\n",
       "    </tr>\n",
       "    <tr>\n",
       "      <th>10372</th>\n",
       "      <td>1996</td>\n",
       "      <td>Vols avec violence</td>\n",
       "      <td>118526</td>\n",
       "      <td>3.712266</td>\n",
       "      <td>Hautes-Alpes</td>\n",
       "      <td>21.359885</td>\n",
       "    </tr>\n",
       "  </tbody>\n",
       "</table>\n",
       "</div>"
      ],
      "text/plain": [
       "       Année          Indicateur  Population  Taux (/10 000)  \\\n",
       "10368   1996  Vols avec violence      499310        4.205804   \n",
       "10369   1996  Vols avec violence      538017        6.003528   \n",
       "10370   1996  Vols avec violence      349376        5.695869   \n",
       "10371   1996  Vols avec violence      137453        4.146872   \n",
       "10372   1996  Vols avec violence      118526        3.712266   \n",
       "\n",
       "               Nom Département    Densité  \n",
       "10368                      Ain  86.655675  \n",
       "10369                    Aisne  73.080277  \n",
       "10370                   Allier  47.598910  \n",
       "10371  Alpes-de-Haute-Provence  19.848809  \n",
       "10372             Hautes-Alpes  21.359885  "
      ]
     },
     "execution_count": 61,
     "metadata": {},
     "output_type": "execute_result"
    }
   ],
   "source": [
    "df_indicateurs_reg = df_indicateurs_dep.drop([ \"Unnamed: 0\", \"Superficie (km2)\", \"Nombre\" , \"Département\"], axis = 1)\n",
    "df_indicateurs_reg = df_indicateurs_reg[df_indicateurs_reg[\"Indicateur\"] == \"Vols sans violence\"]\n",
    "df_indicateurs_reg.head()"
   ]
  },
  {
   "cell_type": "code",
   "execution_count": 59,
   "metadata": {},
   "outputs": [
    {
     "name": "stdout",
     "output_type": "stream",
     "text": [
      "     Année  Taux de pauvreté (%)\n",
      "0     1996                  19.3\n",
      "12    1997                  18.8\n",
      "24    1998                  18.4\n",
      "36    1999                  17.9\n",
      "48    2000                  18.0\n",
      "60    2001                  17.2\n",
      "72    2002                  16.6\n",
      "84    2003                  18.4\n",
      "96    2004                  18.0\n",
      "108   2005                  18.8\n",
      "120   2006                  18.0\n",
      "132   2007                  18.2\n",
      "144   2008                  18.5\n",
      "156   2009                  19.0\n",
      "168   2010                  18.9\n",
      "180   2011                  19.2\n",
      "192   2012                  20.5\n",
      "204   2013                  20.0\n",
      "216   2014                  20.2\n",
      "228   2015                  19.7\n",
      "240   2016                  19.7\n",
      "252   2017                  19.5\n",
      "264   2018                  19.6\n",
      "276   2019                  19.7\n",
      "288   2020                  18.6\n",
      "300   2021                  20.2\n",
      "312   2022                  19.3\n"
     ]
    }
   ],
   "source": [
    "df_indicateurs_nat.head()\n",
    "df_indicateurs_nat_reg = df_indicateurs_nat.loc[: ,[\"Année\", \"Taux de pauvreté (%)\"]]\n",
    "df_pauvrete_percent = df_indicateurs_nat_reg.drop_duplicates()\n",
    "print(df_pauvrete_percent)"
   ]
  },
  {
   "cell_type": "code",
   "execution_count": 63,
   "metadata": {},
   "outputs": [
    {
     "name": "stdout",
     "output_type": "stream",
     "text": [
      "      Année  Taux de pauvreté (%)  Nombre d'articles          Indicateur  \\\n",
      "0      1996                  19.3                NaN  Vols avec violence   \n",
      "1      1996                  19.3                NaN  Vols avec violence   \n",
      "2      1996                  19.3                NaN  Vols avec violence   \n",
      "3      1996                  19.3                NaN  Vols avec violence   \n",
      "4      1996                  19.3                NaN  Vols avec violence   \n",
      "...     ...                   ...                ...                 ...   \n",
      "2587   2022                  19.3               30.0  Vols avec violence   \n",
      "2588   2022                  19.3               30.0  Vols avec violence   \n",
      "2589   2022                  19.3               30.0  Vols avec violence   \n",
      "2590   2022                  19.3               30.0  Vols avec violence   \n",
      "2591   2022                  19.3               30.0  Vols avec violence   \n",
      "\n",
      "      Population  Taux (/10 000)          Nom Département      Densité  \n",
      "0         499310        4.205804                      Ain    86.655675  \n",
      "1         538017        6.003528                    Aisne    73.080277  \n",
      "2         349376        5.695869                   Allier    47.598910  \n",
      "3         137453        4.146872  Alpes-de-Haute-Provence    19.848809  \n",
      "4         118526        3.712266             Hautes-Alpes    21.359885  \n",
      "...          ...             ...                      ...          ...  \n",
      "2587     1319836        8.470749                  Essonne   731.616408  \n",
      "2588     1641277       12.606038           Hauts-de-Seine  9325.437500  \n",
      "2589     1679240       22.927038        Seine-Saint-Denis  7115.423729  \n",
      "2590     1421887       12.328687             Val-de-Marne  5803.620408  \n",
      "2591     1263170       11.502806               Val-d'Oise  1013.780096  \n",
      "\n",
      "[2592 rows x 8 columns]\n"
     ]
    }
   ],
   "source": [
    "df_pauvrete_loda_nbr= pd.merge(df_pauvrete_percent, df_loda_reg_filtre, on=\"Année\", how=\"outer\")\n",
    "df_reg =pd.merge(df_pauvrete_loda_nbr, df_indicateurs_reg, on = \"Année\", how = \"outer\")\n",
    "print(df_reg)"
   ]
  },
  {
   "cell_type": "code",
   "execution_count": 64,
   "metadata": {},
   "outputs": [
    {
     "name": "stdout",
     "output_type": "stream",
     "text": [
      "              Nom Département  Année  Taux de pauvreté (%)  Nombre d'articles  \\\n",
      "0                         Ain   1996                  19.3                NaN   \n",
      "1                       Aisne   1996                  19.3                NaN   \n",
      "2                      Allier   1996                  19.3                NaN   \n",
      "3     Alpes-de-Haute-Provence   1996                  19.3                NaN   \n",
      "4                Hautes-Alpes   1996                  19.3                NaN   \n",
      "...                       ...    ...                   ...                ...   \n",
      "2587                  Essonne   2022                  19.3               30.0   \n",
      "2588           Hauts-de-Seine   2022                  19.3               30.0   \n",
      "2589        Seine-Saint-Denis   2022                  19.3               30.0   \n",
      "2590             Val-de-Marne   2022                  19.3               30.0   \n",
      "2591               Val-d'Oise   2022                  19.3               30.0   \n",
      "\n",
      "              Indicateur  Population  Taux (/10 000)      Densité  \n",
      "0     Vols avec violence      499310        4.205804    86.655675  \n",
      "1     Vols avec violence      538017        6.003528    73.080277  \n",
      "2     Vols avec violence      349376        5.695869    47.598910  \n",
      "3     Vols avec violence      137453        4.146872    19.848809  \n",
      "4     Vols avec violence      118526        3.712266    21.359885  \n",
      "...                  ...         ...             ...          ...  \n",
      "2587  Vols avec violence     1319836        8.470749   731.616408  \n",
      "2588  Vols avec violence     1641277       12.606038  9325.437500  \n",
      "2589  Vols avec violence     1679240       22.927038  7115.423729  \n",
      "2590  Vols avec violence     1421887       12.328687  5803.620408  \n",
      "2591  Vols avec violence     1263170       11.502806  1013.780096  \n",
      "\n",
      "[2592 rows x 8 columns]\n"
     ]
    }
   ],
   "source": [
    "colonne_a_mettre_en_premier = \"Nom Département\"\n",
    "colonnes = [colonne_a_mettre_en_premier] + [col for col in df_reg.columns if col != colonne_a_mettre_en_premier]\n",
    "df_reg = df_reg[colonnes]\n",
    "print(df_reg)"
   ]
  }
 ],
 "metadata": {
  "kernelspec": {
   "display_name": "base",
   "language": "python",
   "name": "python3"
  },
  "language_info": {
   "codemirror_mode": {
    "name": "ipython",
    "version": 3
   },
   "file_extension": ".py",
   "mimetype": "text/x-python",
   "name": "python",
   "nbconvert_exporter": "python",
   "pygments_lexer": "ipython3",
   "version": "3.12.7"
  }
 },
 "nbformat": 4,
 "nbformat_minor": 2
}
