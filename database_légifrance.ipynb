{
 "cells": [
  {
   "cell_type": "markdown",
   "metadata": {},
   "source": [
    "# Base de données répertoriant les nouveaux textes législatifs (depuis 2006) en France"
   ]
  },
  {
   "cell_type": "markdown",
   "metadata": {},
   "source": [
    "### Table des matières\n",
    "\n",
    "* [Récupération des données de Légifrance via une API](#section1)\n",
    "    * [xxx](#section11)\n",
    "    * [xxx](#section12)\n",
    "* [Nettoyage des données de Légifrance](#section2)\n",
    "    * [xxx](#section21)\n",
    "* [Sauvegarde des tableaux de données finalisées](#section3)"
   ]
  },
  {
   "cell_type": "markdown",
   "metadata": {},
   "source": [
    "(NB : Les liens hypertextes présents dans ce markdown et les suivants renvoient aux sites internet sur lesquelles les tableaux de données ont été téléchargées et ne correspondent pas aux URL de téléchargement, l'exécution des cellules de code permet de télécharger automatiquement les jeux de données)\n",
    "\n",
    "Nous avons récupéré, grâce à l'open data du ministère de l'intérieur ([ici](https://www.data.gouv.fr/fr/datasets/chiffres-departementaux-mensuels-relatifs-aux-crimes-et-delits-enregistres-par-les-services-de-police-et-de-gendarmerie-depuis-janvier-1996/)) les données relatives aux crimes et délits enregistrés dans chaque département et en France entre janvier 1996 et août 2022. Ce jeu de données a été produit successivement par le Ministère de l'Intérieur puis par le SSMSI depuis sa création en 2014. \n",
    "\n",
    "Issu directement des applications informatiques de gestion, il n'est pas retraité et reste assez brut. Entre autres, il ne nous donne accès qu'au nombre d'infractions (classées par type) par département, nous l'avons donc complété avec des données d'estimation de population pour obtenir des taux d'infractions plutôt que des chiffres bruts. Nous avons ensuite ajouté à notre base de données des indices de localisation pour nous permettre de réaliser des représentations géographiques dans notre partie de statistiques descriptives."
   ]
  },
  {
   "cell_type": "code",
   "execution_count": 8,
   "metadata": {},
   "outputs": [],
   "source": [
    "import pandas as pd\n",
    "import matplotlib.pyplot as plt\n",
    "import s3fs"
   ]
  },
  {
   "cell_type": "code",
   "execution_count": 2,
   "metadata": {},
   "outputs": [],
   "source": [
    "# Chemin vers le fichier CSV\n",
    "chemin_fichier = \"data/resultats_legifrance_loda.csv\"\n",
    "df_loda = pd.read_csv(chemin_fichier)"
   ]
  },
  {
   "cell_type": "code",
   "execution_count": 3,
   "metadata": {},
   "outputs": [
    {
     "data": {
      "text/html": [
       "<div>\n",
       "<style scoped>\n",
       "    .dataframe tbody tr th:only-of-type {\n",
       "        vertical-align: middle;\n",
       "    }\n",
       "\n",
       "    .dataframe tbody tr th {\n",
       "        vertical-align: top;\n",
       "    }\n",
       "\n",
       "    .dataframe thead th {\n",
       "        text-align: right;\n",
       "    }\n",
       "</style>\n",
       "<table border=\"1\" class=\"dataframe\">\n",
       "  <thead>\n",
       "    <tr style=\"text-align: right;\">\n",
       "      <th></th>\n",
       "      <th>Titre</th>\n",
       "      <th>ID</th>\n",
       "      <th>Date</th>\n",
       "      <th>Nature</th>\n",
       "      <th>Etat</th>\n",
       "      <th>Origine</th>\n",
       "      <th>Date Publication</th>\n",
       "    </tr>\n",
       "  </thead>\n",
       "  <tbody>\n",
       "    <tr>\n",
       "      <th>5091</th>\n",
       "      <td>Arrêté du 26 décembre 2012 relatif aux concour...</td>\n",
       "      <td>LEGITEXT000026880882_18-07-2016</td>\n",
       "      <td>2012-12-30T00:00:00.000+0000</td>\n",
       "      <td>ARRETE</td>\n",
       "      <td>VIGUEUR</td>\n",
       "      <td>LEGI</td>\n",
       "      <td>2012-12-29T00:00:00.000+0000</td>\n",
       "    </tr>\n",
       "  </tbody>\n",
       "</table>\n",
       "</div>"
      ],
      "text/plain": [
       "                                                  Titre  \\\n",
       "5091  Arrêté du 26 décembre 2012 relatif aux concour...   \n",
       "\n",
       "                                   ID                          Date  Nature  \\\n",
       "5091  LEGITEXT000026880882_18-07-2016  2012-12-30T00:00:00.000+0000  ARRETE   \n",
       "\n",
       "         Etat Origine              Date Publication  \n",
       "5091  VIGUEUR    LEGI  2012-12-29T00:00:00.000+0000  "
      ]
     },
     "execution_count": 3,
     "metadata": {},
     "output_type": "execute_result"
    }
   ],
   "source": [
    "df_loda.sample()"
   ]
  },
  {
   "cell_type": "code",
   "execution_count": 4,
   "metadata": {},
   "outputs": [
    {
     "data": {
      "text/html": [
       "<div>\n",
       "<style scoped>\n",
       "    .dataframe tbody tr th:only-of-type {\n",
       "        vertical-align: middle;\n",
       "    }\n",
       "\n",
       "    .dataframe tbody tr th {\n",
       "        vertical-align: top;\n",
       "    }\n",
       "\n",
       "    .dataframe thead th {\n",
       "        text-align: right;\n",
       "    }\n",
       "</style>\n",
       "<table border=\"1\" class=\"dataframe\">\n",
       "  <thead>\n",
       "    <tr style=\"text-align: right;\">\n",
       "      <th></th>\n",
       "      <th>Titre</th>\n",
       "      <th>ID</th>\n",
       "      <th>Date</th>\n",
       "      <th>Nature</th>\n",
       "      <th>Etat</th>\n",
       "      <th>Origine</th>\n",
       "      <th>Date Publication</th>\n",
       "      <th>Mois</th>\n",
       "      <th>Année</th>\n",
       "    </tr>\n",
       "  </thead>\n",
       "  <tbody>\n",
       "    <tr>\n",
       "      <th>0</th>\n",
       "      <td>Arrêté du 31 août 2022 fixant les niveaux de p...</td>\n",
       "      <td>LEGITEXT000046244600_21-08-2023</td>\n",
       "      <td>2022-09-01 00:00:00+00:00</td>\n",
       "      <td>ARRETE</td>\n",
       "      <td>VIGUEUR</td>\n",
       "      <td>LEGI</td>\n",
       "      <td>2022-09-01T00:00:00.000+0000</td>\n",
       "      <td>09</td>\n",
       "      <td>2022</td>\n",
       "    </tr>\n",
       "    <tr>\n",
       "      <th>1</th>\n",
       "      <td>Arrêté du 30 août 2022 portant création de la ...</td>\n",
       "      <td>LEGITEXT000046664861_28-08-2023</td>\n",
       "      <td>2022-12-02 00:00:00+00:00</td>\n",
       "      <td>ARRETE</td>\n",
       "      <td>VIGUEUR</td>\n",
       "      <td>LEGI</td>\n",
       "      <td>2022-12-01T00:00:00.000+0000</td>\n",
       "      <td>12</td>\n",
       "      <td>2022</td>\n",
       "    </tr>\n",
       "    <tr>\n",
       "      <th>2</th>\n",
       "      <td>Arrêté du 30 août 2022 portant création de la ...</td>\n",
       "      <td>LEGITEXT000046664861_02-12-2022</td>\n",
       "      <td>2022-12-02 00:00:00+00:00</td>\n",
       "      <td>ARRETE</td>\n",
       "      <td>VIGUEUR</td>\n",
       "      <td>LEGI</td>\n",
       "      <td>2022-12-01T00:00:00.000+0000</td>\n",
       "      <td>12</td>\n",
       "      <td>2022</td>\n",
       "    </tr>\n",
       "    <tr>\n",
       "      <th>3</th>\n",
       "      <td>Arrêté du 29 août 2022 portant création de la ...</td>\n",
       "      <td>LEGITEXT000046666903_02-12-2022</td>\n",
       "      <td>2022-12-02 00:00:00+00:00</td>\n",
       "      <td>ARRETE</td>\n",
       "      <td>VIGUEUR</td>\n",
       "      <td>LEGI</td>\n",
       "      <td>2022-12-01T00:00:00.000+0000</td>\n",
       "      <td>12</td>\n",
       "      <td>2022</td>\n",
       "    </tr>\n",
       "    <tr>\n",
       "      <th>4</th>\n",
       "      <td>Arrêté du 22 août 2022 fixant la liste des pos...</td>\n",
       "      <td>LEGITEXT000046230032_21-11-2022</td>\n",
       "      <td>2022-09-01 00:00:00+00:00</td>\n",
       "      <td>ARRETE</td>\n",
       "      <td>VIGUEUR</td>\n",
       "      <td>LEGI</td>\n",
       "      <td>2022-08-31T00:00:00.000+0000</td>\n",
       "      <td>09</td>\n",
       "      <td>2022</td>\n",
       "    </tr>\n",
       "  </tbody>\n",
       "</table>\n",
       "</div>"
      ],
      "text/plain": [
       "                                               Titre  \\\n",
       "0  Arrêté du 31 août 2022 fixant les niveaux de p...   \n",
       "1  Arrêté du 30 août 2022 portant création de la ...   \n",
       "2  Arrêté du 30 août 2022 portant création de la ...   \n",
       "3  Arrêté du 29 août 2022 portant création de la ...   \n",
       "4  Arrêté du 22 août 2022 fixant la liste des pos...   \n",
       "\n",
       "                                ID                      Date  Nature     Etat  \\\n",
       "0  LEGITEXT000046244600_21-08-2023 2022-09-01 00:00:00+00:00  ARRETE  VIGUEUR   \n",
       "1  LEGITEXT000046664861_28-08-2023 2022-12-02 00:00:00+00:00  ARRETE  VIGUEUR   \n",
       "2  LEGITEXT000046664861_02-12-2022 2022-12-02 00:00:00+00:00  ARRETE  VIGUEUR   \n",
       "3  LEGITEXT000046666903_02-12-2022 2022-12-02 00:00:00+00:00  ARRETE  VIGUEUR   \n",
       "4  LEGITEXT000046230032_21-11-2022 2022-09-01 00:00:00+00:00  ARRETE  VIGUEUR   \n",
       "\n",
       "  Origine              Date Publication Mois Année  \n",
       "0    LEGI  2022-09-01T00:00:00.000+0000   09  2022  \n",
       "1    LEGI  2022-12-01T00:00:00.000+0000   12  2022  \n",
       "2    LEGI  2022-12-01T00:00:00.000+0000   12  2022  \n",
       "3    LEGI  2022-12-01T00:00:00.000+0000   12  2022  \n",
       "4    LEGI  2022-08-31T00:00:00.000+0000   09  2022  "
      ]
     },
     "execution_count": 4,
     "metadata": {},
     "output_type": "execute_result"
    }
   ],
   "source": [
    "# On met la date sous format date de pandas\n",
    "df_loda['Date'] = pd.to_datetime(df_loda['Date']) \n",
    "\n",
    "# On ajoute la colonne mois et l'année via la variable Date (On a arbitrairement écarté Date Publication car les écarts sont de quelques jours uniquement)\n",
    "df_loda['Mois'] = df_loda['Date'].dt.month.apply(lambda x: f'{x:02}')\n",
    "df_loda['Année'] = df_loda['Date'].dt.year.astype(str)\n",
    "\n",
    "df_loda.head()"
   ]
  },
  {
   "cell_type": "code",
   "execution_count": 5,
   "metadata": {},
   "outputs": [
    {
     "name": "stdout",
     "output_type": "stream",
     "text": [
      "Valeurs uniques dans la colonne 'année' :\n",
      "['2022' '2023' '2024' '2021' '2020' '2019' '2222' '2018' '2017' '2016'\n",
      " '2015' '2014' '2013' '2012' '2011' '2010' '2009' '2008' '2007' '2006']\n",
      "\n",
      "Valeurs uniques dans la colonne 'mois' :\n",
      "['09' '12' '08' '10' '07' '01' '05' '06' '04' '03' '02' '11']\n",
      "\n",
      "Valeurs uniques et leur fréquence dans la colonne 'Nature' :\n"
     ]
    },
    {
     "data": {
      "text/plain": [
       "Nature\n",
       "ARRETE        6790\n",
       "DECRET        1826\n",
       "LOI           1207\n",
       "ORDONNANCE     174\n",
       "DECISION         3\n",
       "Name: count, dtype: int64"
      ]
     },
     "execution_count": 5,
     "metadata": {},
     "output_type": "execute_result"
    }
   ],
   "source": [
    "# Vérification pertinence des données\n",
    "print(\"Valeurs uniques dans la colonne 'année' :\")\n",
    "print(df_loda['Année'].unique())\n",
    "\n",
    "print(\"\\nValeurs uniques dans la colonne 'mois' :\")\n",
    "print(df_loda['Mois'].unique())\n",
    "\n",
    "print(\"\\nValeurs uniques et leur fréquence dans la colonne 'Nature' :\")\n",
    "df_loda['Nature'].value_counts()\n"
   ]
  },
  {
   "cell_type": "markdown",
   "metadata": {},
   "source": [
    "On se permet d'exclure pour le reste de l'étude les nouvelles normes législatives adoptées de type \"décision\" puisqu'elles ne sont qu'au nombre de 3 sur la période étudiée (trop faible et donc sûrement pas significatif pour le reste de l'analyse)."
   ]
  },
  {
   "cell_type": "code",
   "execution_count": 6,
   "metadata": {},
   "outputs": [],
   "source": [
    "df_loda = df_loda[df_loda['Nature'] != 'DECISION']"
   ]
  },
  {
   "cell_type": "markdown",
   "metadata": {},
   "source": [
    "### Sauvegarde des tableaux de données finalisées <a class=\"anchor\" id=\"section3\"></a>"
   ]
  },
  {
   "cell_type": "code",
   "execution_count": null,
   "metadata": {},
   "outputs": [
    {
     "data": {
      "text/plain": [
       "['williamolivier/diffusion/df_indicateurs_dep.csv',\n",
       " 'williamolivier/diffusion/df_indicateurs_nat.csv',\n",
       " 'williamolivier/diffusion/df_loda.csv']"
      ]
     },
     "execution_count": 10,
     "metadata": {},
     "output_type": "execute_result"
    }
   ],
   "source": [
    "'''\n",
    "fs = s3fs.S3FileSystem(client_kwargs={\"endpoint_url\": \"https://minio.lab.sspcloud.fr\"})\n",
    "\n",
    "MY_BUCKET = \"williamolivier\"\n",
    "fs.ls(MY_BUCKET)\n",
    "\n",
    "# Sauvegarde dans S3\n",
    "MY_BUCKET = \"williamolivier\"\n",
    "FILE_PATH_OUT_S3 = f\"{MY_BUCKET}/diffusion/df_loda.csv\"\n",
    "\n",
    "with fs.open(FILE_PATH_OUT_S3, \"w\") as file_out:\n",
    "    df_loda.to_csv(file_out)\n",
    "\n",
    "fs.ls(f\"{MY_BUCKET}/diffusion\")\n",
    "'''"
   ]
  }
 ],
 "metadata": {
  "kernelspec": {
   "display_name": "base",
   "language": "python",
   "name": "python3"
  },
  "language_info": {
   "codemirror_mode": {
    "name": "ipython",
    "version": 3
   },
   "file_extension": ".py",
   "mimetype": "text/x-python",
   "name": "python",
   "nbconvert_exporter": "python",
   "pygments_lexer": "ipython3",
   "version": "3.12.7"
  }
 },
 "nbformat": 4,
 "nbformat_minor": 2
}
