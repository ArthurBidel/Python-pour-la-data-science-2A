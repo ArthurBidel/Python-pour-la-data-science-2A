{
 "cells": [
  {
   "cell_type": "markdown",
   "metadata": {},
   "source": [
    "# **Lois sécuritaires et criminalité en France**\n",
    "---\n",
    "\n",
    "<small>*Par Arthur Bidel, William Olivier et Anh Linh Piketty*</small>\n",
    "\n",
    "<br>"
   ]
  },
  {
   "cell_type": "markdown",
   "metadata": {},
   "source": [
    "## Introduction<a class=\"anchor\" id=\"partie1\"></a>"
   ]
  },
  {
   "cell_type": "markdown",
   "metadata": {},
   "source": [
    "Le thème de l'insécurité, avec celui de l'ordre, occupent une place importante dans le débat public et l'espace politique de ces dernières décennies. Ancrée à droite, la dénonciation d'une justice laxiste accompagne souvent la mise en exergue d'un \"sentiment d'insécurité\". Ce type de revendication repose sur plusieurs prémisses. Déjà de l'existence des phénomènes dénoncés mais aussi d'un effet à la baisse d'une législation plus stricte sur les phénomènes délinquants. Dans quelle mesure ces postulats s'appuient sur un ancrage empirique concret ? \n",
    "\n",
    "Ce projet de programmation s'inscrit dans la continuité de ce débat et tente (modestement) d'identifier l'effet de la production législative sur la criminalité et la délinquance en France. L'objet initial de notre curiosité était de vérifier si un effet à la baisse de la législation sécuritaire sur les taux de criminalité et de délinquance  était en effet constatable. Additionnellement, nous avons cherché à dresser un portrait plus descriptif de l'évolution de ces phénomènes sur les 20 dernières années ainsi que de la législation associée.\n",
    "\n",
    "Les chiffres répertoriant les nombres de crimes et délit en France sont aujourd'hui disponible sur d'assez large et période et permettent, bien qu'imparfaitement de documenter les différents aspects et évolutions de la criminalité dans l'hexagone. De même, la production législative est rendue disponible au public permettant de constater son évolution quantitativement et qualitativement. Nous approchons les textes de lois sous un angle plutôt quantitatif ici ce qui ne permet pas de mesurer une augmentation de la sévérité des textes par exemple, des approches NLP pourrait être intéressantes à développer pour approfondir cet angle de recherche. \n",
    "\n",
    "*NB1 : Les fonctions de visualisation ont été déplacées dans un script python (***visualisation.py***) pour plus de lisibilité*<br>\n",
    "*NB2 : Le travail de récupération et de mise en forme des données a été assez long pour les deux bases de données (sur les infractions et la législation) et deux autres notebooks leur sont consacrés. Le sommaire cliquable renvoie vers ces notebooks pour chacune des parties correspondantes*"
   ]
  },
  {
   "cell_type": "markdown",
   "metadata": {},
   "source": [
    "## Sommaire\n",
    "\n",
    "* [Introduction](#partie1)\n",
    "* [Installation](#partie2)\n",
    "* [Récuparation et description des données](#partie3)\n",
    "    * Base délinquance [(voir le notebook *database_délinquance*)](database_délinquance.ipynb)\n",
    "    * Base légifrance [(voir le notebook *database_légifrance*)](database_légifrance.ipynb)\n",
    "* [Analyse exploratoire](#partie4)\n",
    "    * [Portrait de la délinquance en France](#partie41)\n",
    "        * [Description et visualisation](#partie411)\n",
    "        * [Cartographie](#partie412)\n",
    "    * [La législation sécuritaire en France](#partie42)\n",
    "        * [Statistiques descriptives](#partie421)\n",
    "* [Modélisation](#partie5)\n",
    "    * [Fusion des bases de données](#partie51)\n",
    "    * [Régression de tel indicateur de criminalité sur la production législative](#partie52)\n",
    "        * [Simple ?????]()\n",
    "        * [Panel ?????]()\n",
    "    * [Décalage temporel ?????]()\n",
    "* [Conclusion et perspectives](#partie6)"
   ]
  },
  {
   "cell_type": "markdown",
   "metadata": {},
   "source": [
    "## Installation<a class=\"anchor\" id=\"partie2\"></a>"
   ]
  },
  {
   "cell_type": "code",
   "execution_count": 2,
   "metadata": {},
   "outputs": [
    {
     "name": "stdout",
     "output_type": "stream",
     "text": [
      "Requirement already satisfied: openpyxl in /opt/conda/lib/python3.12/site-packages (from -r requirements.txt (line 1)) (3.1.5)\n",
      "Requirement already satisfied: requests in /opt/conda/lib/python3.12/site-packages (from -r requirements.txt (line 2)) (2.32.3)\n",
      "Requirement already satisfied: lxml in /opt/conda/lib/python3.12/site-packages (from -r requirements.txt (line 3)) (5.3.0)\n",
      "Requirement already satisfied: bs4 in /opt/conda/lib/python3.12/site-packages (from -r requirements.txt (line 4)) (0.0.2)\n",
      "Requirement already satisfied: geopandas in /opt/conda/lib/python3.12/site-packages (from -r requirements.txt (line 5)) (1.0.1)\n",
      "Requirement already satisfied: pandas in /opt/conda/lib/python3.12/site-packages (from -r requirements.txt (line 6)) (2.2.3)\n",
      "Requirement already satisfied: python-dotenv in /opt/conda/lib/python3.12/site-packages (from -r requirements.txt (line 7)) (1.0.1)\n",
      "Requirement already satisfied: requests-oauthlib in /opt/conda/lib/python3.12/site-packages (from -r requirements.txt (line 8)) (2.0.0)\n",
      "Requirement already satisfied: matplotlib in /opt/conda/lib/python3.12/site-packages (from -r requirements.txt (line 9)) (3.10.0)\n",
      "Requirement already satisfied: statsmodels in /opt/conda/lib/python3.12/site-packages (from -r requirements.txt (line 10)) (0.14.4)\n",
      "Requirement already satisfied: linearmodels in /opt/conda/lib/python3.12/site-packages (from -r requirements.txt (line 11)) (6.1)\n",
      "Requirement already satisfied: seaborn in /opt/conda/lib/python3.12/site-packages (from -r requirements.txt (line 12)) (0.13.2)\n",
      "Requirement already satisfied: numpy in /opt/conda/lib/python3.12/site-packages (from -r requirements.txt (line 13)) (2.2.1)\n",
      "Requirement already satisfied: et-xmlfile in /opt/conda/lib/python3.12/site-packages (from openpyxl->-r requirements.txt (line 1)) (2.0.0)\n",
      "Requirement already satisfied: charset_normalizer<4,>=2 in /opt/conda/lib/python3.12/site-packages (from requests->-r requirements.txt (line 2)) (3.4.0)\n",
      "Requirement already satisfied: idna<4,>=2.5 in /opt/conda/lib/python3.12/site-packages (from requests->-r requirements.txt (line 2)) (3.10)\n",
      "Requirement already satisfied: urllib3<3,>=1.21.1 in /opt/conda/lib/python3.12/site-packages (from requests->-r requirements.txt (line 2)) (2.2.3)\n",
      "Requirement already satisfied: certifi>=2017.4.17 in /opt/conda/lib/python3.12/site-packages (from requests->-r requirements.txt (line 2)) (2024.12.14)\n",
      "Requirement already satisfied: beautifulsoup4 in /opt/conda/lib/python3.12/site-packages (from bs4->-r requirements.txt (line 4)) (4.12.3)\n",
      "Requirement already satisfied: pyogrio>=0.7.2 in /opt/conda/lib/python3.12/site-packages (from geopandas->-r requirements.txt (line 5)) (0.10.0)\n",
      "Requirement already satisfied: packaging in /opt/conda/lib/python3.12/site-packages (from geopandas->-r requirements.txt (line 5)) (24.2)\n",
      "Requirement already satisfied: pyproj>=3.3.0 in /opt/conda/lib/python3.12/site-packages (from geopandas->-r requirements.txt (line 5)) (3.7.0)\n",
      "Requirement already satisfied: shapely>=2.0.0 in /opt/conda/lib/python3.12/site-packages (from geopandas->-r requirements.txt (line 5)) (2.0.6)\n",
      "Requirement already satisfied: python-dateutil>=2.8.2 in /opt/conda/lib/python3.12/site-packages (from pandas->-r requirements.txt (line 6)) (2.9.0.post0)\n",
      "Requirement already satisfied: pytz>=2020.1 in /opt/conda/lib/python3.12/site-packages (from pandas->-r requirements.txt (line 6)) (2024.1)\n",
      "Requirement already satisfied: tzdata>=2022.7 in /opt/conda/lib/python3.12/site-packages (from pandas->-r requirements.txt (line 6)) (2024.2)\n",
      "Requirement already satisfied: oauthlib>=3.0.0 in /opt/conda/lib/python3.12/site-packages (from requests-oauthlib->-r requirements.txt (line 8)) (3.2.2)\n",
      "Requirement already satisfied: contourpy>=1.0.1 in /opt/conda/lib/python3.12/site-packages (from matplotlib->-r requirements.txt (line 9)) (1.3.1)\n",
      "Requirement already satisfied: cycler>=0.10 in /opt/conda/lib/python3.12/site-packages (from matplotlib->-r requirements.txt (line 9)) (0.12.1)\n",
      "Requirement already satisfied: fonttools>=4.22.0 in /opt/conda/lib/python3.12/site-packages (from matplotlib->-r requirements.txt (line 9)) (4.55.3)\n",
      "Requirement already satisfied: kiwisolver>=1.3.1 in /opt/conda/lib/python3.12/site-packages (from matplotlib->-r requirements.txt (line 9)) (1.4.7)\n",
      "Requirement already satisfied: pillow>=8 in /opt/conda/lib/python3.12/site-packages (from matplotlib->-r requirements.txt (line 9)) (11.0.0)\n",
      "Requirement already satisfied: pyparsing>=2.3.1 in /opt/conda/lib/python3.12/site-packages (from matplotlib->-r requirements.txt (line 9)) (3.2.0)\n",
      "Requirement already satisfied: scipy!=1.9.2,>=1.8 in /opt/conda/lib/python3.12/site-packages (from statsmodels->-r requirements.txt (line 10)) (1.14.1)\n",
      "Requirement already satisfied: patsy>=0.5.6 in /opt/conda/lib/python3.12/site-packages (from statsmodels->-r requirements.txt (line 10)) (1.0.1)\n",
      "Requirement already satisfied: mypy-extensions>=0.4 in /opt/conda/lib/python3.12/site-packages (from linearmodels->-r requirements.txt (line 11)) (1.0.0)\n",
      "Requirement already satisfied: Cython>=3.0.10 in /opt/conda/lib/python3.12/site-packages (from linearmodels->-r requirements.txt (line 11)) (3.0.11)\n",
      "Requirement already satisfied: pyhdfe>=0.1 in /opt/conda/lib/python3.12/site-packages (from linearmodels->-r requirements.txt (line 11)) (0.2.0)\n",
      "Requirement already satisfied: formulaic>=1.0.0 in /opt/conda/lib/python3.12/site-packages (from linearmodels->-r requirements.txt (line 11)) (1.1.1)\n",
      "Requirement already satisfied: setuptools-scm<9.0.0,>=8.0.0 in /opt/conda/lib/python3.12/site-packages (from setuptools-scm[toml]<9.0.0,>=8.0.0->linearmodels->-r requirements.txt (line 11)) (8.1.0)\n",
      "Requirement already satisfied: interface-meta>=1.2.0 in /opt/conda/lib/python3.12/site-packages (from formulaic>=1.0.0->linearmodels->-r requirements.txt (line 11)) (1.3.0)\n",
      "Requirement already satisfied: typing-extensions>=4.2.0 in /opt/conda/lib/python3.12/site-packages (from formulaic>=1.0.0->linearmodels->-r requirements.txt (line 11)) (4.12.2)\n",
      "Requirement already satisfied: wrapt>=1.0 in /opt/conda/lib/python3.12/site-packages (from formulaic>=1.0.0->linearmodels->-r requirements.txt (line 11)) (1.17.0)\n",
      "Requirement already satisfied: six>=1.5 in /opt/conda/lib/python3.12/site-packages (from python-dateutil>=2.8.2->pandas->-r requirements.txt (line 6)) (1.17.0)\n",
      "Requirement already satisfied: setuptools in /opt/conda/lib/python3.12/site-packages (from setuptools-scm<9.0.0,>=8.0.0->setuptools-scm[toml]<9.0.0,>=8.0.0->linearmodels->-r requirements.txt (line 11)) (75.6.0)\n",
      "Requirement already satisfied: soupsieve>1.2 in /opt/conda/lib/python3.12/site-packages (from beautifulsoup4->bs4->-r requirements.txt (line 4)) (2.5)\n"
     ]
    }
   ],
   "source": [
    "!pip install -r requirements.txt"
   ]
  },
  {
   "cell_type": "code",
   "execution_count": 3,
   "metadata": {},
   "outputs": [],
   "source": [
    "# Modules essentiels pour ce script\n",
    "import requests\n",
    "import os\n",
    "import zipfile\n",
    "import s3fs\n",
    "import numpy as np\n",
    "import pandas as pd\n",
    "import geopandas as gpd\n",
    "\n",
    "# Fonctions et styles personnalisés importés de visualisation.py\n",
    "from visualisation import (\n",
    "    charte_graphique,\n",
    "    charte_graphique2,\n",
    "    charte_graphique3,\n",
    "    dictionnaire_geo,\n",
    "    tracer_evolution_taux,\n",
    "    tracer_evolution_taux_relatif_lisse,\n",
    "    boxplot_indicateur_par_saison,\n",
    "    evolution_indicateur_animation,\n",
    "    animer_evolution_densite,\n",
    "    evolution_idf_animation,\n",
    "    get_increase,\n",
    "    tri_occurrence,\n",
    "    plot_histogram,\n",
    "    camembert,\n",
    "    nb_lignes_traitant,\n",
    "    filter_rows_with_keyword,\n",
    "    count_crime_keywords,\n",
    "    évolution_indicateur,\n",
    "    évolution_indicateur,\n",
    ")"
   ]
  },
  {
   "cell_type": "markdown",
   "metadata": {},
   "source": [
    "## Récuparation et description des données<a class=\"anchor\" id=\"partie3\"></a>"
   ]
  },
  {
   "cell_type": "markdown",
   "metadata": {},
   "source": [
    "Les tableaux de données conçus au début de notre travail, dans les deux notebooks consacrés, ont tous les deux été stockés sur S3 et on les récupère prêts à l'usage dans cette partie. Les parties de récupération et nettoyage des données sont donc optionnelles à la lecture mais offrent néanmoins des éclairages méthodologiques quant à la construction des indicateurs et des variables utilisées dans ce travail (lisez les svp...)."
   ]
  },
  {
   "cell_type": "markdown",
   "metadata": {},
   "source": [
    "<span style=\"color:red;\">**régler le problème de ce code marche pas**</span>"
   ]
  },
  {
   "cell_type": "code",
   "execution_count": 4,
   "metadata": {},
   "outputs": [],
   "source": [
    "# Information d'accès au cloud MinIO (Bucket de Anh Linh)\n",
    "fs = s3fs.S3FileSystem(client_kwargs={\"endpoint_url\": \"https://minio.lab.sspcloud.fr\"})\n",
    "MY_BUCKET = \"anhlinh\""
   ]
  },
  {
   "cell_type": "code",
   "execution_count": 5,
   "metadata": {},
   "outputs": [
    {
     "data": {
      "text/plain": [
       "['anhlinh/diffusion/.keep',\n",
       " 'anhlinh/diffusion/df_indicateurs_dep.csv',\n",
       " 'anhlinh/diffusion/df_indicateurs_nat.csv',\n",
       " 'anhlinh/diffusion/df_loda.csv']"
      ]
     },
     "execution_count": 5,
     "metadata": {},
     "output_type": "execute_result"
    }
   ],
   "source": [
    "# Vérification du contenu\n",
    "fs.ls(f\"{MY_BUCKET}/diffusion\")"
   ]
  },
  {
   "cell_type": "markdown",
   "metadata": {},
   "source": [
    "* #### Tableaux de données concernant la criminalité : "
   ]
  },
  {
   "cell_type": "code",
   "execution_count": 7,
   "metadata": {},
   "outputs": [
    {
     "data": {
      "text/html": [
       "<div>\n",
       "<style scoped>\n",
       "    .dataframe tbody tr th:only-of-type {\n",
       "        vertical-align: middle;\n",
       "    }\n",
       "\n",
       "    .dataframe tbody tr th {\n",
       "        vertical-align: top;\n",
       "    }\n",
       "\n",
       "    .dataframe thead th {\n",
       "        text-align: right;\n",
       "    }\n",
       "</style>\n",
       "<table border=\"1\" class=\"dataframe\">\n",
       "  <thead>\n",
       "    <tr style=\"text-align: right;\">\n",
       "      <th></th>\n",
       "      <th>Unnamed: 0</th>\n",
       "      <th>Année</th>\n",
       "      <th>Département</th>\n",
       "      <th>Indicateur</th>\n",
       "      <th>Nombre</th>\n",
       "      <th>Population</th>\n",
       "      <th>Taux (/10 000)</th>\n",
       "      <th>Nom Département</th>\n",
       "      <th>Superficie (km2)</th>\n",
       "      <th>Densité</th>\n",
       "    </tr>\n",
       "  </thead>\n",
       "  <tbody>\n",
       "    <tr>\n",
       "      <th>0</th>\n",
       "      <td>0</td>\n",
       "      <td>1996</td>\n",
       "      <td>01</td>\n",
       "      <td>Homicides</td>\n",
       "      <td>17.0</td>\n",
       "      <td>499310</td>\n",
       "      <td>0.340470</td>\n",
       "      <td>Ain</td>\n",
       "      <td>5762</td>\n",
       "      <td>86.655675</td>\n",
       "    </tr>\n",
       "    <tr>\n",
       "      <th>1</th>\n",
       "      <td>1</td>\n",
       "      <td>1996</td>\n",
       "      <td>02</td>\n",
       "      <td>Homicides</td>\n",
       "      <td>14.0</td>\n",
       "      <td>538017</td>\n",
       "      <td>0.260215</td>\n",
       "      <td>Aisne</td>\n",
       "      <td>7362</td>\n",
       "      <td>73.080277</td>\n",
       "    </tr>\n",
       "    <tr>\n",
       "      <th>2</th>\n",
       "      <td>2</td>\n",
       "      <td>1996</td>\n",
       "      <td>03</td>\n",
       "      <td>Homicides</td>\n",
       "      <td>11.0</td>\n",
       "      <td>349376</td>\n",
       "      <td>0.314847</td>\n",
       "      <td>Allier</td>\n",
       "      <td>7340</td>\n",
       "      <td>47.598910</td>\n",
       "    </tr>\n",
       "    <tr>\n",
       "      <th>3</th>\n",
       "      <td>3</td>\n",
       "      <td>1996</td>\n",
       "      <td>04</td>\n",
       "      <td>Homicides</td>\n",
       "      <td>6.0</td>\n",
       "      <td>137453</td>\n",
       "      <td>0.436513</td>\n",
       "      <td>Alpes-de-Haute-Provence</td>\n",
       "      <td>6925</td>\n",
       "      <td>19.848809</td>\n",
       "    </tr>\n",
       "    <tr>\n",
       "      <th>4</th>\n",
       "      <td>4</td>\n",
       "      <td>1996</td>\n",
       "      <td>05</td>\n",
       "      <td>Homicides</td>\n",
       "      <td>5.0</td>\n",
       "      <td>118526</td>\n",
       "      <td>0.421848</td>\n",
       "      <td>Hautes-Alpes</td>\n",
       "      <td>5549</td>\n",
       "      <td>21.359885</td>\n",
       "    </tr>\n",
       "  </tbody>\n",
       "</table>\n",
       "</div>"
      ],
      "text/plain": [
       "   Unnamed: 0  Année Département Indicateur  Nombre  Population  \\\n",
       "0           0   1996          01  Homicides    17.0      499310   \n",
       "1           1   1996          02  Homicides    14.0      538017   \n",
       "2           2   1996          03  Homicides    11.0      349376   \n",
       "3           3   1996          04  Homicides     6.0      137453   \n",
       "4           4   1996          05  Homicides     5.0      118526   \n",
       "\n",
       "   Taux (/10 000)          Nom Département  Superficie (km2)    Densité  \n",
       "0        0.340470                      Ain              5762  86.655675  \n",
       "1        0.260215                    Aisne              7362  73.080277  \n",
       "2        0.314847                   Allier              7340  47.598910  \n",
       "3        0.436513  Alpes-de-Haute-Provence              6925  19.848809  \n",
       "4        0.421848             Hautes-Alpes              5549  21.359885  "
      ]
     },
     "execution_count": 7,
     "metadata": {},
     "output_type": "execute_result"
    }
   ],
   "source": [
    "# Récupération du tableau départemental d'indicateur de criminalité\n",
    "FILE_PATH_S3_DEP = f\"{MY_BUCKET}/diffusion/df_indicateurs_dep.csv\"\n",
    "with fs.open(FILE_PATH_S3_DEP, \"rb\") as file_in_dep:\n",
    "    df_indicateurs_dep = pd.read_csv(file_in_dep)\n",
    "\n",
    "# Vérification\n",
    "df_indicateurs_dep.head()"
   ]
  },
  {
   "cell_type": "code",
   "execution_count": 8,
   "metadata": {},
   "outputs": [
    {
     "data": {
      "text/html": [
       "<div>\n",
       "<style scoped>\n",
       "    .dataframe tbody tr th:only-of-type {\n",
       "        vertical-align: middle;\n",
       "    }\n",
       "\n",
       "    .dataframe tbody tr th {\n",
       "        vertical-align: top;\n",
       "    }\n",
       "\n",
       "    .dataframe thead th {\n",
       "        text-align: right;\n",
       "    }\n",
       "</style>\n",
       "<table border=\"1\" class=\"dataframe\">\n",
       "  <thead>\n",
       "    <tr style=\"text-align: right;\">\n",
       "      <th></th>\n",
       "      <th>Unnamed: 0</th>\n",
       "      <th>Date</th>\n",
       "      <th>Zone</th>\n",
       "      <th>Indicateur</th>\n",
       "      <th>Nombre</th>\n",
       "      <th>Population</th>\n",
       "      <th>Taux (/10 000)</th>\n",
       "      <th>Année</th>\n",
       "      <th>Mois</th>\n",
       "      <th>Saison</th>\n",
       "      <th>Taux relatif</th>\n",
       "      <th>Taux de pauvreté (%)</th>\n",
       "    </tr>\n",
       "  </thead>\n",
       "  <tbody>\n",
       "    <tr>\n",
       "      <th>0</th>\n",
       "      <td>0</td>\n",
       "      <td>1996-01-01</td>\n",
       "      <td>France_Métro</td>\n",
       "      <td>Coups et blessures volontaires</td>\n",
       "      <td>5616.0</td>\n",
       "      <td>57936</td>\n",
       "      <td>0.969345</td>\n",
       "      <td>1996</td>\n",
       "      <td>1</td>\n",
       "      <td>Hiver</td>\n",
       "      <td>1.000000</td>\n",
       "      <td>19.3</td>\n",
       "    </tr>\n",
       "    <tr>\n",
       "      <th>1</th>\n",
       "      <td>1</td>\n",
       "      <td>1996-02-01</td>\n",
       "      <td>France_Métro</td>\n",
       "      <td>Coups et blessures volontaires</td>\n",
       "      <td>6115.0</td>\n",
       "      <td>57943</td>\n",
       "      <td>1.055347</td>\n",
       "      <td>1996</td>\n",
       "      <td>2</td>\n",
       "      <td>Hiver</td>\n",
       "      <td>1.088722</td>\n",
       "      <td>19.3</td>\n",
       "    </tr>\n",
       "    <tr>\n",
       "      <th>2</th>\n",
       "      <td>2</td>\n",
       "      <td>1996-03-01</td>\n",
       "      <td>France_Métro</td>\n",
       "      <td>Coups et blessures volontaires</td>\n",
       "      <td>6668.0</td>\n",
       "      <td>57951</td>\n",
       "      <td>1.150627</td>\n",
       "      <td>1996</td>\n",
       "      <td>3</td>\n",
       "      <td>Printemps</td>\n",
       "      <td>1.187015</td>\n",
       "      <td>19.3</td>\n",
       "    </tr>\n",
       "    <tr>\n",
       "      <th>3</th>\n",
       "      <td>3</td>\n",
       "      <td>1996-04-01</td>\n",
       "      <td>France_Métro</td>\n",
       "      <td>Coups et blessures volontaires</td>\n",
       "      <td>6800.0</td>\n",
       "      <td>57963</td>\n",
       "      <td>1.173162</td>\n",
       "      <td>1996</td>\n",
       "      <td>4</td>\n",
       "      <td>Printemps</td>\n",
       "      <td>1.210262</td>\n",
       "      <td>19.3</td>\n",
       "    </tr>\n",
       "    <tr>\n",
       "      <th>4</th>\n",
       "      <td>4</td>\n",
       "      <td>1996-05-01</td>\n",
       "      <td>France_Métro</td>\n",
       "      <td>Coups et blessures volontaires</td>\n",
       "      <td>7415.0</td>\n",
       "      <td>57976</td>\n",
       "      <td>1.278978</td>\n",
       "      <td>1996</td>\n",
       "      <td>5</td>\n",
       "      <td>Printemps</td>\n",
       "      <td>1.319424</td>\n",
       "      <td>19.3</td>\n",
       "    </tr>\n",
       "  </tbody>\n",
       "</table>\n",
       "</div>"
      ],
      "text/plain": [
       "   Unnamed: 0        Date          Zone                      Indicateur  \\\n",
       "0           0  1996-01-01  France_Métro  Coups et blessures volontaires   \n",
       "1           1  1996-02-01  France_Métro  Coups et blessures volontaires   \n",
       "2           2  1996-03-01  France_Métro  Coups et blessures volontaires   \n",
       "3           3  1996-04-01  France_Métro  Coups et blessures volontaires   \n",
       "4           4  1996-05-01  France_Métro  Coups et blessures volontaires   \n",
       "\n",
       "   Nombre  Population  Taux (/10 000)  Année  Mois     Saison  Taux relatif  \\\n",
       "0  5616.0       57936        0.969345   1996     1      Hiver      1.000000   \n",
       "1  6115.0       57943        1.055347   1996     2      Hiver      1.088722   \n",
       "2  6668.0       57951        1.150627   1996     3  Printemps      1.187015   \n",
       "3  6800.0       57963        1.173162   1996     4  Printemps      1.210262   \n",
       "4  7415.0       57976        1.278978   1996     5  Printemps      1.319424   \n",
       "\n",
       "   Taux de pauvreté (%)  \n",
       "0                  19.3  \n",
       "1                  19.3  \n",
       "2                  19.3  \n",
       "3                  19.3  \n",
       "4                  19.3  "
      ]
     },
     "execution_count": 8,
     "metadata": {},
     "output_type": "execute_result"
    }
   ],
   "source": [
    "# Récupération du tableau national d'indicateur de criminalité\n",
    "FILE_PATH_S3_NAT = f\"{MY_BUCKET}/diffusion/df_indicateurs_nat.csv\"\n",
    "with fs.open(FILE_PATH_S3_NAT, \"rb\") as file_in_nat:\n",
    "    df_indicateurs_nat = pd.read_csv(file_in_nat)\n",
    "\n",
    "# Vérification\n",
    "df_indicateurs_nat.head()"
   ]
  },
  {
   "cell_type": "markdown",
   "metadata": {},
   "source": [
    "Pour ce qui est de la délinquance, nous disposons de deux tableaux de données, un à l'échelle départementale et un à l'échelle nationale. On trouve dans chacun d'entre eux huit indicateurs de criminalité et de délinquance construit selon la méthodologie actuelle du ministère de l'intérieur. Les huits indicateurs sont les : *homicides*, *tentatives d'homicides*, *coups et blessures volontaires*, *vols avec violence*, *vols sans violence*, *escroqueries*, *violences sexuelles* et *infractions liées à la consommation ou la vente de stupéfiants*.\n",
    "\n",
    "Nous avons utilisé les nombres brut d'infractions recensées par les forces de l'ordre, par types (107 différents), entre 1996 et 2022, mis à disposition en open data par le ministère de l'intérieur ainsi que les estimations de population de l'INSEE pour obtenir les taux de délinquance (définit comme le rapport du nombre de délit/crime sur la population) associés à chacun des indicateurs.\n",
    "\n",
    "Nous avons également déjà ajouté à ces bases les variables qui nous serviront de contrôle dans la partie modélisation de ce travail. A savoir la densité pour la base départementale et le taux de pauvreté pour la base nationale. La densité sert ici de proxy à la densité urbaine qui pourrait à la fois être un facteur criminogène et un handicap pour le maintien de l'ordre. Elle a été déterminée grâce aux estimations de population déjà mentionnées et aux superficie des départements scrapées de Wikipédia. Le taux de pauvreté a été obtenue via l'INSEE mais malheureusement nous n'avons pas trouvé de données à l'échelle départementale pour toutes les années couvertes par nos bases.\n",
    "\n",
    "La plupart de nos sources comportaient des données manquantes pour les territoires d'Outre-Mer et nous avons donc décidé de centrer notre travail sur la France métropolitaine. De même il n'était pas possible d'obtenir des données à granularité mensuelle pour les données départementales et on s'est donc satisfait d'une granularité annuelle. \n",
    "\n",
    "Vous pouvez trouvez plus de précision sur la construction de ces tables dans le notebook consacré ([juste là !](database_délinquance.ipynb))."
   ]
  },
  {
   "cell_type": "markdown",
   "metadata": {},
   "source": [
    "* #### Tableaux de données concernant la production législative : "
   ]
  },
  {
   "cell_type": "code",
   "execution_count": null,
   "metadata": {},
   "outputs": [
    {
     "data": {
      "text/html": [
       "<div>\n",
       "<style scoped>\n",
       "    .dataframe tbody tr th:only-of-type {\n",
       "        vertical-align: middle;\n",
       "    }\n",
       "\n",
       "    .dataframe tbody tr th {\n",
       "        vertical-align: top;\n",
       "    }\n",
       "\n",
       "    .dataframe thead th {\n",
       "        text-align: right;\n",
       "    }\n",
       "</style>\n",
       "<table border=\"1\" class=\"dataframe\">\n",
       "  <thead>\n",
       "    <tr style=\"text-align: right;\">\n",
       "      <th></th>\n",
       "      <th>Unnamed: 0</th>\n",
       "      <th>Titre</th>\n",
       "      <th>ID</th>\n",
       "      <th>Date</th>\n",
       "      <th>Nature</th>\n",
       "      <th>Etat</th>\n",
       "      <th>Origine</th>\n",
       "      <th>Date Publication</th>\n",
       "      <th>Année</th>\n",
       "      <th>Mois</th>\n",
       "    </tr>\n",
       "  </thead>\n",
       "  <tbody>\n",
       "    <tr>\n",
       "      <th>0</th>\n",
       "      <td>0</td>\n",
       "      <td>Arrêté du 31 décembre 2008 relatif aux modalit...</td>\n",
       "      <td>LEGITEXT000020083722_27-05-2024</td>\n",
       "      <td>2008-12-31</td>\n",
       "      <td>ARRETE</td>\n",
       "      <td>VIGUEUR</td>\n",
       "      <td>LEGI</td>\n",
       "      <td>2009-01-01T00:00:00.000+0000</td>\n",
       "      <td>2009</td>\n",
       "      <td>1</td>\n",
       "    </tr>\n",
       "    <tr>\n",
       "      <th>1</th>\n",
       "      <td>1</td>\n",
       "      <td>Arrêté du 31 décembre 2008 portant création d'...</td>\n",
       "      <td>LEGITEXT000020167092_30-01-2009</td>\n",
       "      <td>2008-12-31</td>\n",
       "      <td>ARRETE</td>\n",
       "      <td>VIGUEUR</td>\n",
       "      <td>LEGI</td>\n",
       "      <td>2009-01-29T00:00:00.000+0000</td>\n",
       "      <td>2009</td>\n",
       "      <td>1</td>\n",
       "    </tr>\n",
       "    <tr>\n",
       "      <th>2</th>\n",
       "      <td>2</td>\n",
       "      <td>Décret n° 2008-1549 du 31 décembre 2008 portan...</td>\n",
       "      <td>LEGITEXT000020080924_02-01-2009</td>\n",
       "      <td>2008-12-31</td>\n",
       "      <td>DECRET</td>\n",
       "      <td>VIGUEUR</td>\n",
       "      <td>LEGI</td>\n",
       "      <td>2009-01-01T00:00:00.000+0000</td>\n",
       "      <td>2009</td>\n",
       "      <td>1</td>\n",
       "    </tr>\n",
       "    <tr>\n",
       "      <th>3</th>\n",
       "      <td>3</td>\n",
       "      <td>Arrêté du 31 décembre 2008 relatif aux modalit...</td>\n",
       "      <td>LEGITEXT000020083722_18-12-2015</td>\n",
       "      <td>2008-12-31</td>\n",
       "      <td>ARRETE</td>\n",
       "      <td>VIGUEUR</td>\n",
       "      <td>LEGI</td>\n",
       "      <td>2009-01-01T00:00:00.000+0000</td>\n",
       "      <td>2009</td>\n",
       "      <td>1</td>\n",
       "    </tr>\n",
       "    <tr>\n",
       "      <th>4</th>\n",
       "      <td>4</td>\n",
       "      <td>Arrêté du 31 décembre 2008 relatif aux modalit...</td>\n",
       "      <td>LEGITEXT000049943833_01-10-2024</td>\n",
       "      <td>2008-12-31</td>\n",
       "      <td>ARRETE</td>\n",
       "      <td>VIGUEUR</td>\n",
       "      <td>LEGI</td>\n",
       "      <td>2009-01-01T00:00:00.000+0000</td>\n",
       "      <td>2009</td>\n",
       "      <td>1</td>\n",
       "    </tr>\n",
       "  </tbody>\n",
       "</table>\n",
       "</div>"
      ],
      "text/plain": [
       "   Unnamed: 0                                              Titre  \\\n",
       "0           0  Arrêté du 31 décembre 2008 relatif aux modalit...   \n",
       "1           1  Arrêté du 31 décembre 2008 portant création d'...   \n",
       "2           2  Décret n° 2008-1549 du 31 décembre 2008 portan...   \n",
       "3           3  Arrêté du 31 décembre 2008 relatif aux modalit...   \n",
       "4           4  Arrêté du 31 décembre 2008 relatif aux modalit...   \n",
       "\n",
       "                                ID        Date  Nature     Etat Origine  \\\n",
       "0  LEGITEXT000020083722_27-05-2024  2008-12-31  ARRETE  VIGUEUR    LEGI   \n",
       "1  LEGITEXT000020167092_30-01-2009  2008-12-31  ARRETE  VIGUEUR    LEGI   \n",
       "2  LEGITEXT000020080924_02-01-2009  2008-12-31  DECRET  VIGUEUR    LEGI   \n",
       "3  LEGITEXT000020083722_18-12-2015  2008-12-31  ARRETE  VIGUEUR    LEGI   \n",
       "4  LEGITEXT000049943833_01-10-2024  2008-12-31  ARRETE  VIGUEUR    LEGI   \n",
       "\n",
       "               Date Publication  Année  Mois  \n",
       "0  2009-01-01T00:00:00.000+0000   2009     1  \n",
       "1  2009-01-29T00:00:00.000+0000   2009     1  \n",
       "2  2009-01-01T00:00:00.000+0000   2009     1  \n",
       "3  2009-01-01T00:00:00.000+0000   2009     1  \n",
       "4  2009-01-01T00:00:00.000+0000   2009     1  "
      ]
     },
     "execution_count": 7,
     "metadata": {},
     "output_type": "execute_result"
    }
   ],
   "source": [
    "# Récupération de la base de données législative\n",
    "FILE_PATH_S3_LODA = f\"{MY_BUCKET}/diffusion/df_loda.csv\"\n",
    "with fs.open(FILE_PATH_S3_LODA, \"rb\") as file_in_loda:\n",
    "    df_loda = pd.read_csv(file_in_loda)\n",
    "\n",
    "# Vérification\n",
    "df_loda.head()"
   ]
  },
  {
   "cell_type": "markdown",
   "metadata": {},
   "source": [
    "En ce qui concerne la production législative, notre DataFrame principal recense le nombre de textes publiés chaque mois, classés par type (Lois, Arrêtés, Ordonnances, Décrets et Décisions) de 2006 à 2022. Ces données proviennent du fonds LODA via l'API délivrée par Légifrance. \n",
    "\n",
    "Cependant, les données ne sont pas exhaustives (et par conséquent non représentatives de l’ensemble de l’activité législative) puisqu'elles ne reflètent pas les modifications législatives plus subtiles, telles que l’alourdissement des peines, la modification d’articles existants ou l’ajout de précisions juridiques (requalification d’une infraction mineure en délit par exemple) qui peuvent avoir un impact significatif sans pour autant générer de nouveaux textes.\n",
    "\n",
    "Ces données offrent, néanmoins, un aperçu des thématiques traitées depuis 2006, mettant en évidence la fréquence de publication des textes législatifs. Cette base de données nous donnent accès au nombre d’occurrences de chaque catégorie de texte sans refléter leur portée ou leur impact réel. Par exemple, une loi largement débattue apparaît de la même manière qu’un arrêté technique de moindre envergure.\n",
    "\n",
    "Cette absence de mesure du degré d’importance ou des modifications souligne les limites de cette étude : l'analyse reste quantitative et des approches en NLP pourrait enrichir la démarche en permettant d'évaluer la sévérité des textes adoptés par exemple. \n",
    "\n",
    "De même vous pouvez, pour plus de détails, consulter le notebook consacré ([ici](database_légifrance.ipynb))."
   ]
  },
  {
   "cell_type": "markdown",
   "metadata": {},
   "source": [
    "## Analyse exploratoire<a class=\"anchor\" id=\"partie4\"></a>"
   ]
  },
  {
   "cell_type": "markdown",
   "metadata": {},
   "source": [
    "### Portrait de la délinquance en France<a class=\"anchor\" id=\"partie41\"></a>"
   ]
  },
  {
   "cell_type": "markdown",
   "metadata": {},
   "source": [
    "#### Description et visualisation<a class=\"anchor\" id=\"partie411\"></a>"
   ]
  },
  {
   "cell_type": "markdown",
   "metadata": {},
   "source": [
    "Etudions d'abord l'évolution de chacun de nos indicateurs sur la période de données disponible (1996 à 2022)."
   ]
  },
  {
   "cell_type": "code",
   "execution_count": null,
   "metadata": {},
   "outputs": [],
   "source": [
    "tracer_evolution_taux(df_indicateurs_nat, charte_graphique, taux = \"Taux (/10 000)\", use_log_scale = True, title=\"Figure 1 - Évolution des taux d'infractions\")"
   ]
  },
  {
   "cell_type": "markdown",
   "metadata": {},
   "source": [
    "Même si l'échelle logarithmique écrase un peu les évolutions de long terme, la Figure 1 permet d'illustrer les évolutions des nombres d'infractions pour 10 000 habitants pour chacun de nos indicateurs. On remarque d'ores et déjà des évolutions contrastées. Certains types d'infractions sont plutôt à la baisse (homicides, vols de tout types) quand d'autres augmentent (tentatives d'homicides, coups et blessures volontaires, escroqueries).\n",
    "\n",
    "De manière générale, les taux d’infraction ne présentent pas de variations brutales au fil du temps : ils suivent une tendance relativement stable à part les homicides et les tentatives d'homicides qui repartent à la hausse depuis la dernières décennies (même si les homicides sont toujours moins fréquents en 2022 qu'en 1996)."
   ]
  },
  {
   "cell_type": "markdown",
   "metadata": {},
   "source": [
    "En normalisant tous les taux à leur valeur en 1996, les Figures 2 et 3 permettent de visualiser l’évolution relative de chaque type d’infraction par rapport à cette année de référence. En particulier, la Figure 3 présente les courbes lissée des tendances grâce à l’application d’un filtre de Savitzky-Golay. Ce filtre est conçu pour lisser les séries temporelles en ajustant des polynômes locaux à travers une fenêtre glissante, ce qui permet d'éliminer le \"bruit\" statistique."
   ]
  },
  {
   "cell_type": "code",
   "execution_count": null,
   "metadata": {},
   "outputs": [],
   "source": [
    "tracer_evolution_taux(df_indicateurs_nat, charte_graphique, taux = \"Taux relatif\", title=\"Figure 2 - Évolution des taux d'infractions (Indice 1 en 1996)\")\n",
    "tracer_evolution_taux_relatif_lisse(df_indicateurs_nat, charte_graphique, title=\"Figure 3 - Evolution des taux d'infractions lissés (Indice approximativement 1 en 1996)\")\n",
    "\n",
    "liste = ['Homicides', \"Tentatives d'homicides\", 'Vols avec violence', 'Vols sans violence', 'Escroquerie', 'Coups et blessures volontaires', 'Violences sexuelles', 'Stupéfiants']\n",
    "for indicateur in liste : \n",
    "    get_increase(df_indicateurs_nat, indicateur=indicateur, date1='1996-01-01', date2='2022-08-01')"
   ]
  },
  {
   "cell_type": "code",
   "execution_count": null,
   "metadata": {},
   "outputs": [],
   "source": [
    "get_increase(df_indicateurs_nat, indicateur='Violences sexuelles', date1='1996-01-01', date2='2007-01-01')\n",
    "get_increase(df_indicateurs_nat, indicateur='Violences sexuelles', date1='2007-01-01', date2='2022-08-01')"
   ]
  },
  {
   "cell_type": "markdown",
   "metadata": {},
   "source": [
    "A nouveau, on constate des tendances contrastées ce qui traduit une transformation des phénomènes délinquants. Les menages seraient moins souvent confrontés à des vols de tout types mais plus souvent à des escroqueries ce qui coincide avec les enquêtes de victimation. Plus généralement, les homicides et vols sont à la baisse alors que le reste des indicateurs augmentent (plus ou moins). On constate par exemple que les coups et blessures volontaires ont plus que quadruplées (augmentation de 438%). Les violences sexuelles augmentent elles-aussi significativement sur la période puisqu'elles font plus que doubler. Dans un contexte de libération de la parole et d’incitation à déposer plainte, notamment à travers l’amélioration (toute relative) des conditions d’accueil des victimes, les personnes déclarent plus fréquemment avoir subi des violences sexuelles et déposent plus souvent plainte. Cette augmentation ne concorde en revanche pas avec les résultats des enquêtes de victimation qui restent plutôt stable. Il est par ailleurs intéressant de constater que l'augmentation des violences sexuelles déclarées est beaucoup plus accrue dans la deuxième moitié de la période (qui correspond à la période d'existence du mouvement Me Too)."
   ]
  },
  {
   "cell_type": "markdown",
   "metadata": {},
   "source": [
    "Enfin, la Figure 4, quant à elle, zoome sur une période spécifique : celle de la pandémie de COVID-19."
   ]
  },
  {
   "cell_type": "code",
   "execution_count": null,
   "metadata": {},
   "outputs": [],
   "source": [
    "tracer_evolution_taux(df_indicateurs_nat, charte_graphique, title=\"Figure 4 - Zoom COVID-19 : Evolution des taux d'infractions (Indice 1 en 1996)\", use_log_scale=False, time_period=[\"2019-01-01\", \"2021-01-01\"])"
   ]
  },
  {
   "cell_type": "markdown",
   "metadata": {},
   "source": [
    "Cette période est marquée par une chute significative de presque tous les indicateurs, avec un creux particulièrement notable en avril 2020, correspondant aux mesures de confinement les plus strictes. Seuls les homicides semblent relativement épargnées par cette baisse, ce qui pourrait s'expliquer par la nature moins opportuniste de ce type de crime (donc moins influencé par les restrictions de mobilité). L'activité criminelle a ainsi été largement perturbée par les restrictions de déplacement, la fermeture des commerces, l'augmentation de la surveillance, etc."
   ]
  },
  {
   "cell_type": "markdown",
   "metadata": {},
   "source": [
    "D'autres tendance globale de l'activité criminelle se remarques dans nos données, notamment une certaine saisonnalité."
   ]
  },
  {
   "cell_type": "code",
   "execution_count": null,
   "metadata": {},
   "outputs": [],
   "source": [
    "boxplot_indicateur_par_saison(df_indicateurs_nat, \"Vols sans violence\", title=\"Figure 5 : Boxplot du taux de vols sans violence selon les saisons\")"
   ]
  },
  {
   "cell_type": "markdown",
   "metadata": {},
   "source": [
    "La Figure 6 n'illustre que le cas des vols sans violences, mais en affichant les autres boxplot, une tendance générale à un taux d'infractions plus élevé en été apparaît pour tous les indicateurs."
   ]
  },
  {
   "cell_type": "markdown",
   "metadata": {},
   "source": [
    "#### Cartographie<a class=\"anchor\" id=\"partie412\"></a>"
   ]
  },
  {
   "cell_type": "markdown",
   "metadata": {},
   "source": [
    "Pour finir, nous une représentation plus visuelle de ces évolutions avec des cartes animées. Il est intéressant de constater que si, pour certains indicateurs certaines concentrations géographiques restent constantes autour du temps (autour de l'Ile de France et de la côté d'Azur souvent), ces phénomène de concentratons n'existent pas pour les homicides ou les violences sexuelles qui semblent beaucoup plus uniformément répartis sur le territoire."
   ]
  },
  {
   "cell_type": "markdown",
   "metadata": {},
   "source": [
    "*NB3 : On s'est rendu compte que les animations ne s'affichaient pas dans le notebook sur GitHub, elles sont donc sauvegardées dans le dossier ***animations*** pour être visualisée au besoin.*"
   ]
  },
  {
   "cell_type": "code",
   "execution_count": null,
   "metadata": {},
   "outputs": [],
   "source": [
    "for indicateur in liste :\n",
    "    evolution_indicateur_animation(df_indicateurs_dep, indicateur)   "
   ]
  },
  {
   "cell_type": "markdown",
   "metadata": {},
   "source": [
    "En parallèle de ces évolutions assez substantielles de nos indicateurs de criminalité, on a cherché à observer si la densité évoluait particulièrement sur la période. En pratique l'échelle du département est probablement trop large pour rendre compte de ces évolutions (les campagnes \"noient\" les évolutions qui sont surtout urbaines). Concrètement, la carte animée est plutôt très statique. Plus généralement, en consultant la littérature associée, il semble que l'inclusion de critère géographique dans l'étude de la criminalité pose souvent ce type de problème puisque l'échelle départementale est souvent inadaptée à l'échelle à laquelle ont étudie souvent les organisations spatiales."
   ]
  },
  {
   "cell_type": "code",
   "execution_count": null,
   "metadata": {},
   "outputs": [],
   "source": [
    "animer_evolution_densite(df=df_indicateurs_dep, colonne_densite='Densité')"
   ]
  },
  {
   "cell_type": "markdown",
   "metadata": {},
   "source": [
    "Si on est très attentif, on voit que l'essentiel des variations se fait au niveau de l'Ile de France, on a donc proposé un zoom au niveau de cette zone géographique, qui résume en pratique quasi la totalité des variations de densité visible à cette échelle."
   ]
  },
  {
   "cell_type": "code",
   "execution_count": null,
   "metadata": {},
   "outputs": [],
   "source": [
    "evolution_idf_animation(df_indicateurs_dep, 'Densité')"
   ]
  },
  {
   "cell_type": "markdown",
   "metadata": {},
   "source": [
    "### La législation sécuritaire en France<a class=\"anchor\" id=\"partie42\"></a>"
   ]
  },
  {
   "cell_type": "markdown",
   "metadata": {},
   "source": [
    "#### Statistiques descriptives<a class=\"anchor\" id=\"partie421\"></a>"
   ]
  },
  {
   "cell_type": "markdown",
   "metadata": {},
   "source": [
    "On cherche, pour cette base de données, à observer les différents types de textes promulgués et leur part respective. Cette analyse est présentée d'abord pour l'ensemble des années (Figure 6), puis décomposée au fil du temps (figures suivantes), permettant ainsi de suivre l'évolution des publications."
   ]
  },
  {
   "cell_type": "code",
   "execution_count": null,
   "metadata": {},
   "outputs": [],
   "source": [
    "camembert(df_loda)"
   ]
  },
  {
   "cell_type": "markdown",
   "metadata": {},
   "source": [
    "La base de données obtenue via l'API est à l'état brute, c'est-à-dire que chaque ligne correspond à une observation : chaque ligne représente, en effet, un texte individuel avec les informations sur sa publication.\n",
    "\n",
    "Afin de produire une visualisation temporelle de ces données, nous avons réorganiser ces données pour obtenir un tableau agrégé qui montre, pour chaque mois, chaque année et chaque type de texte, le nombre de ce type texte de loi promulgués en fonction de sa nature (loi, décret, arrêté, ordonnance). C'est le rôle de la fonction tri_occurrence, en agrégeant les observations par mois et par nature. \n",
    "\n",
    "La ligne de code ci-dessous permet de mieux comprendre l'idée générale du tableau obtenu grâce à la fonction tri_occurrence appliquée au dataframe df_loda initial."
   ]
  },
  {
   "cell_type": "code",
   "execution_count": null,
   "metadata": {},
   "outputs": [],
   "source": [
    "tri_occurrence(df_loda).head(10)"
   ]
  },
  {
   "cell_type": "code",
   "execution_count": null,
   "metadata": {},
   "outputs": [],
   "source": [
    "all = [\"Arrete\", \"Loi\", \"Decret\", \"Ordonnance\"]\n",
    "\n",
    "plot_histogram(tri_occurrence(df_loda), all, numero_figure ='Figure 7')"
   ]
  },
  {
   "cell_type": "markdown",
   "metadata": {},
   "source": [
    "Ce diagramme en barre montre le nombre de textes législatifs publiés de 1996 à 2022. Globalement, on observe une tendance progressive à la hausse de 1996 à 2009 du nombre de publications au cours du temps, jusqu'à atteindre un pic de plus de 300 textes en 2009, puis une légère tendance à la baisse jusqu'en 2020. Les arrêtés (barres vertes) sont la première catégorie la plus fréquente et constituent la majeure partie de l'activité législative, en particulier à partir de 2006. Les lois (bleu clair), décrets (rose pâle) et ordonnances (rouge) sont moins nombreux, mais réguliers et leur volume reste significatif pour l'analyse. Les ordonnances (rouge) sont bien plus rares pendant toute la période étudiée."
   ]
  },
  {
   "cell_type": "code",
   "execution_count": null,
   "metadata": {},
   "outputs": [],
   "source": [
    "tracer_evolution_taux(tri_occurrence(df_loda), charte_graphique3, taux = \"Cumulatif\", title=\"Figure 8 - Évolution du nombre de textes publiés\", xlabel = \"Date\",ylabel = \"Nombre\", time_period = [\"1996-01-01\", \"2022-08-31\"])"
   ]
  },
  {
   "cell_type": "markdown",
   "metadata": {},
   "source": [
    "Cette figure présente l’évolution cumulée des textes publiés au fil du temps et donc permet de visualiser plus clairement la croissance globale de la production législative depuis 1996. La courbe rose (Texte) illustre bien la tendance précédemment mentionnée plutôt décroissante depuis 2009 avec une courbe d'abord linéaire voire concave et convexe ensuite. Elle atteint plus de 15 000 textes en 2022 dont les arrêtés (vert) constituent presque 10 000 publications. Les lois, décrets et ordonnances s’accumulent plus lentement, avec une progression presque linéaire."
   ]
  },
  {
   "cell_type": "markdown",
   "metadata": {},
   "source": [
    "<span style=\"color:red;\">**les 2 prochaiens cases de codes viennet d'un quiproquo, a voir si ca peut servir pour filtrer tout de même**</span>"
   ]
  },
  {
   "cell_type": "markdown",
   "metadata": {},
   "source": [
    "'''\n",
    "Nous allons maintenant concentrer notre analyse sur l'activité législative en lien avec les crimes et les infractions, en écartant les textes qui ne relèvent pas de ces thématiques. L'objectif est de cibler les mesures et décisions ayant un impact sur la justice. Pour ce faire, nous allons rechercher des mots-clés appartenant à ce champ lexical dans les titres des publications, afin de les croiser ultérieurement avec nos données de criminalité.\n",
    "'''"
   ]
  },
  {
   "cell_type": "code",
   "execution_count": null,
   "metadata": {},
   "outputs": [],
   "source": [
    "'''\n",
    "mots_delit_frequents = count_crime_keywords(df_loda)\n",
    "mots_delit_frequents = mots_delit_frequents[mots_delit_frequents['Fréquence']>0]\n",
    "mots_delit_frequents\n",
    "'''"
   ]
  },
  {
   "cell_type": "markdown",
   "metadata": {},
   "source": [
    "'''Les mots revenants le plus souvent sont ceux dont la fréquence (seuil choisit arbitrairement), est au dessus de 10.'''"
   ]
  },
  {
   "cell_type": "code",
   "execution_count": null,
   "metadata": {},
   "outputs": [],
   "source": [
    "# plot_histogram(tri_occurrence(filter_rows_with_keyword(df_loda, 'vol')), all)"
   ]
  },
  {
   "cell_type": "markdown",
   "metadata": {},
   "source": [
    "## Modélisation<a class=\"anchor\" id=\"partie5\"></a>"
   ]
  },
  {
   "cell_type": "markdown",
   "metadata": {},
   "source": [
    "Dans nos deux parties de statistiques descriptives, on a dégagé des saisonnalité annuelle. Pour la modélisation économétrique, on décide d'indicer temporellement nos données par les années pour éviter que ces problèmes de saisonnalité impacte trop l'indépendance des différentes observations utilisées."
   ]
  },
  {
   "cell_type": "markdown",
   "metadata": {},
   "source": [
    "<span style=\"color:red;\">**besoin de la base législative propre et en gros sa forme définitive pour faire quelque chose**</span>"
   ]
  },
  {
   "cell_type": "markdown",
   "metadata": {},
   "source": [
    "### Fusion des bases de données<a class=\"anchor\" id=\"partie51\"></a>"
   ]
  },
  {
   "cell_type": "markdown",
   "metadata": {},
   "source": [
    "### Régression(s ?)<a class=\"anchor\" id=\"partie51\"></a>"
   ]
  },
  {
   "cell_type": "markdown",
   "metadata": {},
   "source": [
    "<span style=\"color:red;\">**la faire, here des indicatiosn tirées de chat et de vergara-merino**</span>"
   ]
  },
  {
   "cell_type": "markdown",
   "metadata": {},
   "source": [
    "\n",
    "Explication de en gros ce que j'ai compris de chatgpt et vergara-merino\n",
    "\n",
    "On peut faire une regréssion de panel de la forme : <br>\n",
    "$$\n",
    "Y_{it} = \\alpha + \\beta \\cdot L_t + \\gamma \\cdot G_{it}+ \\mu _i + \\epsilon _{it}\n",
    "$$\n",
    "\n",
    "où : <br>\n",
    "$Y_{it}$ : Taux de criminalité (pour notre indicateur préféré qu'on choisirat j'imagine) di département i à l'année t<br>\n",
    "$L_t$ : Mesure de l'intensité législative, comme on a pas les arrêtés préfectoraux sur légifrance on est obligé d'en faire une variable constante pour tous les départements i, elle est donc seulement indicée par t (les différences entre departement viennent donc des variables de contrôles à priori)<br>\n",
    "$G_{it}$ : Variable de contrôle : pour la table départementale c'est la densité (en vrai l'échelle départementale est pas hyper appropriée pour l'utiliser comme contrôlé mais bon)<br>\n",
    "$\\mu _i$ : effet fixe aux départements (pour différences structurelles non observées)<br>\n",
    "$\\epsilon _{it}$ : error term<br>\n",
    "\n",
    "\n",
    "Regression simple aussi : <br>\n",
    "$$\n",
    "Y_t = \\alpha + \\beta \\cdot L_t + \\gamma \\cdot G_t + \\epsilon _t\n",
    "$$\n",
    "\n",
    "où : <br>\n",
    "$Y_t$ : Taux de criminalité (pour notre indicateur préféré qu'on choisirat j'imagine)  à l'année t<br>\n",
    "$L_t$ : Mesure de l'intensité législative<br>\n",
    "$G_t$ : Variable de contrôle : pour la table nationale, le taux de pauvreté<br>\n",
    "$\\epsilon _t$ : error term<br>\n"
   ]
  },
  {
   "cell_type": "markdown",
   "metadata": {},
   "source": [
    "Complément chatgpt sur les deux trucs, pas exécuter ces lignes de code, lui demander pour further details"
   ]
  },
  {
   "cell_type": "code",
   "execution_count": null,
   "metadata": {},
   "outputs": [],
   "source": [
    " Mise en Place du Code pour regression de panel:\n",
    "Bibliothèque Python : Utilise statsmodels ou linearmodels pour estimer les régressions de panel.\n",
    "Exemple de Code :\n",
    "\n",
    "from linearmodels.panel import PanelOLS\n",
    "import pandas as pd\n",
    "\n",
    "# Chargement des données en format panel\n",
    "data = pd.read_csv(\"data_panel.csv\")  # Assure-toi que le dataset est au format long\n",
    "data = data.set_index(['department', 'year'])\n",
    "\n",
    "# Modèle à Effets Fixes\n",
    "model = PanelOLS.from_formula('Y ~ L + G + EntityEffects', data=data)\n",
    "results = model.fit()\n",
    "print(results.summary)\n"
   ]
  },
  {
   "cell_type": "code",
   "execution_count": null,
   "metadata": {},
   "outputs": [],
   "source": [
    "Suggestions :\n",
    "Inclure des retards législatifs : Les lois peuvent ne pas avoir d'effet immédiat. Tu pourrais tester des versions retardées de \n",
    "𝐿𝑡 (par exemple, 𝐿𝑡−1,𝐿𝑡−2)\n",
    "\n",
    "Validation des hypothèses : Vérifie que les résidus ne sont pas autocorrélés (test de Durbin-Watson, etc.).\n",
    "\n",
    "3. Mise en Place du Code :\n",
    "Bibliothèque Python : statsmodels pour les régressions simples.\n",
    "Exemple de Code :\n",
    "python\n",
    "Copier le code\n",
    "import statsmodels.api as sm\n",
    "\n",
    "# Préparer les variables\n",
    "X = df[['L', 'G']]  # Variables explicatives\n",
    "X = sm.add_constant(X)  # Ajoute une constante pour l'intercept\n",
    "Y = df['Y']  # Variable dépendante\n",
    "\n",
    "# Régression simple\n",
    "model = sm.OLS(Y, X)\n",
    "results = model.fit()\n",
    "print(results.summary())"
   ]
  },
  {
   "cell_type": "markdown",
   "metadata": {},
   "source": [
    "## Conclusion et perspectives<a class=\"anchor\" id=\"partie6\"></a>"
   ]
  }
 ],
 "metadata": {
  "kernelspec": {
   "display_name": "base",
   "language": "python",
   "name": "python3"
  },
  "language_info": {
   "codemirror_mode": {
    "name": "ipython",
    "version": 3
   },
   "file_extension": ".py",
   "mimetype": "text/x-python",
   "name": "python",
   "nbconvert_exporter": "python",
   "pygments_lexer": "ipython3",
   "version": "3.12.7"
  }
 },
 "nbformat": 4,
 "nbformat_minor": 2
}
